{
 "cells": [
  {
   "cell_type": "code",
   "execution_count": 25,
   "metadata": {},
   "outputs": [],
   "source": [
    "import tweepy\n",
    "import json\n",
    "import re\n",
    "import arrow\n",
    "import spacy\n",
    "import pandas as pd\n",
    "import numpy as np\n",
    "import matplotlib.pyplot as plt\n",
    "from datetime import datetime\n",
    "from pytz import timezone\n",
    "from dateutil.parser import parse\n",
    "from textblob import TextBlob\n",
    "from xml.sax.saxutils import unescape\n",
    "from vaderSentiment.vaderSentiment import SentimentIntensityAnalyzer\n",
    "from nltk.corpus import stopwords\n",
    "from sklearn.feature_extraction.text import TfidfVectorizer\n",
    "from sklearn.model_selection import train_test_split\n",
    "import tensorflow as tf\n",
    "from tensorflow import keras\n",
    "from tensorflow.keras import layers\n",
    "from tensorflow.keras.regularizers import L1L2\n",
    "from tensorflow.keras import backend as K\n",
    "from tensorflow.keras.callbacks import EarlyStopping\n",
    "from tensorflow.keras.preprocessing.text import Tokenizer\n",
    "from tensorflow.keras.preprocessing.sequence import pad_sequences\n",
    "\n",
    "stop_words = stopwords.words(\"english\")\n",
    "spc = spacy.load('en')"
   ]
  },
  {
   "cell_type": "code",
   "execution_count": 85,
   "metadata": {},
   "outputs": [
    {
     "data": {
      "text/html": [
       "<div>\n",
       "<style scoped>\n",
       "    .dataframe tbody tr th:only-of-type {\n",
       "        vertical-align: middle;\n",
       "    }\n",
       "\n",
       "    .dataframe tbody tr th {\n",
       "        vertical-align: top;\n",
       "    }\n",
       "\n",
       "    .dataframe thead th {\n",
       "        text-align: right;\n",
       "    }\n",
       "</style>\n",
       "<table border=\"1\" class=\"dataframe\">\n",
       "  <thead>\n",
       "    <tr style=\"text-align: right;\">\n",
       "      <th></th>\n",
       "      <th>id</th>\n",
       "      <th>created_at</th>\n",
       "      <th>source</th>\n",
       "      <th>year</th>\n",
       "      <th>month</th>\n",
       "      <th>day</th>\n",
       "      <th>hour</th>\n",
       "      <th>day_of_week</th>\n",
       "      <th>week</th>\n",
       "      <th>is_reply</th>\n",
       "      <th>...</th>\n",
       "      <th>tb_subjectivity</th>\n",
       "      <th>tb_orientation</th>\n",
       "      <th>tb_explanatory</th>\n",
       "      <th>vd_neg</th>\n",
       "      <th>vd_neu</th>\n",
       "      <th>vd_pos</th>\n",
       "      <th>vd_compound</th>\n",
       "      <th>vd_orientation</th>\n",
       "      <th>k_cluster</th>\n",
       "      <th>a_cluster</th>\n",
       "    </tr>\n",
       "  </thead>\n",
       "  <tbody>\n",
       "    <tr>\n",
       "      <th>0</th>\n",
       "      <td>1256024228777857025</td>\n",
       "      <td>Fri May 01 00:54:46 +0000 2020</td>\n",
       "      <td>Twitter for iPhone</td>\n",
       "      <td>2020</td>\n",
       "      <td>4</td>\n",
       "      <td>30</td>\n",
       "      <td>20</td>\n",
       "      <td>4</td>\n",
       "      <td>17</td>\n",
       "      <td>False</td>\n",
       "      <td>...</td>\n",
       "      <td>0.825000</td>\n",
       "      <td>negative</td>\n",
       "      <td>subjective</td>\n",
       "      <td>0.373</td>\n",
       "      <td>0.627</td>\n",
       "      <td>0.000</td>\n",
       "      <td>-0.8786</td>\n",
       "      <td>negative</td>\n",
       "      <td>24</td>\n",
       "      <td>0</td>\n",
       "    </tr>\n",
       "    <tr>\n",
       "      <th>1</th>\n",
       "      <td>1256016249169084417</td>\n",
       "      <td>Fri May 01 00:23:04 +0000 2020</td>\n",
       "      <td>Twitter for iPhone</td>\n",
       "      <td>2020</td>\n",
       "      <td>4</td>\n",
       "      <td>30</td>\n",
       "      <td>20</td>\n",
       "      <td>4</td>\n",
       "      <td>17</td>\n",
       "      <td>False</td>\n",
       "      <td>...</td>\n",
       "      <td>0.750000</td>\n",
       "      <td>positive</td>\n",
       "      <td>subjective</td>\n",
       "      <td>0.205</td>\n",
       "      <td>0.671</td>\n",
       "      <td>0.123</td>\n",
       "      <td>-0.4168</td>\n",
       "      <td>negative</td>\n",
       "      <td>24</td>\n",
       "      <td>0</td>\n",
       "    </tr>\n",
       "    <tr>\n",
       "      <th>2</th>\n",
       "      <td>1256013240896835585</td>\n",
       "      <td>Fri May 01 00:11:06 +0000 2020</td>\n",
       "      <td>Twitter for iPhone</td>\n",
       "      <td>2020</td>\n",
       "      <td>4</td>\n",
       "      <td>30</td>\n",
       "      <td>20</td>\n",
       "      <td>4</td>\n",
       "      <td>17</td>\n",
       "      <td>True</td>\n",
       "      <td>...</td>\n",
       "      <td>0.397222</td>\n",
       "      <td>positive</td>\n",
       "      <td>objective</td>\n",
       "      <td>0.072</td>\n",
       "      <td>0.740</td>\n",
       "      <td>0.189</td>\n",
       "      <td>0.6885</td>\n",
       "      <td>positive</td>\n",
       "      <td>12</td>\n",
       "      <td>0</td>\n",
       "    </tr>\n",
       "    <tr>\n",
       "      <th>3</th>\n",
       "      <td>1256013239487549441</td>\n",
       "      <td>Fri May 01 00:11:06 +0000 2020</td>\n",
       "      <td>Twitter for iPhone</td>\n",
       "      <td>2020</td>\n",
       "      <td>4</td>\n",
       "      <td>30</td>\n",
       "      <td>20</td>\n",
       "      <td>4</td>\n",
       "      <td>17</td>\n",
       "      <td>False</td>\n",
       "      <td>...</td>\n",
       "      <td>0.633333</td>\n",
       "      <td>positive</td>\n",
       "      <td>subjective</td>\n",
       "      <td>0.046</td>\n",
       "      <td>0.640</td>\n",
       "      <td>0.314</td>\n",
       "      <td>0.9439</td>\n",
       "      <td>positive</td>\n",
       "      <td>24</td>\n",
       "      <td>0</td>\n",
       "    </tr>\n",
       "    <tr>\n",
       "      <th>4</th>\n",
       "      <td>1255926261068763143</td>\n",
       "      <td>Thu Apr 30 18:25:29 +0000 2020</td>\n",
       "      <td>Twitter for iPhone</td>\n",
       "      <td>2020</td>\n",
       "      <td>4</td>\n",
       "      <td>30</td>\n",
       "      <td>14</td>\n",
       "      <td>4</td>\n",
       "      <td>17</td>\n",
       "      <td>False</td>\n",
       "      <td>...</td>\n",
       "      <td>0.400000</td>\n",
       "      <td>positive</td>\n",
       "      <td>objective</td>\n",
       "      <td>0.000</td>\n",
       "      <td>1.000</td>\n",
       "      <td>0.000</td>\n",
       "      <td>0.0000</td>\n",
       "      <td>neutral</td>\n",
       "      <td>24</td>\n",
       "      <td>0</td>\n",
       "    </tr>\n",
       "  </tbody>\n",
       "</table>\n",
       "<p>5 rows × 28 columns</p>\n",
       "</div>"
      ],
      "text/plain": [
       "                    id                      created_at              source  \\\n",
       "0  1256024228777857025  Fri May 01 00:54:46 +0000 2020  Twitter for iPhone   \n",
       "1  1256016249169084417  Fri May 01 00:23:04 +0000 2020  Twitter for iPhone   \n",
       "2  1256013240896835585  Fri May 01 00:11:06 +0000 2020  Twitter for iPhone   \n",
       "3  1256013239487549441  Fri May 01 00:11:06 +0000 2020  Twitter for iPhone   \n",
       "4  1255926261068763143  Thu Apr 30 18:25:29 +0000 2020  Twitter for iPhone   \n",
       "\n",
       "   year  month  day  hour  day_of_week  week  is_reply  ...  tb_subjectivity  \\\n",
       "0  2020      4   30    20            4    17     False  ...         0.825000   \n",
       "1  2020      4   30    20            4    17     False  ...         0.750000   \n",
       "2  2020      4   30    20            4    17      True  ...         0.397222   \n",
       "3  2020      4   30    20            4    17     False  ...         0.633333   \n",
       "4  2020      4   30    14            4    17     False  ...         0.400000   \n",
       "\n",
       "  tb_orientation tb_explanatory vd_neg  vd_neu  vd_pos vd_compound  \\\n",
       "0       negative     subjective  0.373   0.627   0.000     -0.8786   \n",
       "1       positive     subjective  0.205   0.671   0.123     -0.4168   \n",
       "2       positive      objective  0.072   0.740   0.189      0.6885   \n",
       "3       positive     subjective  0.046   0.640   0.314      0.9439   \n",
       "4       positive      objective  0.000   1.000   0.000      0.0000   \n",
       "\n",
       "   vd_orientation  k_cluster a_cluster  \n",
       "0        negative         24         0  \n",
       "1        negative         24         0  \n",
       "2        positive         12         0  \n",
       "3        positive         24         0  \n",
       "4         neutral         24         0  \n",
       "\n",
       "[5 rows x 28 columns]"
      ]
     },
     "execution_count": 85,
     "metadata": {},
     "output_type": "execute_result"
    }
   ],
   "source": [
    "trump = pd.read_csv('trump_clustered_new.csv')\n",
    "trump.head()"
   ]
  },
  {
   "cell_type": "code",
   "execution_count": 86,
   "metadata": {},
   "outputs": [],
   "source": [
    "trump['orientation'] = np.where(trump['tb_orientation'] == trump['vd_orientation'], trump['tb_orientation'], np.nan)"
   ]
  },
  {
   "cell_type": "code",
   "execution_count": 87,
   "metadata": {},
   "outputs": [
    {
     "name": "stdout",
     "output_type": "stream",
     "text": [
      "(4739, 29)\n",
      "(3257, 29)\n",
      "(1482, 29)\n"
     ]
    }
   ],
   "source": [
    "labelled = trump[trump['orientation'].notna()]\n",
    "unlabelled = trump[trump['orientation'].isna()]\n",
    "print(trump.shape)\n",
    "print(labelled.shape)\n",
    "print(unlabelled.shape)"
   ]
  },
  {
   "cell_type": "code",
   "execution_count": 17,
   "metadata": {},
   "outputs": [],
   "source": [
    "def clean_text(df)  :\n",
    "    # remove hyperlinks / digits / accounts\n",
    "    regex = r'(@[A-Za-z0-9]+)|(&amp;)|(\\w+:\\/\\/\\S+)|([A-Za-z]+[\\d@]+[\\w@]*|[\\d@]+[A-Za-z]+[\\w@]*)|(\\d+\\s)|(\\s\\d+\\s)$'\n",
    "    text_cleaned = df['text'].apply(lambda t: ' '.join(i for i in re.sub(regex, ' ', t).split() if i not in stop_words))\n",
    "    return pd.concat([df['orientation'], text_cleaned], axis=1)"
   ]
  },
  {
   "cell_type": "code",
   "execution_count": 18,
   "metadata": {},
   "outputs": [],
   "source": [
    "labelled = clean_text(labelled)\n",
    "unlabelled = clean_text(unlabelled)"
   ]
  },
  {
   "cell_type": "code",
   "execution_count": 19,
   "metadata": {},
   "outputs": [],
   "source": [
    "tokenizer = Tokenizer(num_words = 280, oov_token='<OOV>')\n",
    "\n",
    "# create a 'word_index' dictionary based on word frequency\n",
    "tokenizer.fit_on_texts(labelled['text'])\n",
    "\n",
    "# replace words with corresponding integer values from 'word_index' dictionary\n",
    "train_seq = tokenizer.texts_to_sequences(labelled['text'])\n",
    "\n",
    "# pad the values so they have equal lengths to form a tensor\n",
    "train_padded = pad_sequences(train_seq, maxlen=280, padding='post', truncating='post')"
   ]
  },
  {
   "cell_type": "code",
   "execution_count": 20,
   "metadata": {},
   "outputs": [],
   "source": [
    "# convert orientation labels to integers\n",
    "label_tokenizer = Tokenizer()\n",
    "label_tokenizer.fit_on_texts(labelled['orientation'])\n",
    "train_label_seq = np.array(label_tokenizer.texts_to_sequences(labelled['orientation'])) - 1\n",
    "\n",
    "# one-hot encoding \n",
    "train_label = tf.keras.utils.to_categorical(train_label_seq, num_classes=3)"
   ]
  },
  {
   "cell_type": "code",
   "execution_count": 21,
   "metadata": {},
   "outputs": [],
   "source": [
    "X_train, X_val, y_train, y_val = train_test_split(train_padded, train_label, \n",
    "                                                  test_size = 0.2, stratify=train_label)"
   ]
  },
  {
   "cell_type": "code",
   "execution_count": 22,
   "metadata": {},
   "outputs": [
    {
     "name": "stdout",
     "output_type": "stream",
     "text": [
      "WARNING:tensorflow:Entity <function standard_lstm at 0x1a2daf89d8> could not be transformed and will be executed as-is. Please report this to the AutoGraph team. When filing the bug, set the verbosity to 10 (on Linux, `export AUTOGRAPH_VERBOSITY=10`) and attach the full output. Cause: converting <function standard_lstm at 0x1a2daf89d8>: AttributeError: module 'gast' has no attribute 'Num'\n",
      "WARNING: Entity <function standard_lstm at 0x1a2daf89d8> could not be transformed and will be executed as-is. Please report this to the AutoGraph team. When filing the bug, set the verbosity to 10 (on Linux, `export AUTOGRAPH_VERBOSITY=10`) and attach the full output. Cause: converting <function standard_lstm at 0x1a2daf89d8>: AttributeError: module 'gast' has no attribute 'Num'\n",
      "WARNING:tensorflow:Entity <function cudnn_lstm at 0x1a2daf8a60> could not be transformed and will be executed as-is. Please report this to the AutoGraph team. When filing the bug, set the verbosity to 10 (on Linux, `export AUTOGRAPH_VERBOSITY=10`) and attach the full output. Cause: converting <function cudnn_lstm at 0x1a2daf8a60>: AttributeError: module 'gast' has no attribute 'Num'\n",
      "WARNING: Entity <function cudnn_lstm at 0x1a2daf8a60> could not be transformed and will be executed as-is. Please report this to the AutoGraph team. When filing the bug, set the verbosity to 10 (on Linux, `export AUTOGRAPH_VERBOSITY=10`) and attach the full output. Cause: converting <function cudnn_lstm at 0x1a2daf8a60>: AttributeError: module 'gast' has no attribute 'Num'\n",
      "WARNING:tensorflow:Entity <function standard_lstm at 0x1a2daf89d8> could not be transformed and will be executed as-is. Please report this to the AutoGraph team. When filing the bug, set the verbosity to 10 (on Linux, `export AUTOGRAPH_VERBOSITY=10`) and attach the full output. Cause: converting <function standard_lstm at 0x1a2daf89d8>: AttributeError: module 'gast' has no attribute 'Num'\n",
      "WARNING: Entity <function standard_lstm at 0x1a2daf89d8> could not be transformed and will be executed as-is. Please report this to the AutoGraph team. When filing the bug, set the verbosity to 10 (on Linux, `export AUTOGRAPH_VERBOSITY=10`) and attach the full output. Cause: converting <function standard_lstm at 0x1a2daf89d8>: AttributeError: module 'gast' has no attribute 'Num'\n",
      "WARNING:tensorflow:Entity <function cudnn_lstm at 0x1a2daf8a60> could not be transformed and will be executed as-is. Please report this to the AutoGraph team. When filing the bug, set the verbosity to 10 (on Linux, `export AUTOGRAPH_VERBOSITY=10`) and attach the full output. Cause: converting <function cudnn_lstm at 0x1a2daf8a60>: AttributeError: module 'gast' has no attribute 'Num'\n",
      "WARNING: Entity <function cudnn_lstm at 0x1a2daf8a60> could not be transformed and will be executed as-is. Please report this to the AutoGraph team. When filing the bug, set the verbosity to 10 (on Linux, `export AUTOGRAPH_VERBOSITY=10`) and attach the full output. Cause: converting <function cudnn_lstm at 0x1a2daf8a60>: AttributeError: module 'gast' has no attribute 'Num'\n"
     ]
    }
   ],
   "source": [
    "embedding_dim = 64\n",
    "model = tf.keras.Sequential([\n",
    "    tf.keras.layers.Embedding(280, embedding_dim),\n",
    "    tf.keras.layers.Bidirectional(tf.keras.layers.LSTM(embedding_dim)),\n",
    "    tf.keras.layers.Dense(embedding_dim, activation='relu'),\n",
    "    tf.keras.layers.Dense(3, activation='softmax')\n",
    "])\n",
    "model.compile(loss='categorical_crossentropy', optimizer='adam', metrics=['accuracy'])"
   ]
  },
  {
   "cell_type": "code",
   "execution_count": 23,
   "metadata": {},
   "outputs": [
    {
     "name": "stdout",
     "output_type": "stream",
     "text": [
      "WARNING:tensorflow:From /Users/carollam/anaconda3/lib/python3.7/site-packages/tensorflow/python/ops/math_grad.py:1250: add_dispatch_support.<locals>.wrapper (from tensorflow.python.ops.array_ops) is deprecated and will be removed in a future version.\n",
      "Instructions for updating:\n",
      "Use tf.where in 2.0, which has the same broadcast rule as np.where\n",
      "Train on 2605 samples, validate on 652 samples\n",
      "Epoch 1/10\n",
      "2605/2605 - 32s - loss: 0.7993 - accuracy: 0.6587 - val_loss: 0.6890 - val_accuracy: 0.6595\n",
      "Epoch 2/10\n",
      "2605/2605 - 36s - loss: 0.5459 - accuracy: 0.7574 - val_loss: 0.4081 - val_accuracy: 0.8206\n",
      "Epoch 3/10\n",
      "2605/2605 - 35s - loss: 0.3960 - accuracy: 0.8395 - val_loss: 0.3881 - val_accuracy: 0.8344\n",
      "Epoch 4/10\n",
      "2605/2605 - 32s - loss: 0.3597 - accuracy: 0.8545 - val_loss: 0.3975 - val_accuracy: 0.8374\n",
      "Epoch 5/10\n",
      "2605/2605 - 34s - loss: 0.3209 - accuracy: 0.8729 - val_loss: 0.3520 - val_accuracy: 0.8558\n",
      "Epoch 6/10\n",
      "2605/2605 - 30s - loss: 0.3017 - accuracy: 0.8841 - val_loss: 0.3713 - val_accuracy: 0.8482\n",
      "Epoch 7/10\n",
      "2605/2605 - 32s - loss: 0.2896 - accuracy: 0.8852 - val_loss: 0.3630 - val_accuracy: 0.8528\n",
      "Epoch 8/10\n",
      "2605/2605 - 33s - loss: 0.2738 - accuracy: 0.8925 - val_loss: 0.3708 - val_accuracy: 0.8512\n",
      "Epoch 9/10\n",
      "2605/2605 - 29s - loss: 0.2717 - accuracy: 0.8910 - val_loss: 0.3587 - val_accuracy: 0.8558\n",
      "Epoch 10/10\n",
      "2605/2605 - 27s - loss: 0.2614 - accuracy: 0.8964 - val_loss: 0.3928 - val_accuracy: 0.8635\n"
     ]
    }
   ],
   "source": [
    "num_epochs = 10\n",
    "history = model.fit(X_train, y_train, epochs=num_epochs, \n",
    "                    validation_data=(X_val, y_val), verbose=2)"
   ]
  },
  {
   "cell_type": "code",
   "execution_count": 24,
   "metadata": {},
   "outputs": [
    {
     "data": {
      "image/png": "[encoded data removed]",
      "text/plain": [
       "<Figure size 432x288 with 1 Axes>"
      ]
     },
     "metadata": {
      "needs_background": "light"
     },
     "output_type": "display_data"
    },
    {
     "data": {
      "image/png": "[encoded data removed]",
      "text/plain": [
       "<Figure size 432x288 with 1 Axes>"
      ]
     },
     "metadata": {
      "needs_background": "light"
     },
     "output_type": "display_data"
    }
   ],
   "source": [
    "def plot_graphs(history, string):\n",
    "    plt.plot(history.history[string])\n",
    "    plt.plot(history.history['val_'+string])\n",
    "    plt.xlabel(\"Epochs\")\n",
    "    plt.ylabel(string)\n",
    "    plt.legend([string, 'val_'+string])\n",
    "    plt.show()\n",
    "\n",
    "plot_graphs(history, \"accuracy\")\n",
    "plot_graphs(history, \"loss\")"
   ]
  },
  {
   "cell_type": "code",
   "execution_count": null,
   "metadata": {},
   "outputs": [],
   "source": [
    "model.save('rnn1')"
   ]
  },
  {
   "cell_type": "code",
   "execution_count": 44,
   "metadata": {},
   "outputs": [],
   "source": [
    "test_seq = tokenizer.texts_to_sequences(unlabelled['text'])\n",
    "test_padded = pad_sequences(test_seq, maxlen=280, padding='post', truncating='post')"
   ]
  },
  {
   "cell_type": "code",
   "execution_count": 30,
   "metadata": {},
   "outputs": [],
   "source": [
    "# result = model.predict(test_padded)\n",
    "# result = tf.argmax(result, axis=1).numpy()\n",
    "# result = [[r] for r in (result + 1)]\n",
    "# result = [t for t in label_tokenizer.sequences_to_texts_generator(result)]"
   ]
  },
  {
   "cell_type": "code",
   "execution_count": 52,
   "metadata": {},
   "outputs": [
    {
     "data": {
      "text/plain": [
       "array([[9.9187851e-01, 8.1121624e-03, 9.3753943e-06],\n",
       "       [9.8426855e-01, 1.5692052e-02, 3.9428018e-05],\n",
       "       [8.9527410e-01, 2.7387273e-02, 7.7338658e-02],\n",
       "       ...,\n",
       "       [2.1874543e-01, 2.1024060e-01, 5.7101399e-01],\n",
       "       [1.6855945e-01, 8.1795901e-01, 1.3481478e-02],\n",
       "       [9.9614269e-01, 3.8542661e-03, 3.0588424e-06]], dtype=float32)"
      ]
     },
     "execution_count": 52,
     "metadata": {},
     "output_type": "execute_result"
    }
   ],
   "source": [
    "result = model.predict(test_padded)\n",
    "result"
   ]
  },
  {
   "cell_type": "code",
   "execution_count": 89,
   "metadata": {},
   "outputs": [
    {
     "data": {
      "text/plain": [
       "array(['positive', 'positive', 'nan', ..., 'nan', 'nan', 'positive'],\n",
       "      dtype='<U8')"
      ]
     },
     "execution_count": 89,
     "metadata": {},
     "output_type": "execute_result"
    }
   ],
   "source": [
    "result_label = tf.argmax(result, axis=1).numpy()\n",
    "result_label = [[r] for r in (result_label + 1)]\n",
    "result_label = np.array([t for t in label_tokenizer.sequences_to_texts_generator(result_label)])\n",
    "result_label[np.where(np.max(result, axis=1) < 0.9)] = np.nan\n",
    "result_label"
   ]
  },
  {
   "cell_type": "code",
   "execution_count": 90,
   "metadata": {},
   "outputs": [
    {
     "name": "stderr",
     "output_type": "stream",
     "text": [
      "/Users/carollam/anaconda3/lib/python3.7/site-packages/ipykernel_launcher.py:1: SettingWithCopyWarning: \n",
      "A value is trying to be set on a copy of a slice from a DataFrame.\n",
      "Try using .loc[row_indexer,col_indexer] = value instead\n",
      "\n",
      "See the caveats in the documentation: http://pandas.pydata.org/pandas-docs/stable/indexing.html#indexing-view-versus-copy\n",
      "  \"\"\"Entry point for launching an IPython kernel.\n"
     ]
    },
    {
     "data": {
      "text/plain": [
       "1     positive\n",
       "4     positive\n",
       "10         nan\n",
       "11         nan\n",
       "14    negative\n",
       "Name: orientation_rnn, dtype: object"
      ]
     },
     "execution_count": 90,
     "metadata": {},
     "output_type": "execute_result"
    }
   ],
   "source": [
    "unlabelled['orientation'] = result_label\n",
    "unlabelled = unlabelled['orientation']\n",
    "unlabelled = unlabelled.rename('orientation_rnn') \n",
    "unlabelled.head()"
   ]
  },
  {
   "cell_type": "code",
   "execution_count": 91,
   "metadata": {},
   "outputs": [
    {
     "data": {
      "text/html": [
       "<div>\n",
       "<style scoped>\n",
       "    .dataframe tbody tr th:only-of-type {\n",
       "        vertical-align: middle;\n",
       "    }\n",
       "\n",
       "    .dataframe tbody tr th {\n",
       "        vertical-align: top;\n",
       "    }\n",
       "\n",
       "    .dataframe thead th {\n",
       "        text-align: right;\n",
       "    }\n",
       "</style>\n",
       "<table border=\"1\" class=\"dataframe\">\n",
       "  <thead>\n",
       "    <tr style=\"text-align: right;\">\n",
       "      <th></th>\n",
       "      <th>id</th>\n",
       "      <th>created_at</th>\n",
       "      <th>source</th>\n",
       "      <th>year</th>\n",
       "      <th>month</th>\n",
       "      <th>day</th>\n",
       "      <th>hour</th>\n",
       "      <th>day_of_week</th>\n",
       "      <th>week</th>\n",
       "      <th>is_reply</th>\n",
       "      <th>...</th>\n",
       "      <th>tb_orientation</th>\n",
       "      <th>tb_explanatory</th>\n",
       "      <th>vd_neg</th>\n",
       "      <th>vd_neu</th>\n",
       "      <th>vd_pos</th>\n",
       "      <th>vd_compound</th>\n",
       "      <th>vd_orientation</th>\n",
       "      <th>k_cluster</th>\n",
       "      <th>a_cluster</th>\n",
       "      <th>orientation</th>\n",
       "    </tr>\n",
       "  </thead>\n",
       "  <tbody>\n",
       "    <tr>\n",
       "      <th>0</th>\n",
       "      <td>1256024228777857025</td>\n",
       "      <td>Fri May 01 00:54:46 +0000 2020</td>\n",
       "      <td>Twitter for iPhone</td>\n",
       "      <td>2020</td>\n",
       "      <td>4</td>\n",
       "      <td>30</td>\n",
       "      <td>20</td>\n",
       "      <td>4</td>\n",
       "      <td>17</td>\n",
       "      <td>False</td>\n",
       "      <td>...</td>\n",
       "      <td>negative</td>\n",
       "      <td>subjective</td>\n",
       "      <td>0.373</td>\n",
       "      <td>0.627</td>\n",
       "      <td>0.000</td>\n",
       "      <td>-0.8786</td>\n",
       "      <td>negative</td>\n",
       "      <td>24</td>\n",
       "      <td>0</td>\n",
       "      <td>negative</td>\n",
       "    </tr>\n",
       "    <tr>\n",
       "      <th>1</th>\n",
       "      <td>1256016249169084417</td>\n",
       "      <td>Fri May 01 00:23:04 +0000 2020</td>\n",
       "      <td>Twitter for iPhone</td>\n",
       "      <td>2020</td>\n",
       "      <td>4</td>\n",
       "      <td>30</td>\n",
       "      <td>20</td>\n",
       "      <td>4</td>\n",
       "      <td>17</td>\n",
       "      <td>False</td>\n",
       "      <td>...</td>\n",
       "      <td>positive</td>\n",
       "      <td>subjective</td>\n",
       "      <td>0.205</td>\n",
       "      <td>0.671</td>\n",
       "      <td>0.123</td>\n",
       "      <td>-0.4168</td>\n",
       "      <td>negative</td>\n",
       "      <td>24</td>\n",
       "      <td>0</td>\n",
       "      <td>positive</td>\n",
       "    </tr>\n",
       "    <tr>\n",
       "      <th>2</th>\n",
       "      <td>1256013240896835585</td>\n",
       "      <td>Fri May 01 00:11:06 +0000 2020</td>\n",
       "      <td>Twitter for iPhone</td>\n",
       "      <td>2020</td>\n",
       "      <td>4</td>\n",
       "      <td>30</td>\n",
       "      <td>20</td>\n",
       "      <td>4</td>\n",
       "      <td>17</td>\n",
       "      <td>True</td>\n",
       "      <td>...</td>\n",
       "      <td>positive</td>\n",
       "      <td>objective</td>\n",
       "      <td>0.072</td>\n",
       "      <td>0.740</td>\n",
       "      <td>0.189</td>\n",
       "      <td>0.6885</td>\n",
       "      <td>positive</td>\n",
       "      <td>12</td>\n",
       "      <td>0</td>\n",
       "      <td>positive</td>\n",
       "    </tr>\n",
       "    <tr>\n",
       "      <th>3</th>\n",
       "      <td>1256013239487549441</td>\n",
       "      <td>Fri May 01 00:11:06 +0000 2020</td>\n",
       "      <td>Twitter for iPhone</td>\n",
       "      <td>2020</td>\n",
       "      <td>4</td>\n",
       "      <td>30</td>\n",
       "      <td>20</td>\n",
       "      <td>4</td>\n",
       "      <td>17</td>\n",
       "      <td>False</td>\n",
       "      <td>...</td>\n",
       "      <td>positive</td>\n",
       "      <td>subjective</td>\n",
       "      <td>0.046</td>\n",
       "      <td>0.640</td>\n",
       "      <td>0.314</td>\n",
       "      <td>0.9439</td>\n",
       "      <td>positive</td>\n",
       "      <td>24</td>\n",
       "      <td>0</td>\n",
       "      <td>positive</td>\n",
       "    </tr>\n",
       "    <tr>\n",
       "      <th>4</th>\n",
       "      <td>1255926261068763143</td>\n",
       "      <td>Thu Apr 30 18:25:29 +0000 2020</td>\n",
       "      <td>Twitter for iPhone</td>\n",
       "      <td>2020</td>\n",
       "      <td>4</td>\n",
       "      <td>30</td>\n",
       "      <td>14</td>\n",
       "      <td>4</td>\n",
       "      <td>17</td>\n",
       "      <td>False</td>\n",
       "      <td>...</td>\n",
       "      <td>positive</td>\n",
       "      <td>objective</td>\n",
       "      <td>0.000</td>\n",
       "      <td>1.000</td>\n",
       "      <td>0.000</td>\n",
       "      <td>0.0000</td>\n",
       "      <td>neutral</td>\n",
       "      <td>24</td>\n",
       "      <td>0</td>\n",
       "      <td>positive</td>\n",
       "    </tr>\n",
       "  </tbody>\n",
       "</table>\n",
       "<p>5 rows × 29 columns</p>\n",
       "</div>"
      ],
      "text/plain": [
       "                    id                      created_at              source  \\\n",
       "0  1256024228777857025  Fri May 01 00:54:46 +0000 2020  Twitter for iPhone   \n",
       "1  1256016249169084417  Fri May 01 00:23:04 +0000 2020  Twitter for iPhone   \n",
       "2  1256013240896835585  Fri May 01 00:11:06 +0000 2020  Twitter for iPhone   \n",
       "3  1256013239487549441  Fri May 01 00:11:06 +0000 2020  Twitter for iPhone   \n",
       "4  1255926261068763143  Thu Apr 30 18:25:29 +0000 2020  Twitter for iPhone   \n",
       "\n",
       "   year  month  day  hour  day_of_week  week  is_reply  ...  tb_orientation  \\\n",
       "0  2020      4   30    20            4    17     False  ...        negative   \n",
       "1  2020      4   30    20            4    17     False  ...        positive   \n",
       "2  2020      4   30    20            4    17      True  ...        positive   \n",
       "3  2020      4   30    20            4    17     False  ...        positive   \n",
       "4  2020      4   30    14            4    17     False  ...        positive   \n",
       "\n",
       "  tb_explanatory vd_neg vd_neu  vd_pos  vd_compound vd_orientation  k_cluster  \\\n",
       "0     subjective  0.373  0.627   0.000      -0.8786       negative         24   \n",
       "1     subjective  0.205  0.671   0.123      -0.4168       negative         24   \n",
       "2      objective  0.072  0.740   0.189       0.6885       positive         12   \n",
       "3     subjective  0.046  0.640   0.314       0.9439       positive         24   \n",
       "4      objective  0.000  1.000   0.000       0.0000        neutral         24   \n",
       "\n",
       "   a_cluster orientation  \n",
       "0          0    negative  \n",
       "1          0    positive  \n",
       "2          0    positive  \n",
       "3          0    positive  \n",
       "4          0    positive  \n",
       "\n",
       "[5 rows x 29 columns]"
      ]
     },
     "execution_count": 91,
     "metadata": {},
     "output_type": "execute_result"
    }
   ],
   "source": [
    "trump = pd.merge(trump, unlabelled, left_index=True, right_index=True, how='left')\n",
    "trump['orientation'] = np.where(trump['orientation'].isna(), trump['orientation_rnn'], trump['orientation'])\n",
    "trump = trump.drop('orientation_rnn', axis=1)\n",
    "trump.head()"
   ]
  },
  {
   "cell_type": "code",
   "execution_count": 68,
   "metadata": {},
   "outputs": [],
   "source": [
    "trump.to_csv('trump_rnn1.csv', sep=',', encoding='utf-8', index=False)"
   ]
  },
  {
   "cell_type": "code",
   "execution_count": 92,
   "metadata": {},
   "outputs": [
    {
     "name": "stdout",
     "output_type": "stream",
     "text": [
      "(4739, 29)\n",
      "(4023, 29)\n",
      "(716, 29)\n"
     ]
    }
   ],
   "source": [
    "labelled2 = trump[trump['orientation'] != 'nan']\n",
    "unlabelled2 = trump[trump['orientation'] == 'nan']\n",
    "print(trump.shape)\n",
    "print(labelled2.shape)\n",
    "print(unlabelled2.shape)"
   ]
  },
  {
   "cell_type": "code",
   "execution_count": 103,
   "metadata": {},
   "outputs": [],
   "source": [
    "labelled2 = clean_text(labelled2)\n",
    "unlabelled2 = clean_text(unlabelled2)"
   ]
  },
  {
   "cell_type": "code",
   "execution_count": 104,
   "metadata": {},
   "outputs": [],
   "source": [
    "tokenizer2 = Tokenizer(num_words = 280, oov_token='<OOV>')\n",
    "\n",
    "# create a 'word_index' dictionary based on word frequency\n",
    "tokenizer2.fit_on_texts(labelled2['text'])\n",
    "\n",
    "# replace words with corresponding integer values from 'word_index' dictionary\n",
    "train_seq2 = tokenizer2.texts_to_sequences(labelled2['text'])\n",
    "\n",
    "# pad the values so they have equal lengths to form a tensor\n",
    "train_padded2 = pad_sequences(train_seq2, maxlen=280, padding='post', truncating='post')"
   ]
  },
  {
   "cell_type": "code",
   "execution_count": 105,
   "metadata": {},
   "outputs": [],
   "source": [
    "# convert orientation labels to integers\n",
    "label_tokenizer2 = Tokenizer()\n",
    "label_tokenizer2.fit_on_texts(labelled2['orientation'])\n",
    "train_label_seq2 = np.array(label_tokenizer2.texts_to_sequences(labelled2['orientation'])) - 1\n",
    "\n",
    "# one-hot encoding \n",
    "train_label2 = tf.keras.utils.to_categorical(train_label_seq2, num_classes=3)"
   ]
  },
  {
   "cell_type": "code",
   "execution_count": 106,
   "metadata": {},
   "outputs": [],
   "source": [
    "X_train2, X_val2, y_train2, y_val2 = train_test_split(train_padded2, train_label2, \n",
    "                                                  test_size = 0.2, stratify=train_label2)"
   ]
  },
  {
   "cell_type": "code",
   "execution_count": 107,
   "metadata": {},
   "outputs": [
    {
     "name": "stdout",
     "output_type": "stream",
     "text": [
      "WARNING:tensorflow:Entity <function standard_lstm at 0x1a2daf89d8> could not be transformed and will be executed as-is. Please report this to the AutoGraph team. When filing the bug, set the verbosity to 10 (on Linux, `export AUTOGRAPH_VERBOSITY=10`) and attach the full output. Cause: converting <function standard_lstm at 0x1a2daf89d8>: AttributeError: module 'gast' has no attribute 'Num'\n",
      "WARNING: Entity <function standard_lstm at 0x1a2daf89d8> could not be transformed and will be executed as-is. Please report this to the AutoGraph team. When filing the bug, set the verbosity to 10 (on Linux, `export AUTOGRAPH_VERBOSITY=10`) and attach the full output. Cause: converting <function standard_lstm at 0x1a2daf89d8>: AttributeError: module 'gast' has no attribute 'Num'\n",
      "WARNING:tensorflow:Entity <function cudnn_lstm at 0x1a2daf8a60> could not be transformed and will be executed as-is. Please report this to the AutoGraph team. When filing the bug, set the verbosity to 10 (on Linux, `export AUTOGRAPH_VERBOSITY=10`) and attach the full output. Cause: converting <function cudnn_lstm at 0x1a2daf8a60>: AttributeError: module 'gast' has no attribute 'Num'\n",
      "WARNING: Entity <function cudnn_lstm at 0x1a2daf8a60> could not be transformed and will be executed as-is. Please report this to the AutoGraph team. When filing the bug, set the verbosity to 10 (on Linux, `export AUTOGRAPH_VERBOSITY=10`) and attach the full output. Cause: converting <function cudnn_lstm at 0x1a2daf8a60>: AttributeError: module 'gast' has no attribute 'Num'\n",
      "WARNING:tensorflow:Entity <function standard_lstm at 0x1a2daf89d8> could not be transformed and will be executed as-is. Please report this to the AutoGraph team. When filing the bug, set the verbosity to 10 (on Linux, `export AUTOGRAPH_VERBOSITY=10`) and attach the full output. Cause: converting <function standard_lstm at 0x1a2daf89d8>: AttributeError: module 'gast' has no attribute 'Num'\n",
      "WARNING: Entity <function standard_lstm at 0x1a2daf89d8> could not be transformed and will be executed as-is. Please report this to the AutoGraph team. When filing the bug, set the verbosity to 10 (on Linux, `export AUTOGRAPH_VERBOSITY=10`) and attach the full output. Cause: converting <function standard_lstm at 0x1a2daf89d8>: AttributeError: module 'gast' has no attribute 'Num'\n",
      "WARNING:tensorflow:Entity <function cudnn_lstm at 0x1a2daf8a60> could not be transformed and will be executed as-is. Please report this to the AutoGraph team. When filing the bug, set the verbosity to 10 (on Linux, `export AUTOGRAPH_VERBOSITY=10`) and attach the full output. Cause: converting <function cudnn_lstm at 0x1a2daf8a60>: AttributeError: module 'gast' has no attribute 'Num'\n",
      "WARNING: Entity <function cudnn_lstm at 0x1a2daf8a60> could not be transformed and will be executed as-is. Please report this to the AutoGraph team. When filing the bug, set the verbosity to 10 (on Linux, `export AUTOGRAPH_VERBOSITY=10`) and attach the full output. Cause: converting <function cudnn_lstm at 0x1a2daf8a60>: AttributeError: module 'gast' has no attribute 'Num'\n"
     ]
    }
   ],
   "source": [
    "embedding_dim = 64\n",
    "model2 = tf.keras.Sequential([\n",
    "    tf.keras.layers.Embedding(280, embedding_dim),\n",
    "    tf.keras.layers.Bidirectional(tf.keras.layers.LSTM(embedding_dim)),\n",
    "    tf.keras.layers.Dense(embedding_dim, activation='relu'),\n",
    "    tf.keras.layers.Dense(3, activation='softmax')\n",
    "])\n",
    "model2.compile(loss='categorical_crossentropy', optimizer='adam', metrics=['accuracy'])"
   ]
  },
  {
   "cell_type": "code",
   "execution_count": 108,
   "metadata": {},
   "outputs": [
    {
     "name": "stdout",
     "output_type": "stream",
     "text": [
      "Train on 3218 samples, validate on 805 samples\n",
      "Epoch 1/10\n",
      "3218/3218 - 29s - loss: 0.7376 - accuracy: 0.6809 - val_loss: 0.5951 - val_accuracy: 0.7317\n",
      "Epoch 2/10\n",
      "3218/3218 - 34s - loss: 0.4385 - accuracy: 0.8179 - val_loss: 0.4122 - val_accuracy: 0.8273\n",
      "Epoch 3/10\n",
      "3218/3218 - 36s - loss: 0.3339 - accuracy: 0.8670 - val_loss: 0.3573 - val_accuracy: 0.8634\n",
      "Epoch 4/10\n",
      "3218/3218 - 35s - loss: 0.2903 - accuracy: 0.8931 - val_loss: 0.3608 - val_accuracy: 0.8559\n",
      "Epoch 5/10\n",
      "3218/3218 - 34s - loss: 0.2668 - accuracy: 0.8978 - val_loss: 0.3496 - val_accuracy: 0.8596\n",
      "Epoch 6/10\n",
      "3218/3218 - 34s - loss: 0.2627 - accuracy: 0.8990 - val_loss: 0.3453 - val_accuracy: 0.8596\n",
      "Epoch 7/10\n",
      "3218/3218 - 33s - loss: 0.2470 - accuracy: 0.9071 - val_loss: 0.3428 - val_accuracy: 0.8621\n",
      "Epoch 8/10\n",
      "3218/3218 - 33s - loss: 0.2379 - accuracy: 0.9105 - val_loss: 0.3598 - val_accuracy: 0.8547\n",
      "Epoch 9/10\n",
      "3218/3218 - 33s - loss: 0.2396 - accuracy: 0.9133 - val_loss: 0.3955 - val_accuracy: 0.8472\n",
      "Epoch 10/10\n",
      "3218/3218 - 38s - loss: 0.2270 - accuracy: 0.9177 - val_loss: 0.3864 - val_accuracy: 0.8671\n"
     ]
    }
   ],
   "source": [
    "num_epochs = 10\n",
    "history2 = model2.fit(X_train2, y_train2, epochs=num_epochs, \n",
    "                    validation_data=(X_val2, y_val2), verbose=2)"
   ]
  },
  {
   "cell_type": "code",
   "execution_count": null,
   "metadata": {},
   "outputs": [],
   "source": []
  }
 ],
 "metadata": {
  "kernelspec": {
   "display_name": "Python 3",
   "language": "python",
   "name": "python3"
  },
  "language_info": {
   "codemirror_mode": {
    "name": "ipython",
    "version": 3
   },
   "file_extension": ".py",
   "mimetype": "text/x-python",
   "name": "python",
   "nbconvert_exporter": "python",
   "pygments_lexer": "ipython3",
   "version": "3.7.3"
  }
 },
 "nbformat": 4,
 "nbformat_minor": 2
}
