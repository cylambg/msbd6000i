{
 "cells": [
  {
   "cell_type": "code",
   "execution_count": 26,
   "metadata": {},
   "outputs": [],
   "source": [
    "import pandas as pd\n",
    "import numpy as np\n",
    "import matplotlib.pyplot as plt\n",
    "import matplotlib.cm as cm"
   ]
  },
  {
   "cell_type": "code",
   "execution_count": 27,
   "metadata": {},
   "outputs": [
    {
     "data": {
      "text/html": [
       "<div>\n",
       "<style scoped>\n",
       "    .dataframe tbody tr th:only-of-type {\n",
       "        vertical-align: middle;\n",
       "    }\n",
       "\n",
       "    .dataframe tbody tr th {\n",
       "        vertical-align: top;\n",
       "    }\n",
       "\n",
       "    .dataframe thead th {\n",
       "        text-align: right;\n",
       "    }\n",
       "</style>\n",
       "<table border=\"1\" class=\"dataframe\">\n",
       "  <thead>\n",
       "    <tr style=\"text-align: right;\">\n",
       "      <th></th>\n",
       "      <th>id</th>\n",
       "      <th>created_at</th>\n",
       "      <th>source</th>\n",
       "      <th>year</th>\n",
       "      <th>month</th>\n",
       "      <th>day</th>\n",
       "      <th>hour</th>\n",
       "      <th>day_of_week</th>\n",
       "      <th>week</th>\n",
       "      <th>is_reply</th>\n",
       "      <th>...</th>\n",
       "      <th>tb_orientation</th>\n",
       "      <th>tb_explanatory</th>\n",
       "      <th>vd_neg</th>\n",
       "      <th>vd_neu</th>\n",
       "      <th>vd_pos</th>\n",
       "      <th>vd_compound</th>\n",
       "      <th>vd_orientation</th>\n",
       "      <th>k_cluster</th>\n",
       "      <th>a_cluster</th>\n",
       "      <th>orientation</th>\n",
       "    </tr>\n",
       "  </thead>\n",
       "  <tbody>\n",
       "    <tr>\n",
       "      <th>0</th>\n",
       "      <td>1256024228777857025</td>\n",
       "      <td>Fri May 01 00:54:46 +0000 2020</td>\n",
       "      <td>Twitter for iPhone</td>\n",
       "      <td>2020</td>\n",
       "      <td>4</td>\n",
       "      <td>30</td>\n",
       "      <td>20</td>\n",
       "      <td>4</td>\n",
       "      <td>17</td>\n",
       "      <td>False</td>\n",
       "      <td>...</td>\n",
       "      <td>negative</td>\n",
       "      <td>subjective</td>\n",
       "      <td>0.373</td>\n",
       "      <td>0.627</td>\n",
       "      <td>0.000</td>\n",
       "      <td>-0.8786</td>\n",
       "      <td>negative</td>\n",
       "      <td>24</td>\n",
       "      <td>0</td>\n",
       "      <td>negative</td>\n",
       "    </tr>\n",
       "    <tr>\n",
       "      <th>1</th>\n",
       "      <td>1256016249169084417</td>\n",
       "      <td>Fri May 01 00:23:04 +0000 2020</td>\n",
       "      <td>Twitter for iPhone</td>\n",
       "      <td>2020</td>\n",
       "      <td>4</td>\n",
       "      <td>30</td>\n",
       "      <td>20</td>\n",
       "      <td>4</td>\n",
       "      <td>17</td>\n",
       "      <td>False</td>\n",
       "      <td>...</td>\n",
       "      <td>positive</td>\n",
       "      <td>subjective</td>\n",
       "      <td>0.205</td>\n",
       "      <td>0.671</td>\n",
       "      <td>0.123</td>\n",
       "      <td>-0.4168</td>\n",
       "      <td>negative</td>\n",
       "      <td>24</td>\n",
       "      <td>0</td>\n",
       "      <td>positive</td>\n",
       "    </tr>\n",
       "    <tr>\n",
       "      <th>2</th>\n",
       "      <td>1256013240896835585</td>\n",
       "      <td>Fri May 01 00:11:06 +0000 2020</td>\n",
       "      <td>Twitter for iPhone</td>\n",
       "      <td>2020</td>\n",
       "      <td>4</td>\n",
       "      <td>30</td>\n",
       "      <td>20</td>\n",
       "      <td>4</td>\n",
       "      <td>17</td>\n",
       "      <td>True</td>\n",
       "      <td>...</td>\n",
       "      <td>positive</td>\n",
       "      <td>objective</td>\n",
       "      <td>0.072</td>\n",
       "      <td>0.740</td>\n",
       "      <td>0.189</td>\n",
       "      <td>0.6885</td>\n",
       "      <td>positive</td>\n",
       "      <td>12</td>\n",
       "      <td>0</td>\n",
       "      <td>positive</td>\n",
       "    </tr>\n",
       "    <tr>\n",
       "      <th>3</th>\n",
       "      <td>1256013239487549441</td>\n",
       "      <td>Fri May 01 00:11:06 +0000 2020</td>\n",
       "      <td>Twitter for iPhone</td>\n",
       "      <td>2020</td>\n",
       "      <td>4</td>\n",
       "      <td>30</td>\n",
       "      <td>20</td>\n",
       "      <td>4</td>\n",
       "      <td>17</td>\n",
       "      <td>False</td>\n",
       "      <td>...</td>\n",
       "      <td>positive</td>\n",
       "      <td>subjective</td>\n",
       "      <td>0.046</td>\n",
       "      <td>0.640</td>\n",
       "      <td>0.314</td>\n",
       "      <td>0.9439</td>\n",
       "      <td>positive</td>\n",
       "      <td>24</td>\n",
       "      <td>0</td>\n",
       "      <td>positive</td>\n",
       "    </tr>\n",
       "    <tr>\n",
       "      <th>4</th>\n",
       "      <td>1255926261068763143</td>\n",
       "      <td>Thu Apr 30 18:25:29 +0000 2020</td>\n",
       "      <td>Twitter for iPhone</td>\n",
       "      <td>2020</td>\n",
       "      <td>4</td>\n",
       "      <td>30</td>\n",
       "      <td>14</td>\n",
       "      <td>4</td>\n",
       "      <td>17</td>\n",
       "      <td>False</td>\n",
       "      <td>...</td>\n",
       "      <td>positive</td>\n",
       "      <td>objective</td>\n",
       "      <td>0.000</td>\n",
       "      <td>1.000</td>\n",
       "      <td>0.000</td>\n",
       "      <td>0.0000</td>\n",
       "      <td>neutral</td>\n",
       "      <td>24</td>\n",
       "      <td>0</td>\n",
       "      <td>positive</td>\n",
       "    </tr>\n",
       "  </tbody>\n",
       "</table>\n",
       "<p>5 rows × 29 columns</p>\n",
       "</div>"
      ],
      "text/plain": [
       "                    id                      created_at              source  \\\n",
       "0  1256024228777857025  Fri May 01 00:54:46 +0000 2020  Twitter for iPhone   \n",
       "1  1256016249169084417  Fri May 01 00:23:04 +0000 2020  Twitter for iPhone   \n",
       "2  1256013240896835585  Fri May 01 00:11:06 +0000 2020  Twitter for iPhone   \n",
       "3  1256013239487549441  Fri May 01 00:11:06 +0000 2020  Twitter for iPhone   \n",
       "4  1255926261068763143  Thu Apr 30 18:25:29 +0000 2020  Twitter for iPhone   \n",
       "\n",
       "   year  month  day  hour  day_of_week  week  is_reply  ...  tb_orientation  \\\n",
       "0  2020      4   30    20            4    17     False  ...        negative   \n",
       "1  2020      4   30    20            4    17     False  ...        positive   \n",
       "2  2020      4   30    20            4    17      True  ...        positive   \n",
       "3  2020      4   30    20            4    17     False  ...        positive   \n",
       "4  2020      4   30    14            4    17     False  ...        positive   \n",
       "\n",
       "  tb_explanatory vd_neg vd_neu  vd_pos  vd_compound vd_orientation  k_cluster  \\\n",
       "0     subjective  0.373  0.627   0.000      -0.8786       negative         24   \n",
       "1     subjective  0.205  0.671   0.123      -0.4168       negative         24   \n",
       "2      objective  0.072  0.740   0.189       0.6885       positive         12   \n",
       "3     subjective  0.046  0.640   0.314       0.9439       positive         24   \n",
       "4      objective  0.000  1.000   0.000       0.0000        neutral         24   \n",
       "\n",
       "   a_cluster orientation  \n",
       "0          0    negative  \n",
       "1          0    positive  \n",
       "2          0    positive  \n",
       "3          0    positive  \n",
       "4          0    positive  \n",
       "\n",
       "[5 rows x 29 columns]"
      ]
     },
     "execution_count": 27,
     "metadata": {},
     "output_type": "execute_result"
    }
   ],
   "source": [
    "trump = pd.read_csv('trump_rnn.csv')\n",
    "trump.head()"
   ]
  },
  {
   "cell_type": "markdown",
   "metadata": {},
   "source": [
    "# evaluation of RNN against TextBlob and Vader"
   ]
  },
  {
   "cell_type": "code",
   "execution_count": 28,
   "metadata": {},
   "outputs": [
    {
     "data": {
      "text/html": [
       "<div>\n",
       "<style scoped>\n",
       "    .dataframe tbody tr th:only-of-type {\n",
       "        vertical-align: middle;\n",
       "    }\n",
       "\n",
       "    .dataframe tbody tr th {\n",
       "        vertical-align: top;\n",
       "    }\n",
       "\n",
       "    .dataframe thead th {\n",
       "        text-align: right;\n",
       "    }\n",
       "</style>\n",
       "<table border=\"1\" class=\"dataframe\">\n",
       "  <thead>\n",
       "    <tr style=\"text-align: right;\">\n",
       "      <th>orientation</th>\n",
       "      <th>negative</th>\n",
       "      <th>neutral</th>\n",
       "      <th>positive</th>\n",
       "    </tr>\n",
       "    <tr>\n",
       "      <th>vd_orientation</th>\n",
       "      <th></th>\n",
       "      <th></th>\n",
       "      <th></th>\n",
       "    </tr>\n",
       "  </thead>\n",
       "  <tbody>\n",
       "    <tr>\n",
       "      <th>negative</th>\n",
       "      <td>241</td>\n",
       "      <td>92</td>\n",
       "      <td>327</td>\n",
       "    </tr>\n",
       "    <tr>\n",
       "      <th>neutral</th>\n",
       "      <td>46</td>\n",
       "      <td>36</td>\n",
       "      <td>100</td>\n",
       "    </tr>\n",
       "    <tr>\n",
       "      <th>positive</th>\n",
       "      <td>145</td>\n",
       "      <td>48</td>\n",
       "      <td>447</td>\n",
       "    </tr>\n",
       "  </tbody>\n",
       "</table>\n",
       "</div>"
      ],
      "text/plain": [
       "orientation     negative  neutral  positive\n",
       "vd_orientation                             \n",
       "negative             241       92       327\n",
       "neutral               46       36       100\n",
       "positive             145       48       447"
      ]
     },
     "execution_count": 28,
     "metadata": {},
     "output_type": "execute_result"
    }
   ],
   "source": [
    "# vader\n",
    "orientation = trump[trump['vd_orientation'] != trump['tb_orientation']][['tb_orientation', 'vd_orientation', 'orientation']]\n",
    "orientation.groupby(['vd_orientation', 'orientation']).size().unstack()"
   ]
  },
  {
   "cell_type": "code",
   "execution_count": 29,
   "metadata": {},
   "outputs": [
    {
     "data": {
      "text/html": [
       "<div>\n",
       "<style scoped>\n",
       "    .dataframe tbody tr th:only-of-type {\n",
       "        vertical-align: middle;\n",
       "    }\n",
       "\n",
       "    .dataframe tbody tr th {\n",
       "        vertical-align: top;\n",
       "    }\n",
       "\n",
       "    .dataframe thead th {\n",
       "        text-align: right;\n",
       "    }\n",
       "</style>\n",
       "<table border=\"1\" class=\"dataframe\">\n",
       "  <thead>\n",
       "    <tr style=\"text-align: right;\">\n",
       "      <th>orientation</th>\n",
       "      <th>negative</th>\n",
       "      <th>neutral</th>\n",
       "      <th>positive</th>\n",
       "    </tr>\n",
       "    <tr>\n",
       "      <th>tb_orientation</th>\n",
       "      <th></th>\n",
       "      <th></th>\n",
       "      <th></th>\n",
       "    </tr>\n",
       "  </thead>\n",
       "  <tbody>\n",
       "    <tr>\n",
       "      <th>negative</th>\n",
       "      <td>124</td>\n",
       "      <td>19</td>\n",
       "      <td>146</td>\n",
       "    </tr>\n",
       "    <tr>\n",
       "      <th>neutral</th>\n",
       "      <td>115</td>\n",
       "      <td>120</td>\n",
       "      <td>379</td>\n",
       "    </tr>\n",
       "    <tr>\n",
       "      <th>positive</th>\n",
       "      <td>193</td>\n",
       "      <td>37</td>\n",
       "      <td>349</td>\n",
       "    </tr>\n",
       "  </tbody>\n",
       "</table>\n",
       "</div>"
      ],
      "text/plain": [
       "orientation     negative  neutral  positive\n",
       "tb_orientation                             \n",
       "negative             124       19       146\n",
       "neutral              115      120       379\n",
       "positive             193       37       349"
      ]
     },
     "execution_count": 29,
     "metadata": {},
     "output_type": "execute_result"
    }
   ],
   "source": [
    "# textblob\n",
    "orientation.groupby(['tb_orientation', 'orientation']).size().unstack()"
   ]
  },
  {
   "cell_type": "markdown",
   "metadata": {},
   "source": [
    "# overall orientation"
   ]
  },
  {
   "cell_type": "code",
   "execution_count": 30,
   "metadata": {},
   "outputs": [
    {
     "data": {
      "text/plain": [
       "orientation\n",
       "negative    1277\n",
       "neutral      442\n",
       "positive    3020\n",
       "Name: orientation, dtype: int64"
      ]
     },
     "execution_count": 30,
     "metadata": {},
     "output_type": "execute_result"
    }
   ],
   "source": [
    "# number of tweets\n",
    "all_cluster = trump.groupby('orientation')['orientation'].size()\n",
    "all_cluster.head()"
   ]
  },
  {
   "cell_type": "code",
   "execution_count": 34,
   "metadata": {},
   "outputs": [
    {
     "data": {
      "image/png": "[encoded data removed]",
      "text/plain": [
       "<Figure size 720x360 with 1 Axes>"
      ]
     },
     "metadata": {
      "needs_background": "light"
     },
     "output_type": "display_data"
    },
    {
     "data": {
      "text/plain": [
       "<Figure size 432x288 with 0 Axes>"
      ]
     },
     "metadata": {},
     "output_type": "display_data"
    }
   ],
   "source": [
    "# number of tweets\n",
    "# more positive tweets than negative tweets\n",
    "fig, ax = plt.subplots()  \n",
    "for i, v in enumerate(all_cluster.values):\n",
    "    ax.text(i-.05, v+50, str(v), color='black')\n",
    "all_cluster.plot(kind='bar', figsize=(10,5), color=['blue', 'orange', 'green'])\n",
    "plt.xlabel('')\n",
    "plt.title('number of tweets')\n",
    "plt.show()"
   ]
  },
  {
   "cell_type": "code",
   "execution_count": 35,
   "metadata": {},
   "outputs": [
    {
     "data": {
      "text/plain": [
       "orientation\n",
       "negative    27194409.0\n",
       "neutral      8602356.0\n",
       "positive    56314509.0\n",
       "Name: retweet_count, dtype: float64"
      ]
     },
     "execution_count": 35,
     "metadata": {},
     "output_type": "execute_result"
    }
   ],
   "source": [
    "# sum of retweet_count\n",
    "retweet = trump.groupby('orientation')['retweet_count'].sum()\n",
    "retweet.head()"
   ]
  },
  {
   "cell_type": "code",
   "execution_count": 36,
   "metadata": {},
   "outputs": [
    {
     "data": {
      "image/png": "[encoded data removed]",
      "text/plain": [
       "<Figure size 720x360 with 1 Axes>"
      ]
     },
     "metadata": {
      "needs_background": "light"
     },
     "output_type": "display_data"
    }
   ],
   "source": [
    "# sum of retweet_count\n",
    "# similar distribution of number of tweets\n",
    "retweet.plot(kind='bar', figsize=(10,5), color=['blue', 'orange', 'green'])\n",
    "plt.xlabel('')\n",
    "plt.title('sum of retweet_count')\n",
    "plt.show()"
   ]
  },
  {
   "cell_type": "code",
   "execution_count": 37,
   "metadata": {},
   "outputs": [
    {
     "data": {
      "text/plain": [
       "orientation\n",
       "negative    116802022.0\n",
       "neutral      37754296.0\n",
       "positive    261275343.0\n",
       "Name: favorite_count, dtype: float64"
      ]
     },
     "execution_count": 37,
     "metadata": {},
     "output_type": "execute_result"
    }
   ],
   "source": [
    "# sum of favorite_count\n",
    "favorite = trump.groupby('orientation')['favorite_count'].sum()\n",
    "favorite.head()"
   ]
  },
  {
   "cell_type": "code",
   "execution_count": 38,
   "metadata": {},
   "outputs": [
    {
     "data": {
      "image/png": "[encoded data removed]",
      "text/plain": [
       "<Figure size 720x360 with 1 Axes>"
      ]
     },
     "metadata": {
      "needs_background": "light"
     },
     "output_type": "display_data"
    }
   ],
   "source": [
    "# sum of favorite_count\n",
    "# similar distribution of number of tweets\n",
    "favorite.plot(kind='bar', figsize=(10,5), color=['blue', 'orange', 'green'])\n",
    "plt.xlabel('')\n",
    "plt.title('sum of favorite_count')\n",
    "plt.show()"
   ]
  },
  {
   "cell_type": "code",
   "execution_count": 39,
   "metadata": {},
   "outputs": [
    {
     "data": {
      "text/plain": [
       "orientation\n",
       "negative    21295.543461\n",
       "neutral     19462.343891\n",
       "positive    18647.188411\n",
       "Name: retweet_count, dtype: float64"
      ]
     },
     "execution_count": 39,
     "metadata": {},
     "output_type": "execute_result"
    }
   ],
   "source": [
    "# average retweet_count\n",
    "retweet = trump.groupby('orientation')['retweet_count'].mean()\n",
    "retweet.head()"
   ]
  },
  {
   "cell_type": "code",
   "execution_count": 46,
   "metadata": {},
   "outputs": [
    {
     "data": {
      "image/png": "[encoded data removed]",
      "text/plain": [
       "<Figure size 720x360 with 1 Axes>"
      ]
     },
     "metadata": {
      "needs_background": "light"
     },
     "output_type": "display_data"
    }
   ],
   "source": [
    "# average retweet_count\n",
    "# more retweets on trump's negative tweets\n",
    "# negative > neutral > positive\n",
    "fig, ax = plt.subplots()  \n",
    "for i, v in enumerate(retweet.values):\n",
    "    ax.text(i-.05, v+200, str(int(round(v))), color='black')\n",
    "retweet.plot(kind='bar', figsize=(10,5), color=['blue', 'orange', 'green'])\n",
    "plt.xlabel('')\n",
    "plt.title('average retweet_count')\n",
    "plt.show()"
   ]
  },
  {
   "cell_type": "code",
   "execution_count": 47,
   "metadata": {},
   "outputs": [
    {
     "data": {
      "text/plain": [
       "orientation\n",
       "negative    91465.953015\n",
       "neutral     85416.959276\n",
       "positive    86515.014238\n",
       "Name: favorite_count, dtype: float64"
      ]
     },
     "execution_count": 47,
     "metadata": {},
     "output_type": "execute_result"
    }
   ],
   "source": [
    "# average favorite_count\n",
    "favorite = trump.groupby('orientation')['favorite_count'].mean()\n",
    "favorite.head()"
   ]
  },
  {
   "cell_type": "code",
   "execution_count": 51,
   "metadata": {},
   "outputs": [
    {
     "data": {
      "image/png": "[encoded data removed]",
      "text/plain": [
       "<Figure size 720x360 with 1 Axes>"
      ]
     },
     "metadata": {
      "needs_background": "light"
     },
     "output_type": "display_data"
    }
   ],
   "source": [
    "# average favorite_count\n",
    "# more favorites on trump's negative tweets\n",
    "# negative > positive > neutral, slightly different from retweet_count\n",
    "fig, ax = plt.subplots()  \n",
    "for i, v in enumerate(favorite.values):\n",
    "    ax.text(i-.05, v+800, str(int(round(v))), color='black')\n",
    "favorite.plot(kind='bar', figsize=(10,5), color=['blue', 'orange', 'green'])\n",
    "plt.xlabel('')\n",
    "plt.title('average favorite_count')\n",
    "plt.show()"
   ]
  },
  {
   "cell_type": "markdown",
   "metadata": {},
   "source": [
    "# k means"
   ]
  },
  {
   "cell_type": "code",
   "execution_count": 52,
   "metadata": {},
   "outputs": [
    {
     "data": {
      "image/png": "[encoded data removed]",
      "text/plain": [
       "<Figure size 1440x720 with 1 Axes>"
      ]
     },
     "metadata": {
      "needs_background": "light"
     },
     "output_type": "display_data"
    }
   ],
   "source": [
    "# number of tweets by entity in all clusters\n",
    "k_cluster = trump[['k_cluster', 'orientation']].groupby(['k_cluster', 'orientation']).size().unstack()\n",
    "k_cluster.plot(kind='bar', figsize=(20,10), ylim=(0,500))\n",
    "plt.xlabel('')\n",
    "plt.title('number of tweets by topic')\n",
    "plt.show()"
   ]
  },
  {
   "cell_type": "code",
   "execution_count": 55,
   "metadata": {},
   "outputs": [
    {
     "data": {
      "text/html": [
       "<div>\n",
       "<style scoped>\n",
       "    .dataframe tbody tr th:only-of-type {\n",
       "        vertical-align: middle;\n",
       "    }\n",
       "\n",
       "    .dataframe tbody tr th {\n",
       "        vertical-align: top;\n",
       "    }\n",
       "\n",
       "    .dataframe thead th {\n",
       "        text-align: right;\n",
       "    }\n",
       "</style>\n",
       "<table border=\"1\" class=\"dataframe\">\n",
       "  <thead>\n",
       "    <tr style=\"text-align: right;\">\n",
       "      <th></th>\n",
       "      <th>entity</th>\n",
       "      <th>orientation</th>\n",
       "      <th>favorite_count</th>\n",
       "      <th>retweet_count</th>\n",
       "    </tr>\n",
       "  </thead>\n",
       "  <tbody>\n",
       "    <tr>\n",
       "      <th>0</th>\n",
       "      <td>Thanks to People</td>\n",
       "      <td>negative</td>\n",
       "      <td>156126.0</td>\n",
       "      <td>38037.0</td>\n",
       "    </tr>\n",
       "    <tr>\n",
       "      <th>1</th>\n",
       "      <td>Thanks to People</td>\n",
       "      <td>positive</td>\n",
       "      <td>34845.0</td>\n",
       "      <td>11170.0</td>\n",
       "    </tr>\n",
       "    <tr>\n",
       "      <th>3</th>\n",
       "      <td>Thanks to People</td>\n",
       "      <td>positive</td>\n",
       "      <td>56133.0</td>\n",
       "      <td>13626.0</td>\n",
       "    </tr>\n",
       "    <tr>\n",
       "      <th>4</th>\n",
       "      <td>Thanks to People</td>\n",
       "      <td>positive</td>\n",
       "      <td>65073.0</td>\n",
       "      <td>16955.0</td>\n",
       "    </tr>\n",
       "    <tr>\n",
       "      <th>5</th>\n",
       "      <td>Fake News</td>\n",
       "      <td>negative</td>\n",
       "      <td>205345.0</td>\n",
       "      <td>45115.0</td>\n",
       "    </tr>\n",
       "  </tbody>\n",
       "</table>\n",
       "</div>"
      ],
      "text/plain": [
       "             entity orientation  favorite_count  retweet_count\n",
       "0  Thanks to People    negative        156126.0        38037.0\n",
       "1  Thanks to People    positive         34845.0        11170.0\n",
       "3  Thanks to People    positive         56133.0        13626.0\n",
       "4  Thanks to People    positive         65073.0        16955.0\n",
       "5         Fake News    negative        205345.0        45115.0"
      ]
     },
     "execution_count": 55,
     "metadata": {},
     "output_type": "execute_result"
    }
   ],
   "source": [
    "# top 10 cluster/entity\n",
    "top_8 = trump[['k_cluster', 'orientation', 'favorite_count', 'retweet_count']]\n",
    "top_8 = top_8[top_8['k_cluster'].isin([24, 18, 19, 5, 11, 3, 21, 10])]\n",
    "top_8['k_cluster'] = top_8['k_cluster'].replace(24, 'Thanks to People').replace(18, 'Fake News')\\\n",
    "                    .replace(19, 'President Trump').replace(5, 'Country').replace(11, 'Great')\\\n",
    "                    .replace(3, 'Democratic Party').replace(21, 'Good').replace(10, 'New York')\n",
    "top_8.columns = ['entity', 'orientation', 'favorite_count', 'retweet_count']\n",
    "top_8.head()"
   ]
  },
  {
   "cell_type": "code",
   "execution_count": 56,
   "metadata": {},
   "outputs": [
    {
     "data": {
      "text/html": [
       "<div>\n",
       "<style scoped>\n",
       "    .dataframe tbody tr th:only-of-type {\n",
       "        vertical-align: middle;\n",
       "    }\n",
       "\n",
       "    .dataframe tbody tr th {\n",
       "        vertical-align: top;\n",
       "    }\n",
       "\n",
       "    .dataframe thead th {\n",
       "        text-align: right;\n",
       "    }\n",
       "</style>\n",
       "<table border=\"1\" class=\"dataframe\">\n",
       "  <thead>\n",
       "    <tr style=\"text-align: right;\">\n",
       "      <th>orientation</th>\n",
       "      <th>negative</th>\n",
       "      <th>neutral</th>\n",
       "      <th>positive</th>\n",
       "    </tr>\n",
       "    <tr>\n",
       "      <th>entity</th>\n",
       "      <th></th>\n",
       "      <th></th>\n",
       "      <th></th>\n",
       "    </tr>\n",
       "  </thead>\n",
       "  <tbody>\n",
       "    <tr>\n",
       "      <th>Country</th>\n",
       "      <td>87.0</td>\n",
       "      <td>7.0</td>\n",
       "      <td>161.0</td>\n",
       "    </tr>\n",
       "    <tr>\n",
       "      <th>Democratic Party</th>\n",
       "      <td>103.0</td>\n",
       "      <td>34.0</td>\n",
       "      <td>88.0</td>\n",
       "    </tr>\n",
       "    <tr>\n",
       "      <th>Fake News</th>\n",
       "      <td>181.0</td>\n",
       "      <td>7.0</td>\n",
       "      <td>82.0</td>\n",
       "    </tr>\n",
       "    <tr>\n",
       "      <th>Good</th>\n",
       "      <td>10.0</td>\n",
       "      <td>NaN</td>\n",
       "      <td>152.0</td>\n",
       "    </tr>\n",
       "    <tr>\n",
       "      <th>Great</th>\n",
       "      <td>NaN</td>\n",
       "      <td>1.0</td>\n",
       "      <td>240.0</td>\n",
       "    </tr>\n",
       "    <tr>\n",
       "      <th>New York</th>\n",
       "      <td>51.0</td>\n",
       "      <td>NaN</td>\n",
       "      <td>108.0</td>\n",
       "    </tr>\n",
       "    <tr>\n",
       "      <th>President Trump</th>\n",
       "      <td>78.0</td>\n",
       "      <td>40.0</td>\n",
       "      <td>148.0</td>\n",
       "    </tr>\n",
       "    <tr>\n",
       "      <th>Thanks to People</th>\n",
       "      <td>337.0</td>\n",
       "      <td>208.0</td>\n",
       "      <td>896.0</td>\n",
       "    </tr>\n",
       "  </tbody>\n",
       "</table>\n",
       "</div>"
      ],
      "text/plain": [
       "orientation       negative  neutral  positive\n",
       "entity                                       \n",
       "Country               87.0      7.0     161.0\n",
       "Democratic Party     103.0     34.0      88.0\n",
       "Fake News            181.0      7.0      82.0\n",
       "Good                  10.0      NaN     152.0\n",
       "Great                  NaN      1.0     240.0\n",
       "New York              51.0      NaN     108.0\n",
       "President Trump       78.0     40.0     148.0\n",
       "Thanks to People     337.0    208.0     896.0"
      ]
     },
     "execution_count": 56,
     "metadata": {},
     "output_type": "execute_result"
    }
   ],
   "source": [
    "# number of tweets\n",
    "count = top_8.groupby(['entity', 'orientation']).size().unstack()\n",
    "count"
   ]
  },
  {
   "cell_type": "code",
   "execution_count": 59,
   "metadata": {},
   "outputs": [
    {
     "data": {
      "image/png": "[encoded data removed]",
      "text/plain": [
       "<Figure size 720x360 with 1 Axes>"
      ]
     },
     "metadata": {
      "needs_background": "light"
     },
     "output_type": "display_data"
    }
   ],
   "source": [
    "# number of tweets\n",
    "# more negative tweets on Fake News / Democratic Party\n",
    "count.plot(kind='bar', figsize=(10,5), ylim=(0,500))\n",
    "plt.xlabel('')\n",
    "plt.title('number of tweets of the first 8 topics')\n",
    "plt.show()"
   ]
  },
  {
   "cell_type": "code",
   "execution_count": 60,
   "metadata": {},
   "outputs": [
    {
     "data": {
      "text/html": [
       "<div>\n",
       "<style scoped>\n",
       "    .dataframe tbody tr th:only-of-type {\n",
       "        vertical-align: middle;\n",
       "    }\n",
       "\n",
       "    .dataframe tbody tr th {\n",
       "        vertical-align: top;\n",
       "    }\n",
       "\n",
       "    .dataframe thead th {\n",
       "        text-align: right;\n",
       "    }\n",
       "</style>\n",
       "<table border=\"1\" class=\"dataframe\">\n",
       "  <thead>\n",
       "    <tr style=\"text-align: right;\">\n",
       "      <th>orientation</th>\n",
       "      <th>negative</th>\n",
       "      <th>neutral</th>\n",
       "      <th>positive</th>\n",
       "    </tr>\n",
       "    <tr>\n",
       "      <th>entity</th>\n",
       "      <th></th>\n",
       "      <th></th>\n",
       "      <th></th>\n",
       "    </tr>\n",
       "  </thead>\n",
       "  <tbody>\n",
       "    <tr>\n",
       "      <th>Country</th>\n",
       "      <td>1791733.0</td>\n",
       "      <td>137952.0</td>\n",
       "      <td>3232149.0</td>\n",
       "    </tr>\n",
       "    <tr>\n",
       "      <th>Democratic Party</th>\n",
       "      <td>2112630.0</td>\n",
       "      <td>616832.0</td>\n",
       "      <td>1760591.0</td>\n",
       "    </tr>\n",
       "    <tr>\n",
       "      <th>Fake News</th>\n",
       "      <td>4159240.0</td>\n",
       "      <td>116119.0</td>\n",
       "      <td>1585295.0</td>\n",
       "    </tr>\n",
       "    <tr>\n",
       "      <th>Good</th>\n",
       "      <td>199226.0</td>\n",
       "      <td>NaN</td>\n",
       "      <td>2723800.0</td>\n",
       "    </tr>\n",
       "    <tr>\n",
       "      <th>Great</th>\n",
       "      <td>NaN</td>\n",
       "      <td>3591.0</td>\n",
       "      <td>3324091.0</td>\n",
       "    </tr>\n",
       "    <tr>\n",
       "      <th>New York</th>\n",
       "      <td>1015110.0</td>\n",
       "      <td>NaN</td>\n",
       "      <td>1948229.0</td>\n",
       "    </tr>\n",
       "    <tr>\n",
       "      <th>President Trump</th>\n",
       "      <td>1591374.0</td>\n",
       "      <td>665310.0</td>\n",
       "      <td>2631755.0</td>\n",
       "    </tr>\n",
       "    <tr>\n",
       "      <th>Thanks to People</th>\n",
       "      <td>7269560.0</td>\n",
       "      <td>4080378.0</td>\n",
       "      <td>18050337.0</td>\n",
       "    </tr>\n",
       "  </tbody>\n",
       "</table>\n",
       "</div>"
      ],
      "text/plain": [
       "orientation        negative    neutral    positive\n",
       "entity                                            \n",
       "Country           1791733.0   137952.0   3232149.0\n",
       "Democratic Party  2112630.0   616832.0   1760591.0\n",
       "Fake News         4159240.0   116119.0   1585295.0\n",
       "Good               199226.0        NaN   2723800.0\n",
       "Great                   NaN     3591.0   3324091.0\n",
       "New York          1015110.0        NaN   1948229.0\n",
       "President Trump   1591374.0   665310.0   2631755.0\n",
       "Thanks to People  7269560.0  4080378.0  18050337.0"
      ]
     },
     "execution_count": 60,
     "metadata": {},
     "output_type": "execute_result"
    }
   ],
   "source": [
    "# sum of retweet_count\n",
    "retweet = top_8.groupby(['entity', 'orientation'])['retweet_count'].sum().unstack()\n",
    "retweet"
   ]
  },
  {
   "cell_type": "code",
   "execution_count": 61,
   "metadata": {},
   "outputs": [
    {
     "data": {
      "image/png": "[encoded data removed]",
      "text/plain": [
       "<Figure size 720x360 with 1 Axes>"
      ]
     },
     "metadata": {
      "needs_background": "light"
     },
     "output_type": "display_data"
    }
   ],
   "source": [
    "# sum of retweet_count\n",
    "# similar distribution of number of tweets\n",
    "retweet.plot(kind='bar', figsize=(10, 5), ylim=(0,1e7))\n",
    "plt.xlabel('')\n",
    "plt.title('sum of retweet_count')\n",
    "plt.show()"
   ]
  },
  {
   "cell_type": "code",
   "execution_count": 62,
   "metadata": {},
   "outputs": [
    {
     "data": {
      "text/html": [
       "<div>\n",
       "<style scoped>\n",
       "    .dataframe tbody tr th:only-of-type {\n",
       "        vertical-align: middle;\n",
       "    }\n",
       "\n",
       "    .dataframe tbody tr th {\n",
       "        vertical-align: top;\n",
       "    }\n",
       "\n",
       "    .dataframe thead th {\n",
       "        text-align: right;\n",
       "    }\n",
       "</style>\n",
       "<table border=\"1\" class=\"dataframe\">\n",
       "  <thead>\n",
       "    <tr style=\"text-align: right;\">\n",
       "      <th>orientation</th>\n",
       "      <th>negative</th>\n",
       "      <th>neutral</th>\n",
       "      <th>positive</th>\n",
       "    </tr>\n",
       "    <tr>\n",
       "      <th>entity</th>\n",
       "      <th></th>\n",
       "      <th></th>\n",
       "      <th></th>\n",
       "    </tr>\n",
       "  </thead>\n",
       "  <tbody>\n",
       "    <tr>\n",
       "      <th>Country</th>\n",
       "      <td>20594.632184</td>\n",
       "      <td>19707.428571</td>\n",
       "      <td>20075.459627</td>\n",
       "    </tr>\n",
       "    <tr>\n",
       "      <th>Democratic Party</th>\n",
       "      <td>20510.970874</td>\n",
       "      <td>18142.117647</td>\n",
       "      <td>20006.715909</td>\n",
       "    </tr>\n",
       "    <tr>\n",
       "      <th>Fake News</th>\n",
       "      <td>22979.226519</td>\n",
       "      <td>16588.428571</td>\n",
       "      <td>19332.865854</td>\n",
       "    </tr>\n",
       "    <tr>\n",
       "      <th>Good</th>\n",
       "      <td>19922.600000</td>\n",
       "      <td>NaN</td>\n",
       "      <td>17919.736842</td>\n",
       "    </tr>\n",
       "    <tr>\n",
       "      <th>Great</th>\n",
       "      <td>NaN</td>\n",
       "      <td>3591.000000</td>\n",
       "      <td>13850.379167</td>\n",
       "    </tr>\n",
       "    <tr>\n",
       "      <th>New York</th>\n",
       "      <td>19904.117647</td>\n",
       "      <td>NaN</td>\n",
       "      <td>18039.157407</td>\n",
       "    </tr>\n",
       "    <tr>\n",
       "      <th>President Trump</th>\n",
       "      <td>20402.230769</td>\n",
       "      <td>16632.750000</td>\n",
       "      <td>17782.128378</td>\n",
       "    </tr>\n",
       "    <tr>\n",
       "      <th>Thanks to People</th>\n",
       "      <td>21571.394659</td>\n",
       "      <td>19617.201923</td>\n",
       "      <td>20145.465402</td>\n",
       "    </tr>\n",
       "  </tbody>\n",
       "</table>\n",
       "</div>"
      ],
      "text/plain": [
       "orientation           negative       neutral      positive\n",
       "entity                                                    \n",
       "Country           20594.632184  19707.428571  20075.459627\n",
       "Democratic Party  20510.970874  18142.117647  20006.715909\n",
       "Fake News         22979.226519  16588.428571  19332.865854\n",
       "Good              19922.600000           NaN  17919.736842\n",
       "Great                      NaN   3591.000000  13850.379167\n",
       "New York          19904.117647           NaN  18039.157407\n",
       "President Trump   20402.230769  16632.750000  17782.128378\n",
       "Thanks to People  21571.394659  19617.201923  20145.465402"
      ]
     },
     "execution_count": 62,
     "metadata": {},
     "output_type": "execute_result"
    }
   ],
   "source": [
    "# average of retweet_count\n",
    "retweet = top_8.groupby(['entity', 'orientation'])['retweet_count'].mean().unstack()\n",
    "retweet"
   ]
  },
  {
   "cell_type": "code",
   "execution_count": 402,
   "metadata": {},
   "outputs": [
    {
     "data": {
      "image/png": "[encoded data removed]",
      "text/plain": [
       "<Figure size 720x360 with 1 Axes>"
      ]
     },
     "metadata": {
      "needs_background": "light"
     },
     "output_type": "display_data"
    }
   ],
   "source": [
    "# average of retweet_count\n",
    "# positive: Great\n",
    "# all others are about negative tweets\n",
    "retweet.plot(kind='bar', figsize=(10, 5))\n",
    "plt.xlabel('')\n",
    "plt.title('average of retweet_count')\n",
    "plt.show()"
   ]
  },
  {
   "cell_type": "code",
   "execution_count": 403,
   "metadata": {},
   "outputs": [
    {
     "data": {
      "text/html": [
       "<div>\n",
       "<style scoped>\n",
       "    .dataframe tbody tr th:only-of-type {\n",
       "        vertical-align: middle;\n",
       "    }\n",
       "\n",
       "    .dataframe tbody tr th {\n",
       "        vertical-align: top;\n",
       "    }\n",
       "\n",
       "    .dataframe thead th {\n",
       "        text-align: right;\n",
       "    }\n",
       "</style>\n",
       "<table border=\"1\" class=\"dataframe\">\n",
       "  <thead>\n",
       "    <tr style=\"text-align: right;\">\n",
       "      <th>orientation</th>\n",
       "      <th>negative</th>\n",
       "      <th>neutral</th>\n",
       "      <th>positive</th>\n",
       "    </tr>\n",
       "    <tr>\n",
       "      <th>entity</th>\n",
       "      <th></th>\n",
       "      <th></th>\n",
       "      <th></th>\n",
       "    </tr>\n",
       "  </thead>\n",
       "  <tbody>\n",
       "    <tr>\n",
       "      <th>Country</th>\n",
       "      <td>7776896.0</td>\n",
       "      <td>689020.0</td>\n",
       "      <td>15221724.0</td>\n",
       "    </tr>\n",
       "    <tr>\n",
       "      <th>Democratic Party</th>\n",
       "      <td>8974588.0</td>\n",
       "      <td>2403340.0</td>\n",
       "      <td>7665873.0</td>\n",
       "    </tr>\n",
       "    <tr>\n",
       "      <th>Fake News</th>\n",
       "      <td>17688653.0</td>\n",
       "      <td>577428.0</td>\n",
       "      <td>7607673.0</td>\n",
       "    </tr>\n",
       "    <tr>\n",
       "      <th>Good</th>\n",
       "      <td>849875.0</td>\n",
       "      <td>NaN</td>\n",
       "      <td>12842438.0</td>\n",
       "    </tr>\n",
       "    <tr>\n",
       "      <th>Great</th>\n",
       "      <td>NaN</td>\n",
       "      <td>18091.0</td>\n",
       "      <td>16200424.0</td>\n",
       "    </tr>\n",
       "    <tr>\n",
       "      <th>New York</th>\n",
       "      <td>4483204.0</td>\n",
       "      <td>NaN</td>\n",
       "      <td>8907817.0</td>\n",
       "    </tr>\n",
       "    <tr>\n",
       "      <th>President Trump</th>\n",
       "      <td>6762902.0</td>\n",
       "      <td>2806257.0</td>\n",
       "      <td>11808563.0</td>\n",
       "    </tr>\n",
       "    <tr>\n",
       "      <th>Thanks to People</th>\n",
       "      <td>31621271.0</td>\n",
       "      <td>18278129.0</td>\n",
       "      <td>82435475.0</td>\n",
       "    </tr>\n",
       "  </tbody>\n",
       "</table>\n",
       "</div>"
      ],
      "text/plain": [
       "orientation         negative     neutral    positive\n",
       "entity                                              \n",
       "Country            7776896.0    689020.0  15221724.0\n",
       "Democratic Party   8974588.0   2403340.0   7665873.0\n",
       "Fake News         17688653.0    577428.0   7607673.0\n",
       "Good                849875.0         NaN  12842438.0\n",
       "Great                    NaN     18091.0  16200424.0\n",
       "New York           4483204.0         NaN   8907817.0\n",
       "President Trump    6762902.0   2806257.0  11808563.0\n",
       "Thanks to People  31621271.0  18278129.0  82435475.0"
      ]
     },
     "execution_count": 403,
     "metadata": {},
     "output_type": "execute_result"
    }
   ],
   "source": [
    "# sum of favorite_count\n",
    "favorite = top_8.groupby(['entity', 'orientation'])['favorite_count'].sum().unstack()\n",
    "favorite"
   ]
  },
  {
   "cell_type": "code",
   "execution_count": 404,
   "metadata": {},
   "outputs": [
    {
     "data": {
      "image/png": "[encoded data removed]",
      "text/plain": [
       "<Figure size 720x360 with 1 Axes>"
      ]
     },
     "metadata": {
      "needs_background": "light"
     },
     "output_type": "display_data"
    }
   ],
   "source": [
    "# sum of favorite_count\n",
    "# similar distribution of number of tweets\n",
    "favorite.plot(kind='bar', figsize=(10, 5), ylim=(0,5e7))\n",
    "plt.xlabel('')\n",
    "plt.title('sum of favorite_count')\n",
    "plt.show()"
   ]
  },
  {
   "cell_type": "code",
   "execution_count": 405,
   "metadata": {},
   "outputs": [
    {
     "data": {
      "text/html": [
       "<div>\n",
       "<style scoped>\n",
       "    .dataframe tbody tr th:only-of-type {\n",
       "        vertical-align: middle;\n",
       "    }\n",
       "\n",
       "    .dataframe tbody tr th {\n",
       "        vertical-align: top;\n",
       "    }\n",
       "\n",
       "    .dataframe thead th {\n",
       "        text-align: right;\n",
       "    }\n",
       "</style>\n",
       "<table border=\"1\" class=\"dataframe\">\n",
       "  <thead>\n",
       "    <tr style=\"text-align: right;\">\n",
       "      <th>orientation</th>\n",
       "      <th>negative</th>\n",
       "      <th>neutral</th>\n",
       "      <th>positive</th>\n",
       "    </tr>\n",
       "    <tr>\n",
       "      <th>entity</th>\n",
       "      <th></th>\n",
       "      <th></th>\n",
       "      <th></th>\n",
       "    </tr>\n",
       "  </thead>\n",
       "  <tbody>\n",
       "    <tr>\n",
       "      <th>Country</th>\n",
       "      <td>89389.609195</td>\n",
       "      <td>98431.428571</td>\n",
       "      <td>94544.869565</td>\n",
       "    </tr>\n",
       "    <tr>\n",
       "      <th>Democratic Party</th>\n",
       "      <td>87131.922330</td>\n",
       "      <td>70686.470588</td>\n",
       "      <td>87112.193182</td>\n",
       "    </tr>\n",
       "    <tr>\n",
       "      <th>Fake News</th>\n",
       "      <td>97727.364641</td>\n",
       "      <td>82489.714286</td>\n",
       "      <td>92776.500000</td>\n",
       "    </tr>\n",
       "    <tr>\n",
       "      <th>Good</th>\n",
       "      <td>84987.500000</td>\n",
       "      <td>NaN</td>\n",
       "      <td>84489.723684</td>\n",
       "    </tr>\n",
       "    <tr>\n",
       "      <th>Great</th>\n",
       "      <td>NaN</td>\n",
       "      <td>18091.000000</td>\n",
       "      <td>67501.766667</td>\n",
       "    </tr>\n",
       "    <tr>\n",
       "      <th>New York</th>\n",
       "      <td>87905.960784</td>\n",
       "      <td>NaN</td>\n",
       "      <td>82479.787037</td>\n",
       "    </tr>\n",
       "    <tr>\n",
       "      <th>President Trump</th>\n",
       "      <td>86703.871795</td>\n",
       "      <td>70156.425000</td>\n",
       "      <td>79787.587838</td>\n",
       "    </tr>\n",
       "    <tr>\n",
       "      <th>Thanks to People</th>\n",
       "      <td>93831.664688</td>\n",
       "      <td>87875.620192</td>\n",
       "      <td>92003.878348</td>\n",
       "    </tr>\n",
       "  </tbody>\n",
       "</table>\n",
       "</div>"
      ],
      "text/plain": [
       "orientation           negative       neutral      positive\n",
       "entity                                                    \n",
       "Country           89389.609195  98431.428571  94544.869565\n",
       "Democratic Party  87131.922330  70686.470588  87112.193182\n",
       "Fake News         97727.364641  82489.714286  92776.500000\n",
       "Good              84987.500000           NaN  84489.723684\n",
       "Great                      NaN  18091.000000  67501.766667\n",
       "New York          87905.960784           NaN  82479.787037\n",
       "President Trump   86703.871795  70156.425000  79787.587838\n",
       "Thanks to People  93831.664688  87875.620192  92003.878348"
      ]
     },
     "execution_count": 405,
     "metadata": {},
     "output_type": "execute_result"
    }
   ],
   "source": [
    "# average of favorite_count\n",
    "favorite = top_8.groupby(['entity', 'orientation'])['favorite_count'].mean().unstack()\n",
    "favorite"
   ]
  },
  {
   "cell_type": "code",
   "execution_count": 406,
   "metadata": {},
   "outputs": [
    {
     "data": {
      "image/png": "[encoded data removed]",
      "text/plain": [
       "<Figure size 720x360 with 1 Axes>"
      ]
     },
     "metadata": {
      "needs_background": "light"
     },
     "output_type": "display_data"
    }
   ],
   "source": [
    "# average of favorite_count\n",
    "# neutral: Country\n",
    "# positive: Great\n",
    "# all others are about negative tweets\n",
    "favorite.plot(kind='bar', figsize=(10, 5))\n",
    "plt.xlabel('')\n",
    "plt.title('average of favorite_count')\n",
    "plt.show()"
   ]
  },
  {
   "cell_type": "markdown",
   "metadata": {},
   "source": [
    "# hierarchical clustering"
   ]
  },
  {
   "cell_type": "code",
   "execution_count": 407,
   "metadata": {},
   "outputs": [
    {
     "data": {
      "image/png": "[encoded data removed]",
      "text/plain": [
       "<Figure size 1440x720 with 1 Axes>"
      ]
     },
     "metadata": {
      "needs_background": "light"
     },
     "output_type": "display_data"
    }
   ],
   "source": [
    "# number of tweets by entity in all clusters\n",
    "a_cluster = trump[['a_cluster', 'orientation']].groupby(['a_cluster', 'orientation']).size().unstack()\n",
    "a_cluster.plot(kind='bar', figsize=(20,10), ylim=(0,1000))\n",
    "plt.xlabel('')\n",
    "plt.title('number of tweets by entity')\n",
    "plt.show()"
   ]
  },
  {
   "cell_type": "code",
   "execution_count": 408,
   "metadata": {},
   "outputs": [
    {
     "data": {
      "text/html": [
       "<div>\n",
       "<style scoped>\n",
       "    .dataframe tbody tr th:only-of-type {\n",
       "        vertical-align: middle;\n",
       "    }\n",
       "\n",
       "    .dataframe tbody tr th {\n",
       "        vertical-align: top;\n",
       "    }\n",
       "\n",
       "    .dataframe thead th {\n",
       "        text-align: right;\n",
       "    }\n",
       "</style>\n",
       "<table border=\"1\" class=\"dataframe\">\n",
       "  <thead>\n",
       "    <tr style=\"text-align: right;\">\n",
       "      <th></th>\n",
       "      <th>entity</th>\n",
       "      <th>orientation</th>\n",
       "      <th>favorite_count</th>\n",
       "      <th>retweet_count</th>\n",
       "    </tr>\n",
       "  </thead>\n",
       "  <tbody>\n",
       "    <tr>\n",
       "      <th>0</th>\n",
       "      <td>Thanks to People</td>\n",
       "      <td>negative</td>\n",
       "      <td>156126.0</td>\n",
       "      <td>38037.0</td>\n",
       "    </tr>\n",
       "    <tr>\n",
       "      <th>1</th>\n",
       "      <td>Thanks to People</td>\n",
       "      <td>positive</td>\n",
       "      <td>34845.0</td>\n",
       "      <td>11170.0</td>\n",
       "    </tr>\n",
       "    <tr>\n",
       "      <th>2</th>\n",
       "      <td>Thanks to People</td>\n",
       "      <td>positive</td>\n",
       "      <td>33328.0</td>\n",
       "      <td>8521.0</td>\n",
       "    </tr>\n",
       "    <tr>\n",
       "      <th>3</th>\n",
       "      <td>Thanks to People</td>\n",
       "      <td>positive</td>\n",
       "      <td>56133.0</td>\n",
       "      <td>13626.0</td>\n",
       "    </tr>\n",
       "    <tr>\n",
       "      <th>4</th>\n",
       "      <td>Thanks to People</td>\n",
       "      <td>positive</td>\n",
       "      <td>65073.0</td>\n",
       "      <td>16955.0</td>\n",
       "    </tr>\n",
       "  </tbody>\n",
       "</table>\n",
       "</div>"
      ],
      "text/plain": [
       "             entity orientation  favorite_count  retweet_count\n",
       "0  Thanks to People    negative        156126.0        38037.0\n",
       "1  Thanks to People    positive         34845.0        11170.0\n",
       "2  Thanks to People    positive         33328.0         8521.0\n",
       "3  Thanks to People    positive         56133.0        13626.0\n",
       "4  Thanks to People    positive         65073.0        16955.0"
      ]
     },
     "execution_count": 408,
     "metadata": {},
     "output_type": "execute_result"
    }
   ],
   "source": [
    "top_8 = trump[['a_cluster', 'orientation', 'favorite_count', 'retweet_count']]\n",
    "top_8 = top_8[top_8['a_cluster'].isin([0, 1, 2, 3, 10, 15, 5, 7])]\n",
    "top_8['a_cluster'] = top_8['a_cluster'].replace(0, 'Thanks to People').replace(1, 'Whistleblower').replace(2, 'China')\\\n",
    "                    .replace(3, 'Democratic Party').replace(10, 'Fake News')\\\n",
    "                    .replace(15, 'Thanks').replace(5, 'Endorsement').replace(7, 'North Carolina')\n",
    "top_8.columns = ['entity', 'orientation', 'favorite_count', 'retweet_count']\n",
    "top_8.head()"
   ]
  },
  {
   "cell_type": "code",
   "execution_count": 409,
   "metadata": {},
   "outputs": [
    {
     "data": {
      "text/html": [
       "<div>\n",
       "<style scoped>\n",
       "    .dataframe tbody tr th:only-of-type {\n",
       "        vertical-align: middle;\n",
       "    }\n",
       "\n",
       "    .dataframe tbody tr th {\n",
       "        vertical-align: top;\n",
       "    }\n",
       "\n",
       "    .dataframe thead th {\n",
       "        text-align: right;\n",
       "    }\n",
       "</style>\n",
       "<table border=\"1\" class=\"dataframe\">\n",
       "  <thead>\n",
       "    <tr style=\"text-align: right;\">\n",
       "      <th>orientation</th>\n",
       "      <th>negative</th>\n",
       "      <th>neutral</th>\n",
       "      <th>positive</th>\n",
       "    </tr>\n",
       "    <tr>\n",
       "      <th>entity</th>\n",
       "      <th></th>\n",
       "      <th></th>\n",
       "      <th></th>\n",
       "    </tr>\n",
       "  </thead>\n",
       "  <tbody>\n",
       "    <tr>\n",
       "      <th>China</th>\n",
       "      <td>38.0</td>\n",
       "      <td>5.0</td>\n",
       "      <td>132.0</td>\n",
       "    </tr>\n",
       "    <tr>\n",
       "      <th>Democratic Party</th>\n",
       "      <td>267.0</td>\n",
       "      <td>76.0</td>\n",
       "      <td>211.0</td>\n",
       "    </tr>\n",
       "    <tr>\n",
       "      <th>Endorsement</th>\n",
       "      <td>NaN</td>\n",
       "      <td>NaN</td>\n",
       "      <td>63.0</td>\n",
       "    </tr>\n",
       "    <tr>\n",
       "      <th>Fake News</th>\n",
       "      <td>102.0</td>\n",
       "      <td>10.0</td>\n",
       "      <td>49.0</td>\n",
       "    </tr>\n",
       "    <tr>\n",
       "      <th>North Carolina</th>\n",
       "      <td>5.0</td>\n",
       "      <td>4.0</td>\n",
       "      <td>38.0</td>\n",
       "    </tr>\n",
       "    <tr>\n",
       "      <th>Thanks</th>\n",
       "      <td>NaN</td>\n",
       "      <td>NaN</td>\n",
       "      <td>106.0</td>\n",
       "    </tr>\n",
       "    <tr>\n",
       "      <th>Thanks to People</th>\n",
       "      <td>742.0</td>\n",
       "      <td>280.0</td>\n",
       "      <td>2088.0</td>\n",
       "    </tr>\n",
       "    <tr>\n",
       "      <th>Whistleblower</th>\n",
       "      <td>67.0</td>\n",
       "      <td>21.0</td>\n",
       "      <td>26.0</td>\n",
       "    </tr>\n",
       "  </tbody>\n",
       "</table>\n",
       "</div>"
      ],
      "text/plain": [
       "orientation       negative  neutral  positive\n",
       "entity                                       \n",
       "China                 38.0      5.0     132.0\n",
       "Democratic Party     267.0     76.0     211.0\n",
       "Endorsement            NaN      NaN      63.0\n",
       "Fake News            102.0     10.0      49.0\n",
       "North Carolina         5.0      4.0      38.0\n",
       "Thanks                 NaN      NaN     106.0\n",
       "Thanks to People     742.0    280.0    2088.0\n",
       "Whistleblower         67.0     21.0      26.0"
      ]
     },
     "execution_count": 409,
     "metadata": {},
     "output_type": "execute_result"
    }
   ],
   "source": [
    "# number of tweets\n",
    "count = top_8.groupby(['entity', 'orientation']).size().unstack()\n",
    "count"
   ]
  },
  {
   "cell_type": "code",
   "execution_count": 410,
   "metadata": {},
   "outputs": [
    {
     "data": {
      "image/png": "[encoded data removed]",
      "text/plain": [
       "<Figure size 720x360 with 1 Axes>"
      ]
     },
     "metadata": {
      "needs_background": "light"
     },
     "output_type": "display_data"
    }
   ],
   "source": [
    "# tweet count\n",
    "# negative: Democratic Party, Fake News, Whistleblower\n",
    "# all others are about positive tweets\n",
    "count.plot(kind='bar', figsize=(10,5), ylim=(0,1000))\n",
    "plt.xlabel('')\n",
    "plt.title('number of tweets')\n",
    "plt.show()"
   ]
  },
  {
   "cell_type": "code",
   "execution_count": 411,
   "metadata": {},
   "outputs": [
    {
     "data": {
      "text/html": [
       "<div>\n",
       "<style scoped>\n",
       "    .dataframe tbody tr th:only-of-type {\n",
       "        vertical-align: middle;\n",
       "    }\n",
       "\n",
       "    .dataframe tbody tr th {\n",
       "        vertical-align: top;\n",
       "    }\n",
       "\n",
       "    .dataframe thead th {\n",
       "        text-align: right;\n",
       "    }\n",
       "</style>\n",
       "<table border=\"1\" class=\"dataframe\">\n",
       "  <thead>\n",
       "    <tr style=\"text-align: right;\">\n",
       "      <th>orientation</th>\n",
       "      <th>negative</th>\n",
       "      <th>neutral</th>\n",
       "      <th>positive</th>\n",
       "    </tr>\n",
       "    <tr>\n",
       "      <th>entity</th>\n",
       "      <th></th>\n",
       "      <th></th>\n",
       "      <th></th>\n",
       "    </tr>\n",
       "  </thead>\n",
       "  <tbody>\n",
       "    <tr>\n",
       "      <th>China</th>\n",
       "      <td>580888.0</td>\n",
       "      <td>108102.0</td>\n",
       "      <td>2162074.0</td>\n",
       "    </tr>\n",
       "    <tr>\n",
       "      <th>Democratic Party</th>\n",
       "      <td>5474385.0</td>\n",
       "      <td>1370405.0</td>\n",
       "      <td>4013697.0</td>\n",
       "    </tr>\n",
       "    <tr>\n",
       "      <th>Endorsement</th>\n",
       "      <td>NaN</td>\n",
       "      <td>NaN</td>\n",
       "      <td>682858.0</td>\n",
       "    </tr>\n",
       "    <tr>\n",
       "      <th>Fake News</th>\n",
       "      <td>2212526.0</td>\n",
       "      <td>98982.0</td>\n",
       "      <td>944840.0</td>\n",
       "    </tr>\n",
       "    <tr>\n",
       "      <th>North Carolina</th>\n",
       "      <td>79281.0</td>\n",
       "      <td>44380.0</td>\n",
       "      <td>464504.0</td>\n",
       "    </tr>\n",
       "    <tr>\n",
       "      <th>Thanks</th>\n",
       "      <td>NaN</td>\n",
       "      <td>NaN</td>\n",
       "      <td>1446345.0</td>\n",
       "    </tr>\n",
       "    <tr>\n",
       "      <th>Thanks to People</th>\n",
       "      <td>16356694.0</td>\n",
       "      <td>5688128.0</td>\n",
       "      <td>40543450.0</td>\n",
       "    </tr>\n",
       "    <tr>\n",
       "      <th>Whistleblower</th>\n",
       "      <td>1515568.0</td>\n",
       "      <td>405982.0</td>\n",
       "      <td>493598.0</td>\n",
       "    </tr>\n",
       "  </tbody>\n",
       "</table>\n",
       "</div>"
      ],
      "text/plain": [
       "orientation         negative    neutral    positive\n",
       "entity                                             \n",
       "China               580888.0   108102.0   2162074.0\n",
       "Democratic Party   5474385.0  1370405.0   4013697.0\n",
       "Endorsement              NaN        NaN    682858.0\n",
       "Fake News          2212526.0    98982.0    944840.0\n",
       "North Carolina       79281.0    44380.0    464504.0\n",
       "Thanks                   NaN        NaN   1446345.0\n",
       "Thanks to People  16356694.0  5688128.0  40543450.0\n",
       "Whistleblower      1515568.0   405982.0    493598.0"
      ]
     },
     "execution_count": 411,
     "metadata": {},
     "output_type": "execute_result"
    }
   ],
   "source": [
    "# sum of retweet_count\n",
    "retweet = top_8.groupby(['entity', 'orientation'])['retweet_count'].sum().unstack()\n",
    "retweet"
   ]
  },
  {
   "cell_type": "code",
   "execution_count": 412,
   "metadata": {},
   "outputs": [
    {
     "data": {
      "image/png": "[encoded data removed]",
      "text/plain": [
       "<Figure size 720x360 with 1 Axes>"
      ]
     },
     "metadata": {
      "needs_background": "light"
     },
     "output_type": "display_data"
    }
   ],
   "source": [
    "# sum of retweet_count\n",
    "# similar distribution \n",
    "retweet.plot(kind='bar', figsize=(10, 5), ylim=(0, 2e7))\n",
    "plt.xlabel('')\n",
    "plt.title('sum of retweet_count')\n",
    "plt.show()"
   ]
  },
  {
   "cell_type": "code",
   "execution_count": 413,
   "metadata": {},
   "outputs": [
    {
     "data": {
      "text/html": [
       "<div>\n",
       "<style scoped>\n",
       "    .dataframe tbody tr th:only-of-type {\n",
       "        vertical-align: middle;\n",
       "    }\n",
       "\n",
       "    .dataframe tbody tr th {\n",
       "        vertical-align: top;\n",
       "    }\n",
       "\n",
       "    .dataframe thead th {\n",
       "        text-align: right;\n",
       "    }\n",
       "</style>\n",
       "<table border=\"1\" class=\"dataframe\">\n",
       "  <thead>\n",
       "    <tr style=\"text-align: right;\">\n",
       "      <th>orientation</th>\n",
       "      <th>negative</th>\n",
       "      <th>neutral</th>\n",
       "      <th>positive</th>\n",
       "    </tr>\n",
       "    <tr>\n",
       "      <th>entity</th>\n",
       "      <th></th>\n",
       "      <th></th>\n",
       "      <th></th>\n",
       "    </tr>\n",
       "  </thead>\n",
       "  <tbody>\n",
       "    <tr>\n",
       "      <th>China</th>\n",
       "      <td>15286.526316</td>\n",
       "      <td>21620.400000</td>\n",
       "      <td>16379.348485</td>\n",
       "    </tr>\n",
       "    <tr>\n",
       "      <th>Democratic Party</th>\n",
       "      <td>20503.314607</td>\n",
       "      <td>18031.644737</td>\n",
       "      <td>19022.260664</td>\n",
       "    </tr>\n",
       "    <tr>\n",
       "      <th>Endorsement</th>\n",
       "      <td>NaN</td>\n",
       "      <td>NaN</td>\n",
       "      <td>10839.015873</td>\n",
       "    </tr>\n",
       "    <tr>\n",
       "      <th>Fake News</th>\n",
       "      <td>21691.431373</td>\n",
       "      <td>9898.200000</td>\n",
       "      <td>19282.448980</td>\n",
       "    </tr>\n",
       "    <tr>\n",
       "      <th>North Carolina</th>\n",
       "      <td>15856.200000</td>\n",
       "      <td>11095.000000</td>\n",
       "      <td>12223.789474</td>\n",
       "    </tr>\n",
       "    <tr>\n",
       "      <th>Thanks</th>\n",
       "      <td>NaN</td>\n",
       "      <td>NaN</td>\n",
       "      <td>13644.764151</td>\n",
       "    </tr>\n",
       "    <tr>\n",
       "      <th>Thanks to People</th>\n",
       "      <td>22044.061995</td>\n",
       "      <td>20314.742857</td>\n",
       "      <td>19417.361111</td>\n",
       "    </tr>\n",
       "    <tr>\n",
       "      <th>Whistleblower</th>\n",
       "      <td>22620.417910</td>\n",
       "      <td>19332.476190</td>\n",
       "      <td>18984.538462</td>\n",
       "    </tr>\n",
       "  </tbody>\n",
       "</table>\n",
       "</div>"
      ],
      "text/plain": [
       "orientation           negative       neutral      positive\n",
       "entity                                                    \n",
       "China             15286.526316  21620.400000  16379.348485\n",
       "Democratic Party  20503.314607  18031.644737  19022.260664\n",
       "Endorsement                NaN           NaN  10839.015873\n",
       "Fake News         21691.431373   9898.200000  19282.448980\n",
       "North Carolina    15856.200000  11095.000000  12223.789474\n",
       "Thanks                     NaN           NaN  13644.764151\n",
       "Thanks to People  22044.061995  20314.742857  19417.361111\n",
       "Whistleblower     22620.417910  19332.476190  18984.538462"
      ]
     },
     "execution_count": 413,
     "metadata": {},
     "output_type": "execute_result"
    }
   ],
   "source": [
    "# average of retweet_count\n",
    "retweet = top_8.groupby(['entity', 'orientation'])['retweet_count'].mean().unstack()\n",
    "retweet"
   ]
  },
  {
   "cell_type": "code",
   "execution_count": 414,
   "metadata": {},
   "outputs": [
    {
     "data": {
      "image/png": "[encoded data removed]",
      "text/plain": [
       "<Figure size 720x360 with 1 Axes>"
      ]
     },
     "metadata": {
      "needs_background": "light"
     },
     "output_type": "display_data"
    }
   ],
   "source": [
    "# average of retweet_count\n",
    "# neutral: China\n",
    "# positive: Endorsement, Thanks\n",
    "# all others are about negative tweets\n",
    "retweet.plot(kind='bar', figsize=(10, 5))\n",
    "plt.xlabel('')\n",
    "plt.title('average of retweet_count')\n",
    "plt.show()"
   ]
  },
  {
   "cell_type": "code",
   "execution_count": 415,
   "metadata": {},
   "outputs": [
    {
     "data": {
      "text/html": [
       "<div>\n",
       "<style scoped>\n",
       "    .dataframe tbody tr th:only-of-type {\n",
       "        vertical-align: middle;\n",
       "    }\n",
       "\n",
       "    .dataframe tbody tr th {\n",
       "        vertical-align: top;\n",
       "    }\n",
       "\n",
       "    .dataframe thead th {\n",
       "        text-align: right;\n",
       "    }\n",
       "</style>\n",
       "<table border=\"1\" class=\"dataframe\">\n",
       "  <thead>\n",
       "    <tr style=\"text-align: right;\">\n",
       "      <th>orientation</th>\n",
       "      <th>negative</th>\n",
       "      <th>neutral</th>\n",
       "      <th>positive</th>\n",
       "    </tr>\n",
       "    <tr>\n",
       "      <th>entity</th>\n",
       "      <th></th>\n",
       "      <th></th>\n",
       "      <th></th>\n",
       "    </tr>\n",
       "  </thead>\n",
       "  <tbody>\n",
       "    <tr>\n",
       "      <th>China</th>\n",
       "      <td>2527688.0</td>\n",
       "      <td>494077.0</td>\n",
       "      <td>10243552.0</td>\n",
       "    </tr>\n",
       "    <tr>\n",
       "      <th>Democratic Party</th>\n",
       "      <td>23330259.0</td>\n",
       "      <td>5475775.0</td>\n",
       "      <td>17497371.0</td>\n",
       "    </tr>\n",
       "    <tr>\n",
       "      <th>Endorsement</th>\n",
       "      <td>NaN</td>\n",
       "      <td>NaN</td>\n",
       "      <td>2592410.0</td>\n",
       "    </tr>\n",
       "    <tr>\n",
       "      <th>Fake News</th>\n",
       "      <td>9324803.0</td>\n",
       "      <td>383005.0</td>\n",
       "      <td>4180492.0</td>\n",
       "    </tr>\n",
       "    <tr>\n",
       "      <th>North Carolina</th>\n",
       "      <td>330859.0</td>\n",
       "      <td>239529.0</td>\n",
       "      <td>2084882.0</td>\n",
       "    </tr>\n",
       "    <tr>\n",
       "      <th>Thanks</th>\n",
       "      <td>NaN</td>\n",
       "      <td>NaN</td>\n",
       "      <td>6350417.0</td>\n",
       "    </tr>\n",
       "    <tr>\n",
       "      <th>Thanks to People</th>\n",
       "      <td>70718519.0</td>\n",
       "      <td>25115046.0</td>\n",
       "      <td>187492570.0</td>\n",
       "    </tr>\n",
       "    <tr>\n",
       "      <th>Whistleblower</th>\n",
       "      <td>6166841.0</td>\n",
       "      <td>1576506.0</td>\n",
       "      <td>2024873.0</td>\n",
       "    </tr>\n",
       "  </tbody>\n",
       "</table>\n",
       "</div>"
      ],
      "text/plain": [
       "orientation         negative     neutral     positive\n",
       "entity                                               \n",
       "China              2527688.0    494077.0   10243552.0\n",
       "Democratic Party  23330259.0   5475775.0   17497371.0\n",
       "Endorsement              NaN         NaN    2592410.0\n",
       "Fake News          9324803.0    383005.0    4180492.0\n",
       "North Carolina      330859.0    239529.0    2084882.0\n",
       "Thanks                   NaN         NaN    6350417.0\n",
       "Thanks to People  70718519.0  25115046.0  187492570.0\n",
       "Whistleblower      6166841.0   1576506.0    2024873.0"
      ]
     },
     "execution_count": 415,
     "metadata": {},
     "output_type": "execute_result"
    }
   ],
   "source": [
    "# sum of favorite_count\n",
    "favorite = top_8.groupby(['entity', 'orientation'])['favorite_count'].sum().unstack()\n",
    "favorite"
   ]
  },
  {
   "cell_type": "code",
   "execution_count": 416,
   "metadata": {},
   "outputs": [
    {
     "data": {
      "image/png": "[encoded data removed]",
      "text/plain": [
       "<Figure size 720x360 with 1 Axes>"
      ]
     },
     "metadata": {
      "needs_background": "light"
     },
     "output_type": "display_data"
    }
   ],
   "source": [
    "# sum of favorite_count\n",
    "# similar distribution of number of tweets\n",
    "favorite.plot(kind='bar', figsize=(10, 5), ylim=(0, 1e8))\n",
    "plt.xlabel('')\n",
    "plt.title('sum of favorite_count')\n",
    "plt.show()"
   ]
  },
  {
   "cell_type": "code",
   "execution_count": 417,
   "metadata": {},
   "outputs": [
    {
     "data": {
      "text/html": [
       "<div>\n",
       "<style scoped>\n",
       "    .dataframe tbody tr th:only-of-type {\n",
       "        vertical-align: middle;\n",
       "    }\n",
       "\n",
       "    .dataframe tbody tr th {\n",
       "        vertical-align: top;\n",
       "    }\n",
       "\n",
       "    .dataframe thead th {\n",
       "        text-align: right;\n",
       "    }\n",
       "</style>\n",
       "<table border=\"1\" class=\"dataframe\">\n",
       "  <thead>\n",
       "    <tr style=\"text-align: right;\">\n",
       "      <th>orientation</th>\n",
       "      <th>negative</th>\n",
       "      <th>neutral</th>\n",
       "      <th>positive</th>\n",
       "    </tr>\n",
       "    <tr>\n",
       "      <th>entity</th>\n",
       "      <th></th>\n",
       "      <th></th>\n",
       "      <th></th>\n",
       "    </tr>\n",
       "  </thead>\n",
       "  <tbody>\n",
       "    <tr>\n",
       "      <th>China</th>\n",
       "      <td>66518.105263</td>\n",
       "      <td>98815.400000</td>\n",
       "      <td>77602.666667</td>\n",
       "    </tr>\n",
       "    <tr>\n",
       "      <th>Democratic Party</th>\n",
       "      <td>87379.247191</td>\n",
       "      <td>72049.671053</td>\n",
       "      <td>82925.928910</td>\n",
       "    </tr>\n",
       "    <tr>\n",
       "      <th>Endorsement</th>\n",
       "      <td>NaN</td>\n",
       "      <td>NaN</td>\n",
       "      <td>41149.365079</td>\n",
       "    </tr>\n",
       "    <tr>\n",
       "      <th>Fake News</th>\n",
       "      <td>91419.637255</td>\n",
       "      <td>38300.500000</td>\n",
       "      <td>85316.163265</td>\n",
       "    </tr>\n",
       "    <tr>\n",
       "      <th>North Carolina</th>\n",
       "      <td>66171.800000</td>\n",
       "      <td>59882.250000</td>\n",
       "      <td>54865.315789</td>\n",
       "    </tr>\n",
       "    <tr>\n",
       "      <th>Thanks</th>\n",
       "      <td>NaN</td>\n",
       "      <td>NaN</td>\n",
       "      <td>59909.594340</td>\n",
       "    </tr>\n",
       "    <tr>\n",
       "      <th>Thanks to People</th>\n",
       "      <td>95307.977089</td>\n",
       "      <td>89696.592857</td>\n",
       "      <td>89795.292146</td>\n",
       "    </tr>\n",
       "    <tr>\n",
       "      <th>Whistleblower</th>\n",
       "      <td>92042.402985</td>\n",
       "      <td>75071.714286</td>\n",
       "      <td>77879.730769</td>\n",
       "    </tr>\n",
       "  </tbody>\n",
       "</table>\n",
       "</div>"
      ],
      "text/plain": [
       "orientation           negative       neutral      positive\n",
       "entity                                                    \n",
       "China             66518.105263  98815.400000  77602.666667\n",
       "Democratic Party  87379.247191  72049.671053  82925.928910\n",
       "Endorsement                NaN           NaN  41149.365079\n",
       "Fake News         91419.637255  38300.500000  85316.163265\n",
       "North Carolina    66171.800000  59882.250000  54865.315789\n",
       "Thanks                     NaN           NaN  59909.594340\n",
       "Thanks to People  95307.977089  89696.592857  89795.292146\n",
       "Whistleblower     92042.402985  75071.714286  77879.730769"
      ]
     },
     "execution_count": 417,
     "metadata": {},
     "output_type": "execute_result"
    }
   ],
   "source": [
    "# average of favorite_count\n",
    "favorite = top_8.groupby(['entity', 'orientation'])['favorite_count'].mean().unstack()\n",
    "favorite"
   ]
  },
  {
   "cell_type": "code",
   "execution_count": 418,
   "metadata": {},
   "outputs": [
    {
     "data": {
      "image/png": "[encoded data removed]",
      "text/plain": [
       "<Figure size 720x360 with 1 Axes>"
      ]
     },
     "metadata": {
      "needs_background": "light"
     },
     "output_type": "display_data"
    }
   ],
   "source": [
    "# average of favorite_count\n",
    "# neutral: China\n",
    "# positive: Endorsement, Thanks\n",
    "# all others are about negative tweets\n",
    "favorite.plot(kind='bar', figsize=(10, 5))\n",
    "plt.xlabel('')\n",
    "plt.title('average of favorite_count')\n",
    "plt.show()"
   ]
  },
  {
   "cell_type": "markdown",
   "metadata": {},
   "source": [
    "# time"
   ]
  },
  {
   "cell_type": "code",
   "execution_count": 419,
   "metadata": {},
   "outputs": [
    {
     "data": {
      "text/html": [
       "<div>\n",
       "<style scoped>\n",
       "    .dataframe tbody tr th:only-of-type {\n",
       "        vertical-align: middle;\n",
       "    }\n",
       "\n",
       "    .dataframe tbody tr th {\n",
       "        vertical-align: top;\n",
       "    }\n",
       "\n",
       "    .dataframe thead th {\n",
       "        text-align: right;\n",
       "    }\n",
       "</style>\n",
       "<table border=\"1\" class=\"dataframe\">\n",
       "  <thead>\n",
       "    <tr style=\"text-align: right;\">\n",
       "      <th>orientation</th>\n",
       "      <th>negative</th>\n",
       "      <th>neutral</th>\n",
       "      <th>positive</th>\n",
       "    </tr>\n",
       "    <tr>\n",
       "      <th>hour</th>\n",
       "      <th></th>\n",
       "      <th></th>\n",
       "      <th></th>\n",
       "    </tr>\n",
       "  </thead>\n",
       "  <tbody>\n",
       "    <tr>\n",
       "      <th>0</th>\n",
       "      <td>35.0</td>\n",
       "      <td>14.0</td>\n",
       "      <td>74.0</td>\n",
       "    </tr>\n",
       "    <tr>\n",
       "      <th>1</th>\n",
       "      <td>7.0</td>\n",
       "      <td>5.0</td>\n",
       "      <td>22.0</td>\n",
       "    </tr>\n",
       "    <tr>\n",
       "      <th>2</th>\n",
       "      <td>2.0</td>\n",
       "      <td>NaN</td>\n",
       "      <td>5.0</td>\n",
       "    </tr>\n",
       "    <tr>\n",
       "      <th>3</th>\n",
       "      <td>1.0</td>\n",
       "      <td>1.0</td>\n",
       "      <td>6.0</td>\n",
       "    </tr>\n",
       "    <tr>\n",
       "      <th>4</th>\n",
       "      <td>4.0</td>\n",
       "      <td>1.0</td>\n",
       "      <td>9.0</td>\n",
       "    </tr>\n",
       "    <tr>\n",
       "      <th>5</th>\n",
       "      <td>5.0</td>\n",
       "      <td>1.0</td>\n",
       "      <td>10.0</td>\n",
       "    </tr>\n",
       "    <tr>\n",
       "      <th>6</th>\n",
       "      <td>52.0</td>\n",
       "      <td>9.0</td>\n",
       "      <td>97.0</td>\n",
       "    </tr>\n",
       "    <tr>\n",
       "      <th>7</th>\n",
       "      <td>125.0</td>\n",
       "      <td>33.0</td>\n",
       "      <td>238.0</td>\n",
       "    </tr>\n",
       "    <tr>\n",
       "      <th>8</th>\n",
       "      <td>145.0</td>\n",
       "      <td>40.0</td>\n",
       "      <td>283.0</td>\n",
       "    </tr>\n",
       "    <tr>\n",
       "      <th>9</th>\n",
       "      <td>134.0</td>\n",
       "      <td>28.0</td>\n",
       "      <td>220.0</td>\n",
       "    </tr>\n",
       "    <tr>\n",
       "      <th>10</th>\n",
       "      <td>118.0</td>\n",
       "      <td>35.0</td>\n",
       "      <td>263.0</td>\n",
       "    </tr>\n",
       "    <tr>\n",
       "      <th>11</th>\n",
       "      <td>68.0</td>\n",
       "      <td>24.0</td>\n",
       "      <td>146.0</td>\n",
       "    </tr>\n",
       "    <tr>\n",
       "      <th>12</th>\n",
       "      <td>41.0</td>\n",
       "      <td>23.0</td>\n",
       "      <td>101.0</td>\n",
       "    </tr>\n",
       "    <tr>\n",
       "      <th>13</th>\n",
       "      <td>49.0</td>\n",
       "      <td>14.0</td>\n",
       "      <td>118.0</td>\n",
       "    </tr>\n",
       "    <tr>\n",
       "      <th>14</th>\n",
       "      <td>55.0</td>\n",
       "      <td>13.0</td>\n",
       "      <td>127.0</td>\n",
       "    </tr>\n",
       "    <tr>\n",
       "      <th>15</th>\n",
       "      <td>38.0</td>\n",
       "      <td>20.0</td>\n",
       "      <td>154.0</td>\n",
       "    </tr>\n",
       "    <tr>\n",
       "      <th>16</th>\n",
       "      <td>42.0</td>\n",
       "      <td>26.0</td>\n",
       "      <td>146.0</td>\n",
       "    </tr>\n",
       "    <tr>\n",
       "      <th>17</th>\n",
       "      <td>63.0</td>\n",
       "      <td>24.0</td>\n",
       "      <td>167.0</td>\n",
       "    </tr>\n",
       "    <tr>\n",
       "      <th>18</th>\n",
       "      <td>53.0</td>\n",
       "      <td>31.0</td>\n",
       "      <td>170.0</td>\n",
       "    </tr>\n",
       "    <tr>\n",
       "      <th>19</th>\n",
       "      <td>53.0</td>\n",
       "      <td>17.0</td>\n",
       "      <td>149.0</td>\n",
       "    </tr>\n",
       "    <tr>\n",
       "      <th>20</th>\n",
       "      <td>46.0</td>\n",
       "      <td>18.0</td>\n",
       "      <td>151.0</td>\n",
       "    </tr>\n",
       "    <tr>\n",
       "      <th>21</th>\n",
       "      <td>37.0</td>\n",
       "      <td>26.0</td>\n",
       "      <td>116.0</td>\n",
       "    </tr>\n",
       "    <tr>\n",
       "      <th>22</th>\n",
       "      <td>51.0</td>\n",
       "      <td>19.0</td>\n",
       "      <td>119.0</td>\n",
       "    </tr>\n",
       "    <tr>\n",
       "      <th>23</th>\n",
       "      <td>53.0</td>\n",
       "      <td>20.0</td>\n",
       "      <td>129.0</td>\n",
       "    </tr>\n",
       "  </tbody>\n",
       "</table>\n",
       "</div>"
      ],
      "text/plain": [
       "orientation  negative  neutral  positive\n",
       "hour                                    \n",
       "0                35.0     14.0      74.0\n",
       "1                 7.0      5.0      22.0\n",
       "2                 2.0      NaN       5.0\n",
       "3                 1.0      1.0       6.0\n",
       "4                 4.0      1.0       9.0\n",
       "5                 5.0      1.0      10.0\n",
       "6                52.0      9.0      97.0\n",
       "7               125.0     33.0     238.0\n",
       "8               145.0     40.0     283.0\n",
       "9               134.0     28.0     220.0\n",
       "10              118.0     35.0     263.0\n",
       "11               68.0     24.0     146.0\n",
       "12               41.0     23.0     101.0\n",
       "13               49.0     14.0     118.0\n",
       "14               55.0     13.0     127.0\n",
       "15               38.0     20.0     154.0\n",
       "16               42.0     26.0     146.0\n",
       "17               63.0     24.0     167.0\n",
       "18               53.0     31.0     170.0\n",
       "19               53.0     17.0     149.0\n",
       "20               46.0     18.0     151.0\n",
       "21               37.0     26.0     116.0\n",
       "22               51.0     19.0     119.0\n",
       "23               53.0     20.0     129.0"
      ]
     },
     "execution_count": 419,
     "metadata": {},
     "output_type": "execute_result"
    }
   ],
   "source": [
    "# trump's orientation against hour\n",
    "hour = trump.groupby(['hour', 'orientation']).size().unstack()\n",
    "hour"
   ]
  },
  {
   "cell_type": "code",
   "execution_count": 420,
   "metadata": {},
   "outputs": [
    {
     "data": {
      "image/png": "[encoded data removed]",
      "text/plain": [
       "<Figure size 720x360 with 1 Axes>"
      ]
     },
     "metadata": {
      "needs_background": "light"
     },
     "output_type": "display_data"
    }
   ],
   "source": [
    "# trump's orientation against hour\n",
    "# similar trend for all orientation, but he sent more tweets in the morning\n",
    "hour.plot(kind='line', figsize=(10, 5))\n",
    "plt.xlabel('')\n",
    "plt.title('orientation against hour')\n",
    "plt.show()"
   ]
  },
  {
   "cell_type": "code",
   "execution_count": 421,
   "metadata": {},
   "outputs": [
    {
     "data": {
      "text/html": [
       "<div>\n",
       "<style scoped>\n",
       "    .dataframe tbody tr th:only-of-type {\n",
       "        vertical-align: middle;\n",
       "    }\n",
       "\n",
       "    .dataframe tbody tr th {\n",
       "        vertical-align: top;\n",
       "    }\n",
       "\n",
       "    .dataframe thead th {\n",
       "        text-align: right;\n",
       "    }\n",
       "</style>\n",
       "<table border=\"1\" class=\"dataframe\">\n",
       "  <thead>\n",
       "    <tr style=\"text-align: right;\">\n",
       "      <th>orientation</th>\n",
       "      <th>negative</th>\n",
       "      <th>neutral</th>\n",
       "      <th>positive</th>\n",
       "    </tr>\n",
       "    <tr>\n",
       "      <th>day_of_week</th>\n",
       "      <th></th>\n",
       "      <th></th>\n",
       "      <th></th>\n",
       "    </tr>\n",
       "  </thead>\n",
       "  <tbody>\n",
       "    <tr>\n",
       "      <th>1</th>\n",
       "      <td>193</td>\n",
       "      <td>50</td>\n",
       "      <td>420</td>\n",
       "    </tr>\n",
       "    <tr>\n",
       "      <th>2</th>\n",
       "      <td>163</td>\n",
       "      <td>54</td>\n",
       "      <td>483</td>\n",
       "    </tr>\n",
       "    <tr>\n",
       "      <th>3</th>\n",
       "      <td>186</td>\n",
       "      <td>83</td>\n",
       "      <td>468</td>\n",
       "    </tr>\n",
       "    <tr>\n",
       "      <th>4</th>\n",
       "      <td>187</td>\n",
       "      <td>78</td>\n",
       "      <td>449</td>\n",
       "    </tr>\n",
       "    <tr>\n",
       "      <th>5</th>\n",
       "      <td>170</td>\n",
       "      <td>69</td>\n",
       "      <td>469</td>\n",
       "    </tr>\n",
       "    <tr>\n",
       "      <th>6</th>\n",
       "      <td>157</td>\n",
       "      <td>55</td>\n",
       "      <td>378</td>\n",
       "    </tr>\n",
       "    <tr>\n",
       "      <th>7</th>\n",
       "      <td>221</td>\n",
       "      <td>53</td>\n",
       "      <td>353</td>\n",
       "    </tr>\n",
       "  </tbody>\n",
       "</table>\n",
       "</div>"
      ],
      "text/plain": [
       "orientation  negative  neutral  positive\n",
       "day_of_week                             \n",
       "1                 193       50       420\n",
       "2                 163       54       483\n",
       "3                 186       83       468\n",
       "4                 187       78       449\n",
       "5                 170       69       469\n",
       "6                 157       55       378\n",
       "7                 221       53       353"
      ]
     },
     "execution_count": 421,
     "metadata": {},
     "output_type": "execute_result"
    }
   ],
   "source": [
    "# trump's orientation against day_of_week\n",
    "# 1 is Monday, etc\n",
    "day_of_week = trump.groupby(['day_of_week', 'orientation']).size().unstack()\n",
    "day_of_week"
   ]
  },
  {
   "cell_type": "code",
   "execution_count": 422,
   "metadata": {},
   "outputs": [
    {
     "data": {
      "image/png": "[encoded data removed]",
      "text/plain": [
       "<Figure size 720x360 with 1 Axes>"
      ]
     },
     "metadata": {
      "needs_background": "light"
     },
     "output_type": "display_data"
    }
   ],
   "source": [
    "# trump's orientation against day_of_week\n",
    "# 1 is Monday, etc\n",
    "# it seems when trump sent more positive tweets on a day, he trent to send less negative tweets on the same day\n",
    "# except on Saturday, amounts of both positive and negative tweets were decreasing\n",
    "day_of_week.plot(kind='line', figsize=(10, 5))\n",
    "plt.xlabel('')\n",
    "plt.title('orientation against day_of_week')\n",
    "plt.show()"
   ]
  },
  {
   "cell_type": "code",
   "execution_count": 423,
   "metadata": {},
   "outputs": [
    {
     "data": {
      "text/html": [
       "<div>\n",
       "<style scoped>\n",
       "    .dataframe tbody tr th:only-of-type {\n",
       "        vertical-align: middle;\n",
       "    }\n",
       "\n",
       "    .dataframe tbody tr th {\n",
       "        vertical-align: top;\n",
       "    }\n",
       "\n",
       "    .dataframe thead th {\n",
       "        text-align: right;\n",
       "    }\n",
       "</style>\n",
       "<table border=\"1\" class=\"dataframe\">\n",
       "  <thead>\n",
       "    <tr style=\"text-align: right;\">\n",
       "      <th>orientation</th>\n",
       "      <th>negative</th>\n",
       "      <th>neutral</th>\n",
       "      <th>positive</th>\n",
       "    </tr>\n",
       "    <tr>\n",
       "      <th>month_text</th>\n",
       "      <th></th>\n",
       "      <th></th>\n",
       "      <th></th>\n",
       "    </tr>\n",
       "  </thead>\n",
       "  <tbody>\n",
       "    <tr>\n",
       "      <th>2019-05</th>\n",
       "      <td>113</td>\n",
       "      <td>22</td>\n",
       "      <td>238</td>\n",
       "    </tr>\n",
       "    <tr>\n",
       "      <th>2019-06</th>\n",
       "      <td>85</td>\n",
       "      <td>16</td>\n",
       "      <td>213</td>\n",
       "    </tr>\n",
       "    <tr>\n",
       "      <th>2019-07</th>\n",
       "      <td>123</td>\n",
       "      <td>28</td>\n",
       "      <td>301</td>\n",
       "    </tr>\n",
       "    <tr>\n",
       "      <th>2019-08</th>\n",
       "      <td>109</td>\n",
       "      <td>19</td>\n",
       "      <td>283</td>\n",
       "    </tr>\n",
       "    <tr>\n",
       "      <th>2019-09</th>\n",
       "      <td>126</td>\n",
       "      <td>39</td>\n",
       "      <td>269</td>\n",
       "    </tr>\n",
       "    <tr>\n",
       "      <th>2019-10</th>\n",
       "      <td>161</td>\n",
       "      <td>81</td>\n",
       "      <td>311</td>\n",
       "    </tr>\n",
       "    <tr>\n",
       "      <th>2019-11</th>\n",
       "      <td>101</td>\n",
       "      <td>48</td>\n",
       "      <td>214</td>\n",
       "    </tr>\n",
       "    <tr>\n",
       "      <th>2019-12</th>\n",
       "      <td>124</td>\n",
       "      <td>52</td>\n",
       "      <td>250</td>\n",
       "    </tr>\n",
       "    <tr>\n",
       "      <th>2020-01</th>\n",
       "      <td>90</td>\n",
       "      <td>39</td>\n",
       "      <td>214</td>\n",
       "    </tr>\n",
       "    <tr>\n",
       "      <th>2020-02</th>\n",
       "      <td>84</td>\n",
       "      <td>39</td>\n",
       "      <td>227</td>\n",
       "    </tr>\n",
       "    <tr>\n",
       "      <th>2020-03</th>\n",
       "      <td>82</td>\n",
       "      <td>31</td>\n",
       "      <td>280</td>\n",
       "    </tr>\n",
       "    <tr>\n",
       "      <th>2020-04</th>\n",
       "      <td>79</td>\n",
       "      <td>28</td>\n",
       "      <td>220</td>\n",
       "    </tr>\n",
       "  </tbody>\n",
       "</table>\n",
       "</div>"
      ],
      "text/plain": [
       "orientation  negative  neutral  positive\n",
       "month_text                              \n",
       "2019-05           113       22       238\n",
       "2019-06            85       16       213\n",
       "2019-07           123       28       301\n",
       "2019-08           109       19       283\n",
       "2019-09           126       39       269\n",
       "2019-10           161       81       311\n",
       "2019-11           101       48       214\n",
       "2019-12           124       52       250\n",
       "2020-01            90       39       214\n",
       "2020-02            84       39       227\n",
       "2020-03            82       31       280\n",
       "2020-04            79       28       220"
      ]
     },
     "execution_count": 423,
     "metadata": {},
     "output_type": "execute_result"
    }
   ],
   "source": [
    "# trump's orientation against month\n",
    "trump['month_text'] = trump['year'].astype(str) + '-' + trump['month'].astype(str).str.pad(side='left', \n",
    "                                                                                           fillchar='0', width=2) \n",
    "month_text = trump.groupby(['month_text', 'orientation']).size().unstack()\n",
    "month_text"
   ]
  },
  {
   "cell_type": "code",
   "execution_count": 424,
   "metadata": {},
   "outputs": [
    {
     "data": {
      "image/png": "[encoded data removed]",
      "text/plain": [
       "<Figure size 720x360 with 1 Axes>"
      ]
     },
     "metadata": {
      "needs_background": "light"
     },
     "output_type": "display_data"
    }
   ],
   "source": [
    "# trump's orientation against month\n",
    "# 1 is Monday, etc\n",
    "# similar trends of all orientation in all months\n",
    "# except in 2020-03, there was an increase of amount of positive tweets, \n",
    "# but amount of negative and neutral tweets didn't change a lot\n",
    "month_text.plot(kind='line', figsize=(10, 5))\n",
    "plt.xlabel('')\n",
    "plt.title('orientation against month')\n",
    "plt.show()"
   ]
  },
  {
   "cell_type": "code",
   "execution_count": null,
   "metadata": {},
   "outputs": [],
   "source": []
  }
 ],
 "metadata": {
  "kernelspec": {
   "display_name": "Python 3",
   "language": "python",
   "name": "python3"
  },
  "language_info": {
   "codemirror_mode": {
    "name": "ipython",
    "version": 3
   },
   "file_extension": ".py",
   "mimetype": "text/x-python",
   "name": "python",
   "nbconvert_exporter": "python",
   "pygments_lexer": "ipython3",
   "version": "3.7.3"
  }
 },
 "nbformat": 4,
 "nbformat_minor": 2
}
