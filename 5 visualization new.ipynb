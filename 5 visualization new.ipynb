{
 "cells": [
  {
   "cell_type": "code",
   "execution_count": 1,
   "metadata": {},
   "outputs": [],
   "source": [
    "import tweepy\n",
    "import json\n",
    "import re\n",
    "import arrow\n",
    "import pandas as pd\n",
    "import numpy as np\n",
    "import matplotlib.pyplot as plt\n",
    "import matplotlib.cm as cm\n",
    "from datetime import datetime\n",
    "from pytz import timezone\n",
    "from dateutil.parser import parse\n",
    "from sklearn.feature_extraction.text import TfidfVectorizer\n",
    "from sklearn.feature_extraction.text import ENGLISH_STOP_WORDS\n",
    "from sklearn.cluster import MiniBatchKMeans\n",
    "from sklearn.cluster import KMeans\n",
    "from sklearn.cluster import AgglomerativeClustering\n",
    "from sklearn.decomposition import PCA\n",
    "from sklearn.decomposition import TruncatedSVD\n",
    "from sklearn.manifold import TSNE\n",
    "from sklearn.metrics.pairwise import cosine_similarity\n",
    "from sklearn.metrics import davies_bouldin_score"
   ]
  },
  {
   "cell_type": "code",
   "execution_count": 2,
   "metadata": {},
   "outputs": [
    {
     "data": {
      "text/html": [
       "<div>\n",
       "<style scoped>\n",
       "    .dataframe tbody tr th:only-of-type {\n",
       "        vertical-align: middle;\n",
       "    }\n",
       "\n",
       "    .dataframe tbody tr th {\n",
       "        vertical-align: top;\n",
       "    }\n",
       "\n",
       "    .dataframe thead th {\n",
       "        text-align: right;\n",
       "    }\n",
       "</style>\n",
       "<table border=\"1\" class=\"dataframe\">\n",
       "  <thead>\n",
       "    <tr style=\"text-align: right;\">\n",
       "      <th></th>\n",
       "      <th>id</th>\n",
       "      <th>created_at</th>\n",
       "      <th>source</th>\n",
       "      <th>year</th>\n",
       "      <th>month</th>\n",
       "      <th>day</th>\n",
       "      <th>hour</th>\n",
       "      <th>day_of_week</th>\n",
       "      <th>week</th>\n",
       "      <th>is_reply</th>\n",
       "      <th>...</th>\n",
       "      <th>tb_orientation</th>\n",
       "      <th>tb_explanatory</th>\n",
       "      <th>vd_neg</th>\n",
       "      <th>vd_neu</th>\n",
       "      <th>vd_pos</th>\n",
       "      <th>vd_compound</th>\n",
       "      <th>vd_orientation</th>\n",
       "      <th>k_cluster</th>\n",
       "      <th>a_cluster</th>\n",
       "      <th>orientation</th>\n",
       "    </tr>\n",
       "  </thead>\n",
       "  <tbody>\n",
       "    <tr>\n",
       "      <th>0</th>\n",
       "      <td>1256024228777857025</td>\n",
       "      <td>Fri May 01 00:54:46 +0000 2020</td>\n",
       "      <td>Twitter for iPhone</td>\n",
       "      <td>2020</td>\n",
       "      <td>4</td>\n",
       "      <td>30</td>\n",
       "      <td>20</td>\n",
       "      <td>4</td>\n",
       "      <td>17</td>\n",
       "      <td>False</td>\n",
       "      <td>...</td>\n",
       "      <td>negative</td>\n",
       "      <td>subjective</td>\n",
       "      <td>0.373</td>\n",
       "      <td>0.627</td>\n",
       "      <td>0.000</td>\n",
       "      <td>-0.8786</td>\n",
       "      <td>negative</td>\n",
       "      <td>24</td>\n",
       "      <td>0</td>\n",
       "      <td>negative</td>\n",
       "    </tr>\n",
       "    <tr>\n",
       "      <th>1</th>\n",
       "      <td>1256016249169084417</td>\n",
       "      <td>Fri May 01 00:23:04 +0000 2020</td>\n",
       "      <td>Twitter for iPhone</td>\n",
       "      <td>2020</td>\n",
       "      <td>4</td>\n",
       "      <td>30</td>\n",
       "      <td>20</td>\n",
       "      <td>4</td>\n",
       "      <td>17</td>\n",
       "      <td>False</td>\n",
       "      <td>...</td>\n",
       "      <td>positive</td>\n",
       "      <td>subjective</td>\n",
       "      <td>0.205</td>\n",
       "      <td>0.671</td>\n",
       "      <td>0.123</td>\n",
       "      <td>-0.4168</td>\n",
       "      <td>negative</td>\n",
       "      <td>24</td>\n",
       "      <td>0</td>\n",
       "      <td>positive</td>\n",
       "    </tr>\n",
       "    <tr>\n",
       "      <th>2</th>\n",
       "      <td>1256013240896835585</td>\n",
       "      <td>Fri May 01 00:11:06 +0000 2020</td>\n",
       "      <td>Twitter for iPhone</td>\n",
       "      <td>2020</td>\n",
       "      <td>4</td>\n",
       "      <td>30</td>\n",
       "      <td>20</td>\n",
       "      <td>4</td>\n",
       "      <td>17</td>\n",
       "      <td>True</td>\n",
       "      <td>...</td>\n",
       "      <td>positive</td>\n",
       "      <td>objective</td>\n",
       "      <td>0.072</td>\n",
       "      <td>0.740</td>\n",
       "      <td>0.189</td>\n",
       "      <td>0.6885</td>\n",
       "      <td>positive</td>\n",
       "      <td>12</td>\n",
       "      <td>0</td>\n",
       "      <td>positive</td>\n",
       "    </tr>\n",
       "    <tr>\n",
       "      <th>3</th>\n",
       "      <td>1256013239487549441</td>\n",
       "      <td>Fri May 01 00:11:06 +0000 2020</td>\n",
       "      <td>Twitter for iPhone</td>\n",
       "      <td>2020</td>\n",
       "      <td>4</td>\n",
       "      <td>30</td>\n",
       "      <td>20</td>\n",
       "      <td>4</td>\n",
       "      <td>17</td>\n",
       "      <td>False</td>\n",
       "      <td>...</td>\n",
       "      <td>positive</td>\n",
       "      <td>subjective</td>\n",
       "      <td>0.046</td>\n",
       "      <td>0.640</td>\n",
       "      <td>0.314</td>\n",
       "      <td>0.9439</td>\n",
       "      <td>positive</td>\n",
       "      <td>24</td>\n",
       "      <td>0</td>\n",
       "      <td>positive</td>\n",
       "    </tr>\n",
       "    <tr>\n",
       "      <th>4</th>\n",
       "      <td>1255926261068763143</td>\n",
       "      <td>Thu Apr 30 18:25:29 +0000 2020</td>\n",
       "      <td>Twitter for iPhone</td>\n",
       "      <td>2020</td>\n",
       "      <td>4</td>\n",
       "      <td>30</td>\n",
       "      <td>14</td>\n",
       "      <td>4</td>\n",
       "      <td>17</td>\n",
       "      <td>False</td>\n",
       "      <td>...</td>\n",
       "      <td>positive</td>\n",
       "      <td>objective</td>\n",
       "      <td>0.000</td>\n",
       "      <td>1.000</td>\n",
       "      <td>0.000</td>\n",
       "      <td>0.0000</td>\n",
       "      <td>neutral</td>\n",
       "      <td>24</td>\n",
       "      <td>0</td>\n",
       "      <td>positive</td>\n",
       "    </tr>\n",
       "  </tbody>\n",
       "</table>\n",
       "<p>5 rows × 29 columns</p>\n",
       "</div>"
      ],
      "text/plain": [
       "                    id                      created_at              source  \\\n",
       "0  1256024228777857025  Fri May 01 00:54:46 +0000 2020  Twitter for iPhone   \n",
       "1  1256016249169084417  Fri May 01 00:23:04 +0000 2020  Twitter for iPhone   \n",
       "2  1256013240896835585  Fri May 01 00:11:06 +0000 2020  Twitter for iPhone   \n",
       "3  1256013239487549441  Fri May 01 00:11:06 +0000 2020  Twitter for iPhone   \n",
       "4  1255926261068763143  Thu Apr 30 18:25:29 +0000 2020  Twitter for iPhone   \n",
       "\n",
       "   year  month  day  hour  day_of_week  week  is_reply  ...  tb_orientation  \\\n",
       "0  2020      4   30    20            4    17     False  ...        negative   \n",
       "1  2020      4   30    20            4    17     False  ...        positive   \n",
       "2  2020      4   30    20            4    17      True  ...        positive   \n",
       "3  2020      4   30    20            4    17     False  ...        positive   \n",
       "4  2020      4   30    14            4    17     False  ...        positive   \n",
       "\n",
       "  tb_explanatory vd_neg vd_neu  vd_pos  vd_compound vd_orientation  k_cluster  \\\n",
       "0     subjective  0.373  0.627   0.000      -0.8786       negative         24   \n",
       "1     subjective  0.205  0.671   0.123      -0.4168       negative         24   \n",
       "2      objective  0.072  0.740   0.189       0.6885       positive         12   \n",
       "3     subjective  0.046  0.640   0.314       0.9439       positive         24   \n",
       "4      objective  0.000  1.000   0.000       0.0000        neutral         24   \n",
       "\n",
       "   a_cluster orientation  \n",
       "0          0    negative  \n",
       "1          0    positive  \n",
       "2          0    positive  \n",
       "3          0    positive  \n",
       "4          0    positive  \n",
       "\n",
       "[5 rows x 29 columns]"
      ]
     },
     "execution_count": 2,
     "metadata": {},
     "output_type": "execute_result"
    }
   ],
   "source": [
    "trump = pd.read_csv('trump_rnn.csv')\n",
    "trump.head()"
   ]
  },
  {
   "cell_type": "markdown",
   "metadata": {},
   "source": [
    "# evaluation of RNN against TextBlob and VADER"
   ]
  },
  {
   "cell_type": "code",
   "execution_count": 3,
   "metadata": {},
   "outputs": [
    {
     "data": {
      "text/html": [
       "<div>\n",
       "<style scoped>\n",
       "    .dataframe tbody tr th:only-of-type {\n",
       "        vertical-align: middle;\n",
       "    }\n",
       "\n",
       "    .dataframe tbody tr th {\n",
       "        vertical-align: top;\n",
       "    }\n",
       "\n",
       "    .dataframe thead th {\n",
       "        text-align: right;\n",
       "    }\n",
       "</style>\n",
       "<table border=\"1\" class=\"dataframe\">\n",
       "  <thead>\n",
       "    <tr style=\"text-align: right;\">\n",
       "      <th>orientation</th>\n",
       "      <th>negative</th>\n",
       "      <th>neutral</th>\n",
       "      <th>positive</th>\n",
       "    </tr>\n",
       "    <tr>\n",
       "      <th>vd_orientation</th>\n",
       "      <th></th>\n",
       "      <th></th>\n",
       "      <th></th>\n",
       "    </tr>\n",
       "  </thead>\n",
       "  <tbody>\n",
       "    <tr>\n",
       "      <th>negative</th>\n",
       "      <td>241</td>\n",
       "      <td>92</td>\n",
       "      <td>327</td>\n",
       "    </tr>\n",
       "    <tr>\n",
       "      <th>neutral</th>\n",
       "      <td>46</td>\n",
       "      <td>36</td>\n",
       "      <td>100</td>\n",
       "    </tr>\n",
       "    <tr>\n",
       "      <th>positive</th>\n",
       "      <td>145</td>\n",
       "      <td>48</td>\n",
       "      <td>447</td>\n",
       "    </tr>\n",
       "  </tbody>\n",
       "</table>\n",
       "</div>"
      ],
      "text/plain": [
       "orientation     negative  neutral  positive\n",
       "vd_orientation                             \n",
       "negative             241       92       327\n",
       "neutral               46       36       100\n",
       "positive             145       48       447"
      ]
     },
     "execution_count": 3,
     "metadata": {},
     "output_type": "execute_result"
    }
   ],
   "source": [
    "# vader\n",
    "orientation = trump[trump['vd_orientation'] != trump['tb_orientation']][['tb_orientation', 'vd_orientation', 'orientation']]\n",
    "orientation.groupby(['vd_orientation', 'orientation']).size().unstack()"
   ]
  },
  {
   "cell_type": "code",
   "execution_count": 4,
   "metadata": {},
   "outputs": [
    {
     "data": {
      "text/html": [
       "<div>\n",
       "<style scoped>\n",
       "    .dataframe tbody tr th:only-of-type {\n",
       "        vertical-align: middle;\n",
       "    }\n",
       "\n",
       "    .dataframe tbody tr th {\n",
       "        vertical-align: top;\n",
       "    }\n",
       "\n",
       "    .dataframe thead th {\n",
       "        text-align: right;\n",
       "    }\n",
       "</style>\n",
       "<table border=\"1\" class=\"dataframe\">\n",
       "  <thead>\n",
       "    <tr style=\"text-align: right;\">\n",
       "      <th>orientation</th>\n",
       "      <th>negative</th>\n",
       "      <th>neutral</th>\n",
       "      <th>positive</th>\n",
       "    </tr>\n",
       "    <tr>\n",
       "      <th>tb_orientation</th>\n",
       "      <th></th>\n",
       "      <th></th>\n",
       "      <th></th>\n",
       "    </tr>\n",
       "  </thead>\n",
       "  <tbody>\n",
       "    <tr>\n",
       "      <th>negative</th>\n",
       "      <td>124</td>\n",
       "      <td>19</td>\n",
       "      <td>146</td>\n",
       "    </tr>\n",
       "    <tr>\n",
       "      <th>neutral</th>\n",
       "      <td>115</td>\n",
       "      <td>120</td>\n",
       "      <td>379</td>\n",
       "    </tr>\n",
       "    <tr>\n",
       "      <th>positive</th>\n",
       "      <td>193</td>\n",
       "      <td>37</td>\n",
       "      <td>349</td>\n",
       "    </tr>\n",
       "  </tbody>\n",
       "</table>\n",
       "</div>"
      ],
      "text/plain": [
       "orientation     negative  neutral  positive\n",
       "tb_orientation                             \n",
       "negative             124       19       146\n",
       "neutral              115      120       379\n",
       "positive             193       37       349"
      ]
     },
     "execution_count": 4,
     "metadata": {},
     "output_type": "execute_result"
    }
   ],
   "source": [
    "# textblob\n",
    "orientation.groupby(['tb_orientation', 'orientation']).size().unstack()"
   ]
  },
  {
   "cell_type": "markdown",
   "metadata": {},
   "source": [
    "# overall orientation"
   ]
  },
  {
   "cell_type": "markdown",
   "metadata": {},
   "source": [
    "### number of tweets"
   ]
  },
  {
   "cell_type": "code",
   "execution_count": 40,
   "metadata": {},
   "outputs": [
    {
     "data": {
      "text/plain": [
       "orientation\n",
       "negative    1277\n",
       "neutral      442\n",
       "positive    3020\n",
       "Name: orientation, dtype: int64"
      ]
     },
     "execution_count": 40,
     "metadata": {},
     "output_type": "execute_result"
    }
   ],
   "source": [
    "# number of tweets\n",
    "all_cluster = trump.groupby('orientation')['orientation'].size()\n",
    "all_cluster.head()"
   ]
  },
  {
   "cell_type": "code",
   "execution_count": 41,
   "metadata": {},
   "outputs": [
    {
     "data": {
      "image/png": "[encoded data removed]",
      "text/plain": [
       "<Figure size 720x360 with 1 Axes>"
      ]
     },
     "metadata": {
      "needs_background": "light"
     },
     "output_type": "display_data"
    }
   ],
   "source": [
    "# number of tweets\n",
    "# more positive tweets than negative tweets\n",
    "fig, ax = plt.subplots()  \n",
    "for i, v in enumerate(all_cluster.values):\n",
    "    ax.text(i-.05, v+50, str(v), color='black')\n",
    "all_cluster.plot(kind='bar', figsize=(10,5), color=['blue', 'orange', 'green'])\n",
    "plt.xlabel('')\n",
    "plt.title('number of tweets')\n",
    "plt.show()"
   ]
  },
  {
   "cell_type": "markdown",
   "metadata": {},
   "source": [
    "### retweet_count"
   ]
  },
  {
   "cell_type": "code",
   "execution_count": 42,
   "metadata": {},
   "outputs": [
    {
     "data": {
      "text/plain": [
       "orientation\n",
       "negative    27194409.0\n",
       "neutral      8602356.0\n",
       "positive    56314509.0\n",
       "Name: retweet_count, dtype: float64"
      ]
     },
     "execution_count": 42,
     "metadata": {},
     "output_type": "execute_result"
    }
   ],
   "source": [
    "# sum of retweet_count\n",
    "retweet = trump.groupby('orientation')['retweet_count'].sum()\n",
    "retweet.head()"
   ]
  },
  {
   "cell_type": "code",
   "execution_count": 43,
   "metadata": {},
   "outputs": [
    {
     "data": {
      "image/png": "[encoded data removed]",
      "text/plain": [
       "<Figure size 720x360 with 1 Axes>"
      ]
     },
     "metadata": {
      "needs_background": "light"
     },
     "output_type": "display_data"
    }
   ],
   "source": [
    "# sum of retweet_count\n",
    "# similar distribution of number of tweets\n",
    "retweet.plot(kind='bar', figsize=(10,5), color=['blue', 'orange', 'green'])\n",
    "plt.xlabel('')\n",
    "plt.title('sum of retweet_count')\n",
    "plt.show()"
   ]
  },
  {
   "cell_type": "code",
   "execution_count": 44,
   "metadata": {},
   "outputs": [
    {
     "data": {
      "text/plain": [
       "orientation\n",
       "negative    21295.543461\n",
       "neutral     19462.343891\n",
       "positive    18647.188411\n",
       "Name: retweet_count, dtype: float64"
      ]
     },
     "execution_count": 44,
     "metadata": {},
     "output_type": "execute_result"
    }
   ],
   "source": [
    "# average retweet_count\n",
    "retweet = trump.groupby('orientation')['retweet_count'].mean()\n",
    "retweet.head()"
   ]
  },
  {
   "cell_type": "code",
   "execution_count": 45,
   "metadata": {},
   "outputs": [
    {
     "data": {
      "image/png": "[encoded data removed]",
      "text/plain": [
       "<Figure size 720x360 with 1 Axes>"
      ]
     },
     "metadata": {
      "needs_background": "light"
     },
     "output_type": "display_data"
    }
   ],
   "source": [
    "# average retweet_count\n",
    "# more retweets on trump's negative tweets\n",
    "# negative > neutral > positive\n",
    "fig, ax = plt.subplots()  \n",
    "for i, v in enumerate(retweet.values):\n",
    "    ax.text(i-.05, v+200, str(int(round(v))), color='black')\n",
    "retweet.plot(kind='bar', figsize=(10,5), color=['blue', 'orange', 'green'])\n",
    "plt.xlabel('')\n",
    "plt.title('average retweet_count')\n",
    "plt.show()"
   ]
  },
  {
   "cell_type": "markdown",
   "metadata": {},
   "source": [
    "### favorite_count"
   ]
  },
  {
   "cell_type": "code",
   "execution_count": 46,
   "metadata": {},
   "outputs": [
    {
     "data": {
      "text/plain": [
       "orientation\n",
       "negative    116802022.0\n",
       "neutral      37754296.0\n",
       "positive    261275343.0\n",
       "Name: favorite_count, dtype: float64"
      ]
     },
     "execution_count": 46,
     "metadata": {},
     "output_type": "execute_result"
    }
   ],
   "source": [
    "# sum of favorite_count\n",
    "favorite = trump.groupby('orientation')['favorite_count'].sum()\n",
    "favorite.head()"
   ]
  },
  {
   "cell_type": "code",
   "execution_count": 47,
   "metadata": {},
   "outputs": [
    {
     "data": {
      "image/png": "[encoded data removed]",
      "text/plain": [
       "<Figure size 720x360 with 1 Axes>"
      ]
     },
     "metadata": {
      "needs_background": "light"
     },
     "output_type": "display_data"
    }
   ],
   "source": [
    "# sum of favorite_count\n",
    "# similar distribution of number of tweets\n",
    "favorite.plot(kind='bar', figsize=(10,5), color=['blue', 'orange', 'green'])\n",
    "plt.xlabel('')\n",
    "plt.title('sum of favorite_count')\n",
    "plt.show()"
   ]
  },
  {
   "cell_type": "code",
   "execution_count": 48,
   "metadata": {},
   "outputs": [
    {
     "data": {
      "text/plain": [
       "orientation\n",
       "negative    91465.953015\n",
       "neutral     85416.959276\n",
       "positive    86515.014238\n",
       "Name: favorite_count, dtype: float64"
      ]
     },
     "execution_count": 48,
     "metadata": {},
     "output_type": "execute_result"
    }
   ],
   "source": [
    "# average favorite_count\n",
    "favorite = trump.groupby('orientation')['favorite_count'].mean()\n",
    "favorite.head()"
   ]
  },
  {
   "cell_type": "code",
   "execution_count": 49,
   "metadata": {},
   "outputs": [
    {
     "data": {
      "image/png": "[encoded data removed]",
      "text/plain": [
       "<Figure size 720x360 with 1 Axes>"
      ]
     },
     "metadata": {
      "needs_background": "light"
     },
     "output_type": "display_data"
    }
   ],
   "source": [
    "# average favorite_count\n",
    "# more favorites on trump's negative tweets\n",
    "# negative > positive > neutral, slightly different from retweet_count\n",
    "fig, ax = plt.subplots()  \n",
    "for i, v in enumerate(favorite.values):\n",
    "    ax.text(i-.05, v+800, str(int(round(v))), color='black')\n",
    "favorite.plot(kind='bar', figsize=(10,5), color=['blue', 'orange', 'green'])\n",
    "plt.xlabel('')\n",
    "plt.title('favorite_count')\n",
    "plt.show()"
   ]
  },
  {
   "cell_type": "markdown",
   "metadata": {},
   "source": [
    "# k means"
   ]
  },
  {
   "cell_type": "markdown",
   "metadata": {},
   "source": [
    "### number of tweets"
   ]
  },
  {
   "cell_type": "code",
   "execution_count": 99,
   "metadata": {},
   "outputs": [
    {
     "data": {
      "image/png": "[encoded data removed]",
      "text/plain": [
       "<Figure size 1440x720 with 1 Axes>"
      ]
     },
     "metadata": {
      "needs_background": "light"
     },
     "output_type": "display_data"
    }
   ],
   "source": [
    "# number of tweets by entity in all clusters\n",
    "k_cluster = trump[['k_cluster', 'orientation']].groupby(['k_cluster', 'orientation']).size().unstack()\n",
    "k_cluster.plot(kind='bar', figsize=(20,10), ylim=(0,500))\n",
    "plt.xlabel('')\n",
    "plt.title('number of tweets by entity')\n",
    "plt.show()"
   ]
  },
  {
   "cell_type": "code",
   "execution_count": 100,
   "metadata": {},
   "outputs": [
    {
     "data": {
      "text/html": [
       "<div>\n",
       "<style scoped>\n",
       "    .dataframe tbody tr th:only-of-type {\n",
       "        vertical-align: middle;\n",
       "    }\n",
       "\n",
       "    .dataframe tbody tr th {\n",
       "        vertical-align: top;\n",
       "    }\n",
       "\n",
       "    .dataframe thead th {\n",
       "        text-align: right;\n",
       "    }\n",
       "</style>\n",
       "<table border=\"1\" class=\"dataframe\">\n",
       "  <thead>\n",
       "    <tr style=\"text-align: right;\">\n",
       "      <th></th>\n",
       "      <th>entity</th>\n",
       "      <th>orientation</th>\n",
       "      <th>favorite_count</th>\n",
       "      <th>retweet_count</th>\n",
       "    </tr>\n",
       "  </thead>\n",
       "  <tbody>\n",
       "    <tr>\n",
       "      <th>0</th>\n",
       "      <td>Thanks to People</td>\n",
       "      <td>negative</td>\n",
       "      <td>156126.0</td>\n",
       "      <td>38037.0</td>\n",
       "    </tr>\n",
       "    <tr>\n",
       "      <th>1</th>\n",
       "      <td>Thanks to People</td>\n",
       "      <td>positive</td>\n",
       "      <td>34845.0</td>\n",
       "      <td>11170.0</td>\n",
       "    </tr>\n",
       "    <tr>\n",
       "      <th>3</th>\n",
       "      <td>Thanks to People</td>\n",
       "      <td>positive</td>\n",
       "      <td>56133.0</td>\n",
       "      <td>13626.0</td>\n",
       "    </tr>\n",
       "    <tr>\n",
       "      <th>4</th>\n",
       "      <td>Thanks to People</td>\n",
       "      <td>positive</td>\n",
       "      <td>65073.0</td>\n",
       "      <td>16955.0</td>\n",
       "    </tr>\n",
       "    <tr>\n",
       "      <th>5</th>\n",
       "      <td>Fake News</td>\n",
       "      <td>negative</td>\n",
       "      <td>205345.0</td>\n",
       "      <td>45115.0</td>\n",
       "    </tr>\n",
       "  </tbody>\n",
       "</table>\n",
       "</div>"
      ],
      "text/plain": [
       "             entity orientation  favorite_count  retweet_count\n",
       "0  Thanks to People    negative        156126.0        38037.0\n",
       "1  Thanks to People    positive         34845.0        11170.0\n",
       "3  Thanks to People    positive         56133.0        13626.0\n",
       "4  Thanks to People    positive         65073.0        16955.0\n",
       "5         Fake News    negative        205345.0        45115.0"
      ]
     },
     "execution_count": 100,
     "metadata": {},
     "output_type": "execute_result"
    }
   ],
   "source": [
    "# top 8 cluster/entity\n",
    "top_8 = trump[['k_cluster', 'orientation', 'favorite_count', 'retweet_count']]\n",
    "top_8 = top_8[top_8['k_cluster'].isin([24, 18, 19, 5, 11, 3, 21, 10])]\n",
    "top_8['k_cluster'] = top_8['k_cluster'].replace(24, 'Thanks to People').replace(18, 'Fake News')\\\n",
    "                    .replace(19, 'President Trump').replace(5, 'Country').replace(11, 'Great')\\\n",
    "                    .replace(3, 'Democratic Party').replace(21, 'Good').replace(10, 'New York')\n",
    "top_8.columns = ['entity', 'orientation', 'favorite_count', 'retweet_count']\n",
    "top_8.head()"
   ]
  },
  {
   "cell_type": "code",
   "execution_count": 101,
   "metadata": {},
   "outputs": [
    {
     "data": {
      "text/html": [
       "<div>\n",
       "<style scoped>\n",
       "    .dataframe tbody tr th:only-of-type {\n",
       "        vertical-align: middle;\n",
       "    }\n",
       "\n",
       "    .dataframe tbody tr th {\n",
       "        vertical-align: top;\n",
       "    }\n",
       "\n",
       "    .dataframe thead th {\n",
       "        text-align: right;\n",
       "    }\n",
       "</style>\n",
       "<table border=\"1\" class=\"dataframe\">\n",
       "  <thead>\n",
       "    <tr style=\"text-align: right;\">\n",
       "      <th>Orientation</th>\n",
       "      <th>negative</th>\n",
       "      <th>neutral</th>\n",
       "      <th>positive</th>\n",
       "    </tr>\n",
       "    <tr>\n",
       "      <th>Topic</th>\n",
       "      <th></th>\n",
       "      <th></th>\n",
       "      <th></th>\n",
       "    </tr>\n",
       "  </thead>\n",
       "  <tbody>\n",
       "    <tr>\n",
       "      <th>Country</th>\n",
       "      <td>87.0</td>\n",
       "      <td>7.0</td>\n",
       "      <td>161.0</td>\n",
       "    </tr>\n",
       "    <tr>\n",
       "      <th>Democratic Party</th>\n",
       "      <td>103.0</td>\n",
       "      <td>34.0</td>\n",
       "      <td>88.0</td>\n",
       "    </tr>\n",
       "    <tr>\n",
       "      <th>Fake News</th>\n",
       "      <td>181.0</td>\n",
       "      <td>7.0</td>\n",
       "      <td>82.0</td>\n",
       "    </tr>\n",
       "    <tr>\n",
       "      <th>Good</th>\n",
       "      <td>10.0</td>\n",
       "      <td>0.0</td>\n",
       "      <td>152.0</td>\n",
       "    </tr>\n",
       "    <tr>\n",
       "      <th>Great</th>\n",
       "      <td>0.0</td>\n",
       "      <td>1.0</td>\n",
       "      <td>240.0</td>\n",
       "    </tr>\n",
       "    <tr>\n",
       "      <th>New York</th>\n",
       "      <td>51.0</td>\n",
       "      <td>0.0</td>\n",
       "      <td>108.0</td>\n",
       "    </tr>\n",
       "    <tr>\n",
       "      <th>President Trump</th>\n",
       "      <td>78.0</td>\n",
       "      <td>40.0</td>\n",
       "      <td>148.0</td>\n",
       "    </tr>\n",
       "    <tr>\n",
       "      <th>Thanks to People</th>\n",
       "      <td>337.0</td>\n",
       "      <td>208.0</td>\n",
       "      <td>896.0</td>\n",
       "    </tr>\n",
       "  </tbody>\n",
       "</table>\n",
       "</div>"
      ],
      "text/plain": [
       "Orientation       negative  neutral  positive\n",
       "Topic                                        \n",
       "Country               87.0      7.0     161.0\n",
       "Democratic Party     103.0     34.0      88.0\n",
       "Fake News            181.0      7.0      82.0\n",
       "Good                  10.0      0.0     152.0\n",
       "Great                  0.0      1.0     240.0\n",
       "New York              51.0      0.0     108.0\n",
       "President Trump       78.0     40.0     148.0\n",
       "Thanks to People     337.0    208.0     896.0"
      ]
     },
     "execution_count": 101,
     "metadata": {},
     "output_type": "execute_result"
    }
   ],
   "source": [
    "# number of tweets\n",
    "count = top_8.rename(columns={'entity':'Topic', 'orientation':'Orientation'}).groupby(['Topic', 'Orientation']).size().unstack()\n",
    "count = count.fillna(0)\n",
    "count\n"
   ]
  },
  {
   "cell_type": "code",
   "execution_count": 102,
   "metadata": {},
   "outputs": [
    {
     "data": {
      "image/png": "[encoded data removed]",
      "text/plain": [
       "<Figure size 720x360 with 1 Axes>"
      ]
     },
     "metadata": {
      "needs_background": "light"
     },
     "output_type": "display_data"
    }
   ],
   "source": [
    "# number of tweets\n",
    "# more negative tweets on Fake News / Democratic Party\n",
    "count.plot(kind='bar', figsize=(10,5), ylim=(0,500))\n",
    "plt.xlabel('')\n",
    "plt.title('number of tweets in the first 8 topics')\n",
    "plt.legend(bbox_to_anchor=(1,1), loc=\"upper left\")\n",
    "plt.show()"
   ]
  },
  {
   "cell_type": "markdown",
   "metadata": {},
   "source": [
    "### retweet_count"
   ]
  },
  {
   "cell_type": "code",
   "execution_count": 103,
   "metadata": {},
   "outputs": [
    {
     "data": {
      "text/html": [
       "<div>\n",
       "<style scoped>\n",
       "    .dataframe tbody tr th:only-of-type {\n",
       "        vertical-align: middle;\n",
       "    }\n",
       "\n",
       "    .dataframe tbody tr th {\n",
       "        vertical-align: top;\n",
       "    }\n",
       "\n",
       "    .dataframe thead th {\n",
       "        text-align: right;\n",
       "    }\n",
       "</style>\n",
       "<table border=\"1\" class=\"dataframe\">\n",
       "  <thead>\n",
       "    <tr style=\"text-align: right;\">\n",
       "      <th>orientation</th>\n",
       "      <th>negative</th>\n",
       "      <th>neutral</th>\n",
       "      <th>positive</th>\n",
       "    </tr>\n",
       "    <tr>\n",
       "      <th>entity</th>\n",
       "      <th></th>\n",
       "      <th></th>\n",
       "      <th></th>\n",
       "    </tr>\n",
       "  </thead>\n",
       "  <tbody>\n",
       "    <tr>\n",
       "      <th>Country</th>\n",
       "      <td>1791733.0</td>\n",
       "      <td>137952.0</td>\n",
       "      <td>3232149.0</td>\n",
       "    </tr>\n",
       "    <tr>\n",
       "      <th>Democratic Party</th>\n",
       "      <td>2112630.0</td>\n",
       "      <td>616832.0</td>\n",
       "      <td>1760591.0</td>\n",
       "    </tr>\n",
       "    <tr>\n",
       "      <th>Fake News</th>\n",
       "      <td>4159240.0</td>\n",
       "      <td>116119.0</td>\n",
       "      <td>1585295.0</td>\n",
       "    </tr>\n",
       "    <tr>\n",
       "      <th>Good</th>\n",
       "      <td>199226.0</td>\n",
       "      <td>NaN</td>\n",
       "      <td>2723800.0</td>\n",
       "    </tr>\n",
       "    <tr>\n",
       "      <th>Great</th>\n",
       "      <td>NaN</td>\n",
       "      <td>3591.0</td>\n",
       "      <td>3324091.0</td>\n",
       "    </tr>\n",
       "    <tr>\n",
       "      <th>New York</th>\n",
       "      <td>1015110.0</td>\n",
       "      <td>NaN</td>\n",
       "      <td>1948229.0</td>\n",
       "    </tr>\n",
       "    <tr>\n",
       "      <th>President Trump</th>\n",
       "      <td>1591374.0</td>\n",
       "      <td>665310.0</td>\n",
       "      <td>2631755.0</td>\n",
       "    </tr>\n",
       "    <tr>\n",
       "      <th>Thanks to People</th>\n",
       "      <td>7269560.0</td>\n",
       "      <td>4080378.0</td>\n",
       "      <td>18050337.0</td>\n",
       "    </tr>\n",
       "  </tbody>\n",
       "</table>\n",
       "</div>"
      ],
      "text/plain": [
       "orientation        negative    neutral    positive\n",
       "entity                                            \n",
       "Country           1791733.0   137952.0   3232149.0\n",
       "Democratic Party  2112630.0   616832.0   1760591.0\n",
       "Fake News         4159240.0   116119.0   1585295.0\n",
       "Good               199226.0        NaN   2723800.0\n",
       "Great                   NaN     3591.0   3324091.0\n",
       "New York          1015110.0        NaN   1948229.0\n",
       "President Trump   1591374.0   665310.0   2631755.0\n",
       "Thanks to People  7269560.0  4080378.0  18050337.0"
      ]
     },
     "execution_count": 103,
     "metadata": {},
     "output_type": "execute_result"
    }
   ],
   "source": [
    "# sum of retweet_count\n",
    "retweet = top_8.groupby(['entity', 'orientation'])['retweet_count'].sum().unstack()\n",
    "retweet"
   ]
  },
  {
   "cell_type": "code",
   "execution_count": 104,
   "metadata": {},
   "outputs": [
    {
     "data": {
      "image/png": "[encoded data removed]",
      "text/plain": [
       "<Figure size 720x360 with 1 Axes>"
      ]
     },
     "metadata": {
      "needs_background": "light"
     },
     "output_type": "display_data"
    }
   ],
   "source": [
    "# sum of retweet_count\n",
    "# similar distribution of number of tweets\n",
    "retweet.plot(kind='bar', figsize=(10, 5), ylim=(0,1e7))\n",
    "plt.xlabel('')\n",
    "plt.title('sum of retweet_count')\n",
    "plt.show()"
   ]
  },
  {
   "cell_type": "code",
   "execution_count": 105,
   "metadata": {},
   "outputs": [
    {
     "data": {
      "text/html": [
       "<div>\n",
       "<style scoped>\n",
       "    .dataframe tbody tr th:only-of-type {\n",
       "        vertical-align: middle;\n",
       "    }\n",
       "\n",
       "    .dataframe tbody tr th {\n",
       "        vertical-align: top;\n",
       "    }\n",
       "\n",
       "    .dataframe thead th {\n",
       "        text-align: right;\n",
       "    }\n",
       "</style>\n",
       "<table border=\"1\" class=\"dataframe\">\n",
       "  <thead>\n",
       "    <tr style=\"text-align: right;\">\n",
       "      <th>orientation</th>\n",
       "      <th>negative</th>\n",
       "      <th>neutral</th>\n",
       "      <th>positive</th>\n",
       "    </tr>\n",
       "    <tr>\n",
       "      <th>entity</th>\n",
       "      <th></th>\n",
       "      <th></th>\n",
       "      <th></th>\n",
       "    </tr>\n",
       "  </thead>\n",
       "  <tbody>\n",
       "    <tr>\n",
       "      <th>Country</th>\n",
       "      <td>20594.632184</td>\n",
       "      <td>19707.428571</td>\n",
       "      <td>20075.459627</td>\n",
       "    </tr>\n",
       "    <tr>\n",
       "      <th>Democratic Party</th>\n",
       "      <td>20510.970874</td>\n",
       "      <td>18142.117647</td>\n",
       "      <td>20006.715909</td>\n",
       "    </tr>\n",
       "    <tr>\n",
       "      <th>Fake News</th>\n",
       "      <td>22979.226519</td>\n",
       "      <td>16588.428571</td>\n",
       "      <td>19332.865854</td>\n",
       "    </tr>\n",
       "    <tr>\n",
       "      <th>Good</th>\n",
       "      <td>19922.600000</td>\n",
       "      <td>NaN</td>\n",
       "      <td>17919.736842</td>\n",
       "    </tr>\n",
       "    <tr>\n",
       "      <th>Great</th>\n",
       "      <td>NaN</td>\n",
       "      <td>3591.000000</td>\n",
       "      <td>13850.379167</td>\n",
       "    </tr>\n",
       "    <tr>\n",
       "      <th>New York</th>\n",
       "      <td>19904.117647</td>\n",
       "      <td>NaN</td>\n",
       "      <td>18039.157407</td>\n",
       "    </tr>\n",
       "    <tr>\n",
       "      <th>President Trump</th>\n",
       "      <td>20402.230769</td>\n",
       "      <td>16632.750000</td>\n",
       "      <td>17782.128378</td>\n",
       "    </tr>\n",
       "    <tr>\n",
       "      <th>Thanks to People</th>\n",
       "      <td>21571.394659</td>\n",
       "      <td>19617.201923</td>\n",
       "      <td>20145.465402</td>\n",
       "    </tr>\n",
       "  </tbody>\n",
       "</table>\n",
       "</div>"
      ],
      "text/plain": [
       "orientation           negative       neutral      positive\n",
       "entity                                                    \n",
       "Country           20594.632184  19707.428571  20075.459627\n",
       "Democratic Party  20510.970874  18142.117647  20006.715909\n",
       "Fake News         22979.226519  16588.428571  19332.865854\n",
       "Good              19922.600000           NaN  17919.736842\n",
       "Great                      NaN   3591.000000  13850.379167\n",
       "New York          19904.117647           NaN  18039.157407\n",
       "President Trump   20402.230769  16632.750000  17782.128378\n",
       "Thanks to People  21571.394659  19617.201923  20145.465402"
      ]
     },
     "execution_count": 105,
     "metadata": {},
     "output_type": "execute_result"
    }
   ],
   "source": [
    "# average of retweet_count\n",
    "retweet = top_8.groupby(['entity', 'orientation'])['retweet_count'].mean().unstack()\n",
    "retweet"
   ]
  },
  {
   "cell_type": "code",
   "execution_count": 106,
   "metadata": {},
   "outputs": [
    {
     "data": {
      "image/png": "[encoded data removed]",
      "text/plain": [
       "<Figure size 720x360 with 1 Axes>"
      ]
     },
     "metadata": {
      "needs_background": "light"
     },
     "output_type": "display_data"
    }
   ],
   "source": [
    "# average of retweet_count\n",
    "# positive: Great\n",
    "# all others are about negative tweets\n",
    "retweet.plot(kind='bar', figsize=(10, 5))\n",
    "plt.xlabel('')\n",
    "plt.title('average retweet_count of the first 8 topics')\n",
    "plt.legend(bbox_to_anchor=(1,1), loc=\"upper left\")\n",
    "plt.show()"
   ]
  },
  {
   "cell_type": "markdown",
   "metadata": {},
   "source": [
    "### favorite_count"
   ]
  },
  {
   "cell_type": "code",
   "execution_count": 107,
   "metadata": {},
   "outputs": [
    {
     "data": {
      "text/html": [
       "<div>\n",
       "<style scoped>\n",
       "    .dataframe tbody tr th:only-of-type {\n",
       "        vertical-align: middle;\n",
       "    }\n",
       "\n",
       "    .dataframe tbody tr th {\n",
       "        vertical-align: top;\n",
       "    }\n",
       "\n",
       "    .dataframe thead th {\n",
       "        text-align: right;\n",
       "    }\n",
       "</style>\n",
       "<table border=\"1\" class=\"dataframe\">\n",
       "  <thead>\n",
       "    <tr style=\"text-align: right;\">\n",
       "      <th>orientation</th>\n",
       "      <th>negative</th>\n",
       "      <th>neutral</th>\n",
       "      <th>positive</th>\n",
       "    </tr>\n",
       "    <tr>\n",
       "      <th>entity</th>\n",
       "      <th></th>\n",
       "      <th></th>\n",
       "      <th></th>\n",
       "    </tr>\n",
       "  </thead>\n",
       "  <tbody>\n",
       "    <tr>\n",
       "      <th>Country</th>\n",
       "      <td>7776896.0</td>\n",
       "      <td>689020.0</td>\n",
       "      <td>15221724.0</td>\n",
       "    </tr>\n",
       "    <tr>\n",
       "      <th>Democratic Party</th>\n",
       "      <td>8974588.0</td>\n",
       "      <td>2403340.0</td>\n",
       "      <td>7665873.0</td>\n",
       "    </tr>\n",
       "    <tr>\n",
       "      <th>Fake News</th>\n",
       "      <td>17688653.0</td>\n",
       "      <td>577428.0</td>\n",
       "      <td>7607673.0</td>\n",
       "    </tr>\n",
       "    <tr>\n",
       "      <th>Good</th>\n",
       "      <td>849875.0</td>\n",
       "      <td>NaN</td>\n",
       "      <td>12842438.0</td>\n",
       "    </tr>\n",
       "    <tr>\n",
       "      <th>Great</th>\n",
       "      <td>NaN</td>\n",
       "      <td>18091.0</td>\n",
       "      <td>16200424.0</td>\n",
       "    </tr>\n",
       "    <tr>\n",
       "      <th>New York</th>\n",
       "      <td>4483204.0</td>\n",
       "      <td>NaN</td>\n",
       "      <td>8907817.0</td>\n",
       "    </tr>\n",
       "    <tr>\n",
       "      <th>President Trump</th>\n",
       "      <td>6762902.0</td>\n",
       "      <td>2806257.0</td>\n",
       "      <td>11808563.0</td>\n",
       "    </tr>\n",
       "    <tr>\n",
       "      <th>Thanks to People</th>\n",
       "      <td>31621271.0</td>\n",
       "      <td>18278129.0</td>\n",
       "      <td>82435475.0</td>\n",
       "    </tr>\n",
       "  </tbody>\n",
       "</table>\n",
       "</div>"
      ],
      "text/plain": [
       "orientation         negative     neutral    positive\n",
       "entity                                              \n",
       "Country            7776896.0    689020.0  15221724.0\n",
       "Democratic Party   8974588.0   2403340.0   7665873.0\n",
       "Fake News         17688653.0    577428.0   7607673.0\n",
       "Good                849875.0         NaN  12842438.0\n",
       "Great                    NaN     18091.0  16200424.0\n",
       "New York           4483204.0         NaN   8907817.0\n",
       "President Trump    6762902.0   2806257.0  11808563.0\n",
       "Thanks to People  31621271.0  18278129.0  82435475.0"
      ]
     },
     "execution_count": 107,
     "metadata": {},
     "output_type": "execute_result"
    }
   ],
   "source": [
    "# sum of favorite_count\n",
    "favorite = top_8.groupby(['entity', 'orientation'])['favorite_count'].sum().unstack()\n",
    "favorite"
   ]
  },
  {
   "cell_type": "code",
   "execution_count": 108,
   "metadata": {},
   "outputs": [
    {
     "data": {
      "image/png": "[encoded data removed]",
      "text/plain": [
       "<Figure size 720x360 with 1 Axes>"
      ]
     },
     "metadata": {
      "needs_background": "light"
     },
     "output_type": "display_data"
    }
   ],
   "source": [
    "# sum of favorite_count\n",
    "# similar distribution of number of tweets\n",
    "favorite.plot(kind='bar', figsize=(10, 5), ylim=(0,5e7))\n",
    "plt.xlabel('')\n",
    "plt.title('sum of favorite_count')\n",
    "plt.show()"
   ]
  },
  {
   "cell_type": "code",
   "execution_count": 109,
   "metadata": {},
   "outputs": [
    {
     "data": {
      "text/html": [
       "<div>\n",
       "<style scoped>\n",
       "    .dataframe tbody tr th:only-of-type {\n",
       "        vertical-align: middle;\n",
       "    }\n",
       "\n",
       "    .dataframe tbody tr th {\n",
       "        vertical-align: top;\n",
       "    }\n",
       "\n",
       "    .dataframe thead th {\n",
       "        text-align: right;\n",
       "    }\n",
       "</style>\n",
       "<table border=\"1\" class=\"dataframe\">\n",
       "  <thead>\n",
       "    <tr style=\"text-align: right;\">\n",
       "      <th>orientation</th>\n",
       "      <th>negative</th>\n",
       "      <th>neutral</th>\n",
       "      <th>positive</th>\n",
       "    </tr>\n",
       "    <tr>\n",
       "      <th>entity</th>\n",
       "      <th></th>\n",
       "      <th></th>\n",
       "      <th></th>\n",
       "    </tr>\n",
       "  </thead>\n",
       "  <tbody>\n",
       "    <tr>\n",
       "      <th>Country</th>\n",
       "      <td>89389.609195</td>\n",
       "      <td>98431.428571</td>\n",
       "      <td>94544.869565</td>\n",
       "    </tr>\n",
       "    <tr>\n",
       "      <th>Democratic Party</th>\n",
       "      <td>87131.922330</td>\n",
       "      <td>70686.470588</td>\n",
       "      <td>87112.193182</td>\n",
       "    </tr>\n",
       "    <tr>\n",
       "      <th>Fake News</th>\n",
       "      <td>97727.364641</td>\n",
       "      <td>82489.714286</td>\n",
       "      <td>92776.500000</td>\n",
       "    </tr>\n",
       "    <tr>\n",
       "      <th>Good</th>\n",
       "      <td>84987.500000</td>\n",
       "      <td>NaN</td>\n",
       "      <td>84489.723684</td>\n",
       "    </tr>\n",
       "    <tr>\n",
       "      <th>Great</th>\n",
       "      <td>NaN</td>\n",
       "      <td>18091.000000</td>\n",
       "      <td>67501.766667</td>\n",
       "    </tr>\n",
       "    <tr>\n",
       "      <th>New York</th>\n",
       "      <td>87905.960784</td>\n",
       "      <td>NaN</td>\n",
       "      <td>82479.787037</td>\n",
       "    </tr>\n",
       "    <tr>\n",
       "      <th>President Trump</th>\n",
       "      <td>86703.871795</td>\n",
       "      <td>70156.425000</td>\n",
       "      <td>79787.587838</td>\n",
       "    </tr>\n",
       "    <tr>\n",
       "      <th>Thanks to People</th>\n",
       "      <td>93831.664688</td>\n",
       "      <td>87875.620192</td>\n",
       "      <td>92003.878348</td>\n",
       "    </tr>\n",
       "  </tbody>\n",
       "</table>\n",
       "</div>"
      ],
      "text/plain": [
       "orientation           negative       neutral      positive\n",
       "entity                                                    \n",
       "Country           89389.609195  98431.428571  94544.869565\n",
       "Democratic Party  87131.922330  70686.470588  87112.193182\n",
       "Fake News         97727.364641  82489.714286  92776.500000\n",
       "Good              84987.500000           NaN  84489.723684\n",
       "Great                      NaN  18091.000000  67501.766667\n",
       "New York          87905.960784           NaN  82479.787037\n",
       "President Trump   86703.871795  70156.425000  79787.587838\n",
       "Thanks to People  93831.664688  87875.620192  92003.878348"
      ]
     },
     "execution_count": 109,
     "metadata": {},
     "output_type": "execute_result"
    }
   ],
   "source": [
    "# average of favorite_count\n",
    "favorite = top_8.groupby(['entity', 'orientation'])['favorite_count'].mean().unstack()\n",
    "favorite"
   ]
  },
  {
   "cell_type": "code",
   "execution_count": 110,
   "metadata": {},
   "outputs": [
    {
     "data": {
      "image/png": "[encoded data removed]",
      "text/plain": [
       "<Figure size 720x360 with 1 Axes>"
      ]
     },
     "metadata": {
      "needs_background": "light"
     },
     "output_type": "display_data"
    }
   ],
   "source": [
    "# average of favorite_count\n",
    "# neutral: Country\n",
    "# positive: Great\n",
    "# all others are about negative tweets\n",
    "favorite.plot(kind='bar', figsize=(10, 5))\n",
    "plt.xlabel('')\n",
    "plt.title('average favorite_count of the first 8 topics')\n",
    "plt.legend(bbox_to_anchor=(1,1), loc=\"upper left\")\n",
    "plt.show()"
   ]
  },
  {
   "cell_type": "markdown",
   "metadata": {},
   "source": [
    "# hierarchical clustering"
   ]
  },
  {
   "cell_type": "markdown",
   "metadata": {},
   "source": [
    "### number of tweets"
   ]
  },
  {
   "cell_type": "code",
   "execution_count": 111,
   "metadata": {},
   "outputs": [
    {
     "data": {
      "image/png": "[encoded data removed]",
      "text/plain": [
       "<Figure size 1440x720 with 1 Axes>"
      ]
     },
     "metadata": {
      "needs_background": "light"
     },
     "output_type": "display_data"
    }
   ],
   "source": [
    "# number of tweets by entity in all clusters\n",
    "a_cluster = trump[['a_cluster', 'orientation']].groupby(['a_cluster', 'orientation']).size().unstack()\n",
    "a_cluster.plot(kind='bar', figsize=(20,10), ylim=(0,1000))\n",
    "plt.xlabel('')\n",
    "plt.title('number of tweets by entity')\n",
    "plt.show()"
   ]
  },
  {
   "cell_type": "code",
   "execution_count": 112,
   "metadata": {},
   "outputs": [
    {
     "data": {
      "text/html": [
       "<div>\n",
       "<style scoped>\n",
       "    .dataframe tbody tr th:only-of-type {\n",
       "        vertical-align: middle;\n",
       "    }\n",
       "\n",
       "    .dataframe tbody tr th {\n",
       "        vertical-align: top;\n",
       "    }\n",
       "\n",
       "    .dataframe thead th {\n",
       "        text-align: right;\n",
       "    }\n",
       "</style>\n",
       "<table border=\"1\" class=\"dataframe\">\n",
       "  <thead>\n",
       "    <tr style=\"text-align: right;\">\n",
       "      <th></th>\n",
       "      <th>entity</th>\n",
       "      <th>orientation</th>\n",
       "      <th>favorite_count</th>\n",
       "      <th>retweet_count</th>\n",
       "    </tr>\n",
       "  </thead>\n",
       "  <tbody>\n",
       "    <tr>\n",
       "      <th>0</th>\n",
       "      <td>Thanks to People</td>\n",
       "      <td>negative</td>\n",
       "      <td>156126.0</td>\n",
       "      <td>38037.0</td>\n",
       "    </tr>\n",
       "    <tr>\n",
       "      <th>1</th>\n",
       "      <td>Thanks to People</td>\n",
       "      <td>positive</td>\n",
       "      <td>34845.0</td>\n",
       "      <td>11170.0</td>\n",
       "    </tr>\n",
       "    <tr>\n",
       "      <th>2</th>\n",
       "      <td>Thanks to People</td>\n",
       "      <td>positive</td>\n",
       "      <td>33328.0</td>\n",
       "      <td>8521.0</td>\n",
       "    </tr>\n",
       "    <tr>\n",
       "      <th>3</th>\n",
       "      <td>Thanks to People</td>\n",
       "      <td>positive</td>\n",
       "      <td>56133.0</td>\n",
       "      <td>13626.0</td>\n",
       "    </tr>\n",
       "    <tr>\n",
       "      <th>4</th>\n",
       "      <td>Thanks to People</td>\n",
       "      <td>positive</td>\n",
       "      <td>65073.0</td>\n",
       "      <td>16955.0</td>\n",
       "    </tr>\n",
       "  </tbody>\n",
       "</table>\n",
       "</div>"
      ],
      "text/plain": [
       "             entity orientation  favorite_count  retweet_count\n",
       "0  Thanks to People    negative        156126.0        38037.0\n",
       "1  Thanks to People    positive         34845.0        11170.0\n",
       "2  Thanks to People    positive         33328.0         8521.0\n",
       "3  Thanks to People    positive         56133.0        13626.0\n",
       "4  Thanks to People    positive         65073.0        16955.0"
      ]
     },
     "execution_count": 112,
     "metadata": {},
     "output_type": "execute_result"
    }
   ],
   "source": [
    "top_8 = trump[['a_cluster', 'orientation', 'favorite_count', 'retweet_count']]\n",
    "top_8 = top_8[top_8['a_cluster'].isin([0, 1, 2, 3, 10, 15, 5, 7])]\n",
    "top_8['a_cluster'] = top_8['a_cluster'].replace(0, 'Thanks to People').replace(1, 'Whistleblower').replace(2, 'China')\\\n",
    "                    .replace(3, 'Democratic Party').replace(10, 'Fake News')\\\n",
    "                    .replace(15, 'Thanks').replace(5, 'Endorsement').replace(7, 'North Carolina')\n",
    "top_8.columns = ['entity', 'orientation', 'favorite_count', 'retweet_count']\n",
    "top_8.head()"
   ]
  },
  {
   "cell_type": "code",
   "execution_count": 113,
   "metadata": {},
   "outputs": [
    {
     "data": {
      "text/html": [
       "<div>\n",
       "<style scoped>\n",
       "    .dataframe tbody tr th:only-of-type {\n",
       "        vertical-align: middle;\n",
       "    }\n",
       "\n",
       "    .dataframe tbody tr th {\n",
       "        vertical-align: top;\n",
       "    }\n",
       "\n",
       "    .dataframe thead th {\n",
       "        text-align: right;\n",
       "    }\n",
       "</style>\n",
       "<table border=\"1\" class=\"dataframe\">\n",
       "  <thead>\n",
       "    <tr style=\"text-align: right;\">\n",
       "      <th>Orientation</th>\n",
       "      <th>negative</th>\n",
       "      <th>neutral</th>\n",
       "      <th>positive</th>\n",
       "    </tr>\n",
       "    <tr>\n",
       "      <th>Topic</th>\n",
       "      <th></th>\n",
       "      <th></th>\n",
       "      <th></th>\n",
       "    </tr>\n",
       "  </thead>\n",
       "  <tbody>\n",
       "    <tr>\n",
       "      <th>China</th>\n",
       "      <td>38.0</td>\n",
       "      <td>5.0</td>\n",
       "      <td>132.0</td>\n",
       "    </tr>\n",
       "    <tr>\n",
       "      <th>Democratic Party</th>\n",
       "      <td>267.0</td>\n",
       "      <td>76.0</td>\n",
       "      <td>211.0</td>\n",
       "    </tr>\n",
       "    <tr>\n",
       "      <th>Endorsement</th>\n",
       "      <td>0.0</td>\n",
       "      <td>0.0</td>\n",
       "      <td>63.0</td>\n",
       "    </tr>\n",
       "    <tr>\n",
       "      <th>Fake News</th>\n",
       "      <td>102.0</td>\n",
       "      <td>10.0</td>\n",
       "      <td>49.0</td>\n",
       "    </tr>\n",
       "    <tr>\n",
       "      <th>North Carolina</th>\n",
       "      <td>5.0</td>\n",
       "      <td>4.0</td>\n",
       "      <td>38.0</td>\n",
       "    </tr>\n",
       "    <tr>\n",
       "      <th>Thanks</th>\n",
       "      <td>0.0</td>\n",
       "      <td>0.0</td>\n",
       "      <td>106.0</td>\n",
       "    </tr>\n",
       "    <tr>\n",
       "      <th>Thanks to People</th>\n",
       "      <td>742.0</td>\n",
       "      <td>280.0</td>\n",
       "      <td>2088.0</td>\n",
       "    </tr>\n",
       "    <tr>\n",
       "      <th>Whistleblower</th>\n",
       "      <td>67.0</td>\n",
       "      <td>21.0</td>\n",
       "      <td>26.0</td>\n",
       "    </tr>\n",
       "  </tbody>\n",
       "</table>\n",
       "</div>"
      ],
      "text/plain": [
       "Orientation       negative  neutral  positive\n",
       "Topic                                        \n",
       "China                 38.0      5.0     132.0\n",
       "Democratic Party     267.0     76.0     211.0\n",
       "Endorsement            0.0      0.0      63.0\n",
       "Fake News            102.0     10.0      49.0\n",
       "North Carolina         5.0      4.0      38.0\n",
       "Thanks                 0.0      0.0     106.0\n",
       "Thanks to People     742.0    280.0    2088.0\n",
       "Whistleblower         67.0     21.0      26.0"
      ]
     },
     "execution_count": 113,
     "metadata": {},
     "output_type": "execute_result"
    }
   ],
   "source": [
    "# number of tweets\n",
    "count = top_8.rename(columns={'entity':'Topic', 'orientation':'Orientation'}).groupby(['Topic', 'Orientation']).size().unstack()\n",
    "count = count.fillna(0)\n",
    "count\n"
   ]
  },
  {
   "cell_type": "code",
   "execution_count": 114,
   "metadata": {},
   "outputs": [
    {
     "data": {
      "image/png": "[encoded data removed]",
      "text/plain": [
       "<Figure size 720x360 with 1 Axes>"
      ]
     },
     "metadata": {
      "needs_background": "light"
     },
     "output_type": "display_data"
    }
   ],
   "source": [
    "# tweet count\n",
    "# negative: Democratic Party, Fake News, Whistleblower\n",
    "# all others are about positive tweets\n",
    "count.plot(kind='bar', figsize=(10,5), ylim=(0,1000))\n",
    "plt.xlabel('')\n",
    "plt.title('number of tweets of the first 8 topics')\n",
    "plt.legend(bbox_to_anchor=(1,1), loc=\"upper left\")\n",
    "plt.show()"
   ]
  },
  {
   "cell_type": "markdown",
   "metadata": {},
   "source": [
    "### retweet_count"
   ]
  },
  {
   "cell_type": "code",
   "execution_count": 115,
   "metadata": {},
   "outputs": [
    {
     "data": {
      "text/html": [
       "<div>\n",
       "<style scoped>\n",
       "    .dataframe tbody tr th:only-of-type {\n",
       "        vertical-align: middle;\n",
       "    }\n",
       "\n",
       "    .dataframe tbody tr th {\n",
       "        vertical-align: top;\n",
       "    }\n",
       "\n",
       "    .dataframe thead th {\n",
       "        text-align: right;\n",
       "    }\n",
       "</style>\n",
       "<table border=\"1\" class=\"dataframe\">\n",
       "  <thead>\n",
       "    <tr style=\"text-align: right;\">\n",
       "      <th>orientation</th>\n",
       "      <th>negative</th>\n",
       "      <th>neutral</th>\n",
       "      <th>positive</th>\n",
       "    </tr>\n",
       "    <tr>\n",
       "      <th>entity</th>\n",
       "      <th></th>\n",
       "      <th></th>\n",
       "      <th></th>\n",
       "    </tr>\n",
       "  </thead>\n",
       "  <tbody>\n",
       "    <tr>\n",
       "      <th>China</th>\n",
       "      <td>580888.0</td>\n",
       "      <td>108102.0</td>\n",
       "      <td>2162074.0</td>\n",
       "    </tr>\n",
       "    <tr>\n",
       "      <th>Democratic Party</th>\n",
       "      <td>5474385.0</td>\n",
       "      <td>1370405.0</td>\n",
       "      <td>4013697.0</td>\n",
       "    </tr>\n",
       "    <tr>\n",
       "      <th>Endorsement</th>\n",
       "      <td>NaN</td>\n",
       "      <td>NaN</td>\n",
       "      <td>682858.0</td>\n",
       "    </tr>\n",
       "    <tr>\n",
       "      <th>Fake News</th>\n",
       "      <td>2212526.0</td>\n",
       "      <td>98982.0</td>\n",
       "      <td>944840.0</td>\n",
       "    </tr>\n",
       "    <tr>\n",
       "      <th>North Carolina</th>\n",
       "      <td>79281.0</td>\n",
       "      <td>44380.0</td>\n",
       "      <td>464504.0</td>\n",
       "    </tr>\n",
       "    <tr>\n",
       "      <th>Thanks</th>\n",
       "      <td>NaN</td>\n",
       "      <td>NaN</td>\n",
       "      <td>1446345.0</td>\n",
       "    </tr>\n",
       "    <tr>\n",
       "      <th>Thanks to People</th>\n",
       "      <td>16356694.0</td>\n",
       "      <td>5688128.0</td>\n",
       "      <td>40543450.0</td>\n",
       "    </tr>\n",
       "    <tr>\n",
       "      <th>Whistleblower</th>\n",
       "      <td>1515568.0</td>\n",
       "      <td>405982.0</td>\n",
       "      <td>493598.0</td>\n",
       "    </tr>\n",
       "  </tbody>\n",
       "</table>\n",
       "</div>"
      ],
      "text/plain": [
       "orientation         negative    neutral    positive\n",
       "entity                                             \n",
       "China               580888.0   108102.0   2162074.0\n",
       "Democratic Party   5474385.0  1370405.0   4013697.0\n",
       "Endorsement              NaN        NaN    682858.0\n",
       "Fake News          2212526.0    98982.0    944840.0\n",
       "North Carolina       79281.0    44380.0    464504.0\n",
       "Thanks                   NaN        NaN   1446345.0\n",
       "Thanks to People  16356694.0  5688128.0  40543450.0\n",
       "Whistleblower      1515568.0   405982.0    493598.0"
      ]
     },
     "execution_count": 115,
     "metadata": {},
     "output_type": "execute_result"
    }
   ],
   "source": [
    "# sum of retweet_count\n",
    "retweet = top_8.groupby(['entity', 'orientation'])['retweet_count'].sum().unstack()\n",
    "retweet"
   ]
  },
  {
   "cell_type": "code",
   "execution_count": 116,
   "metadata": {},
   "outputs": [
    {
     "data": {
      "image/png": "[encoded data removed]",
      "text/plain": [
       "<Figure size 720x360 with 1 Axes>"
      ]
     },
     "metadata": {
      "needs_background": "light"
     },
     "output_type": "display_data"
    }
   ],
   "source": [
    "# sum of retweet_count\n",
    "# similar distribution \n",
    "retweet.plot(kind='bar', figsize=(10, 5), ylim=(0, 2e7))\n",
    "plt.xlabel('')\n",
    "plt.title('sum of retweet_count')\n",
    "plt.show()"
   ]
  },
  {
   "cell_type": "code",
   "execution_count": 117,
   "metadata": {},
   "outputs": [
    {
     "data": {
      "text/html": [
       "<div>\n",
       "<style scoped>\n",
       "    .dataframe tbody tr th:only-of-type {\n",
       "        vertical-align: middle;\n",
       "    }\n",
       "\n",
       "    .dataframe tbody tr th {\n",
       "        vertical-align: top;\n",
       "    }\n",
       "\n",
       "    .dataframe thead th {\n",
       "        text-align: right;\n",
       "    }\n",
       "</style>\n",
       "<table border=\"1\" class=\"dataframe\">\n",
       "  <thead>\n",
       "    <tr style=\"text-align: right;\">\n",
       "      <th>orientation</th>\n",
       "      <th>negative</th>\n",
       "      <th>neutral</th>\n",
       "      <th>positive</th>\n",
       "    </tr>\n",
       "    <tr>\n",
       "      <th>entity</th>\n",
       "      <th></th>\n",
       "      <th></th>\n",
       "      <th></th>\n",
       "    </tr>\n",
       "  </thead>\n",
       "  <tbody>\n",
       "    <tr>\n",
       "      <th>China</th>\n",
       "      <td>15286.526316</td>\n",
       "      <td>21620.400000</td>\n",
       "      <td>16379.348485</td>\n",
       "    </tr>\n",
       "    <tr>\n",
       "      <th>Democratic Party</th>\n",
       "      <td>20503.314607</td>\n",
       "      <td>18031.644737</td>\n",
       "      <td>19022.260664</td>\n",
       "    </tr>\n",
       "    <tr>\n",
       "      <th>Endorsement</th>\n",
       "      <td>NaN</td>\n",
       "      <td>NaN</td>\n",
       "      <td>10839.015873</td>\n",
       "    </tr>\n",
       "    <tr>\n",
       "      <th>Fake News</th>\n",
       "      <td>21691.431373</td>\n",
       "      <td>9898.200000</td>\n",
       "      <td>19282.448980</td>\n",
       "    </tr>\n",
       "    <tr>\n",
       "      <th>North Carolina</th>\n",
       "      <td>15856.200000</td>\n",
       "      <td>11095.000000</td>\n",
       "      <td>12223.789474</td>\n",
       "    </tr>\n",
       "    <tr>\n",
       "      <th>Thanks</th>\n",
       "      <td>NaN</td>\n",
       "      <td>NaN</td>\n",
       "      <td>13644.764151</td>\n",
       "    </tr>\n",
       "    <tr>\n",
       "      <th>Thanks to People</th>\n",
       "      <td>22044.061995</td>\n",
       "      <td>20314.742857</td>\n",
       "      <td>19417.361111</td>\n",
       "    </tr>\n",
       "    <tr>\n",
       "      <th>Whistleblower</th>\n",
       "      <td>22620.417910</td>\n",
       "      <td>19332.476190</td>\n",
       "      <td>18984.538462</td>\n",
       "    </tr>\n",
       "  </tbody>\n",
       "</table>\n",
       "</div>"
      ],
      "text/plain": [
       "orientation           negative       neutral      positive\n",
       "entity                                                    \n",
       "China             15286.526316  21620.400000  16379.348485\n",
       "Democratic Party  20503.314607  18031.644737  19022.260664\n",
       "Endorsement                NaN           NaN  10839.015873\n",
       "Fake News         21691.431373   9898.200000  19282.448980\n",
       "North Carolina    15856.200000  11095.000000  12223.789474\n",
       "Thanks                     NaN           NaN  13644.764151\n",
       "Thanks to People  22044.061995  20314.742857  19417.361111\n",
       "Whistleblower     22620.417910  19332.476190  18984.538462"
      ]
     },
     "execution_count": 117,
     "metadata": {},
     "output_type": "execute_result"
    }
   ],
   "source": [
    "# average of retweet_count\n",
    "retweet = top_8.groupby(['entity', 'orientation'])['retweet_count'].mean().unstack()\n",
    "retweet"
   ]
  },
  {
   "cell_type": "code",
   "execution_count": 118,
   "metadata": {},
   "outputs": [
    {
     "data": {
      "image/png": "[encoded data removed]",
      "text/plain": [
       "<Figure size 720x360 with 1 Axes>"
      ]
     },
     "metadata": {
      "needs_background": "light"
     },
     "output_type": "display_data"
    }
   ],
   "source": [
    "# average of retweet_count\n",
    "# neutral: China\n",
    "# positive: Endorsement, Thanks\n",
    "# all others are about negative tweets\n",
    "retweet.plot(kind='bar', figsize=(10, 5))\n",
    "plt.xlabel('')\n",
    "plt.title('average retweet_count of the first 8 topics')\n",
    "plt.legend(bbox_to_anchor=(1,1), loc=\"upper left\")\n",
    "plt.show()"
   ]
  },
  {
   "cell_type": "markdown",
   "metadata": {},
   "source": [
    "### favorite_count"
   ]
  },
  {
   "cell_type": "code",
   "execution_count": 119,
   "metadata": {},
   "outputs": [
    {
     "data": {
      "text/html": [
       "<div>\n",
       "<style scoped>\n",
       "    .dataframe tbody tr th:only-of-type {\n",
       "        vertical-align: middle;\n",
       "    }\n",
       "\n",
       "    .dataframe tbody tr th {\n",
       "        vertical-align: top;\n",
       "    }\n",
       "\n",
       "    .dataframe thead th {\n",
       "        text-align: right;\n",
       "    }\n",
       "</style>\n",
       "<table border=\"1\" class=\"dataframe\">\n",
       "  <thead>\n",
       "    <tr style=\"text-align: right;\">\n",
       "      <th>orientation</th>\n",
       "      <th>negative</th>\n",
       "      <th>neutral</th>\n",
       "      <th>positive</th>\n",
       "    </tr>\n",
       "    <tr>\n",
       "      <th>entity</th>\n",
       "      <th></th>\n",
       "      <th></th>\n",
       "      <th></th>\n",
       "    </tr>\n",
       "  </thead>\n",
       "  <tbody>\n",
       "    <tr>\n",
       "      <th>China</th>\n",
       "      <td>2527688.0</td>\n",
       "      <td>494077.0</td>\n",
       "      <td>10243552.0</td>\n",
       "    </tr>\n",
       "    <tr>\n",
       "      <th>Democratic Party</th>\n",
       "      <td>23330259.0</td>\n",
       "      <td>5475775.0</td>\n",
       "      <td>17497371.0</td>\n",
       "    </tr>\n",
       "    <tr>\n",
       "      <th>Endorsement</th>\n",
       "      <td>NaN</td>\n",
       "      <td>NaN</td>\n",
       "      <td>2592410.0</td>\n",
       "    </tr>\n",
       "    <tr>\n",
       "      <th>Fake News</th>\n",
       "      <td>9324803.0</td>\n",
       "      <td>383005.0</td>\n",
       "      <td>4180492.0</td>\n",
       "    </tr>\n",
       "    <tr>\n",
       "      <th>North Carolina</th>\n",
       "      <td>330859.0</td>\n",
       "      <td>239529.0</td>\n",
       "      <td>2084882.0</td>\n",
       "    </tr>\n",
       "    <tr>\n",
       "      <th>Thanks</th>\n",
       "      <td>NaN</td>\n",
       "      <td>NaN</td>\n",
       "      <td>6350417.0</td>\n",
       "    </tr>\n",
       "    <tr>\n",
       "      <th>Thanks to People</th>\n",
       "      <td>70718519.0</td>\n",
       "      <td>25115046.0</td>\n",
       "      <td>187492570.0</td>\n",
       "    </tr>\n",
       "    <tr>\n",
       "      <th>Whistleblower</th>\n",
       "      <td>6166841.0</td>\n",
       "      <td>1576506.0</td>\n",
       "      <td>2024873.0</td>\n",
       "    </tr>\n",
       "  </tbody>\n",
       "</table>\n",
       "</div>"
      ],
      "text/plain": [
       "orientation         negative     neutral     positive\n",
       "entity                                               \n",
       "China              2527688.0    494077.0   10243552.0\n",
       "Democratic Party  23330259.0   5475775.0   17497371.0\n",
       "Endorsement              NaN         NaN    2592410.0\n",
       "Fake News          9324803.0    383005.0    4180492.0\n",
       "North Carolina      330859.0    239529.0    2084882.0\n",
       "Thanks                   NaN         NaN    6350417.0\n",
       "Thanks to People  70718519.0  25115046.0  187492570.0\n",
       "Whistleblower      6166841.0   1576506.0    2024873.0"
      ]
     },
     "execution_count": 119,
     "metadata": {},
     "output_type": "execute_result"
    }
   ],
   "source": [
    "# sum of favorite_count\n",
    "favorite = top_8.groupby(['entity', 'orientation'])['favorite_count'].sum().unstack()\n",
    "favorite"
   ]
  },
  {
   "cell_type": "code",
   "execution_count": 120,
   "metadata": {},
   "outputs": [
    {
     "data": {
      "image/png": "[encoded data removed]",
      "text/plain": [
       "<Figure size 720x360 with 1 Axes>"
      ]
     },
     "metadata": {
      "needs_background": "light"
     },
     "output_type": "display_data"
    }
   ],
   "source": [
    "# sum of favorite_count\n",
    "# similar distribution of number of tweets\n",
    "favorite.plot(kind='bar', figsize=(10, 5), ylim=(0, 1e8))\n",
    "plt.xlabel('')\n",
    "plt.title('sum of favorite_count')\n",
    "plt.show()"
   ]
  },
  {
   "cell_type": "code",
   "execution_count": 121,
   "metadata": {},
   "outputs": [
    {
     "data": {
      "text/html": [
       "<div>\n",
       "<style scoped>\n",
       "    .dataframe tbody tr th:only-of-type {\n",
       "        vertical-align: middle;\n",
       "    }\n",
       "\n",
       "    .dataframe tbody tr th {\n",
       "        vertical-align: top;\n",
       "    }\n",
       "\n",
       "    .dataframe thead th {\n",
       "        text-align: right;\n",
       "    }\n",
       "</style>\n",
       "<table border=\"1\" class=\"dataframe\">\n",
       "  <thead>\n",
       "    <tr style=\"text-align: right;\">\n",
       "      <th>orientation</th>\n",
       "      <th>negative</th>\n",
       "      <th>neutral</th>\n",
       "      <th>positive</th>\n",
       "    </tr>\n",
       "    <tr>\n",
       "      <th>entity</th>\n",
       "      <th></th>\n",
       "      <th></th>\n",
       "      <th></th>\n",
       "    </tr>\n",
       "  </thead>\n",
       "  <tbody>\n",
       "    <tr>\n",
       "      <th>China</th>\n",
       "      <td>66518.105263</td>\n",
       "      <td>98815.400000</td>\n",
       "      <td>77602.666667</td>\n",
       "    </tr>\n",
       "    <tr>\n",
       "      <th>Democratic Party</th>\n",
       "      <td>87379.247191</td>\n",
       "      <td>72049.671053</td>\n",
       "      <td>82925.928910</td>\n",
       "    </tr>\n",
       "    <tr>\n",
       "      <th>Endorsement</th>\n",
       "      <td>NaN</td>\n",
       "      <td>NaN</td>\n",
       "      <td>41149.365079</td>\n",
       "    </tr>\n",
       "    <tr>\n",
       "      <th>Fake News</th>\n",
       "      <td>91419.637255</td>\n",
       "      <td>38300.500000</td>\n",
       "      <td>85316.163265</td>\n",
       "    </tr>\n",
       "    <tr>\n",
       "      <th>North Carolina</th>\n",
       "      <td>66171.800000</td>\n",
       "      <td>59882.250000</td>\n",
       "      <td>54865.315789</td>\n",
       "    </tr>\n",
       "    <tr>\n",
       "      <th>Thanks</th>\n",
       "      <td>NaN</td>\n",
       "      <td>NaN</td>\n",
       "      <td>59909.594340</td>\n",
       "    </tr>\n",
       "    <tr>\n",
       "      <th>Thanks to People</th>\n",
       "      <td>95307.977089</td>\n",
       "      <td>89696.592857</td>\n",
       "      <td>89795.292146</td>\n",
       "    </tr>\n",
       "    <tr>\n",
       "      <th>Whistleblower</th>\n",
       "      <td>92042.402985</td>\n",
       "      <td>75071.714286</td>\n",
       "      <td>77879.730769</td>\n",
       "    </tr>\n",
       "  </tbody>\n",
       "</table>\n",
       "</div>"
      ],
      "text/plain": [
       "orientation           negative       neutral      positive\n",
       "entity                                                    \n",
       "China             66518.105263  98815.400000  77602.666667\n",
       "Democratic Party  87379.247191  72049.671053  82925.928910\n",
       "Endorsement                NaN           NaN  41149.365079\n",
       "Fake News         91419.637255  38300.500000  85316.163265\n",
       "North Carolina    66171.800000  59882.250000  54865.315789\n",
       "Thanks                     NaN           NaN  59909.594340\n",
       "Thanks to People  95307.977089  89696.592857  89795.292146\n",
       "Whistleblower     92042.402985  75071.714286  77879.730769"
      ]
     },
     "execution_count": 121,
     "metadata": {},
     "output_type": "execute_result"
    }
   ],
   "source": [
    "# average of favorite_count\n",
    "favorite = top_8.groupby(['entity', 'orientation'])['favorite_count'].mean().unstack()\n",
    "favorite"
   ]
  },
  {
   "cell_type": "code",
   "execution_count": 122,
   "metadata": {},
   "outputs": [
    {
     "data": {
      "image/png": "[encoded data removed]",
      "text/plain": [
       "<Figure size 720x360 with 1 Axes>"
      ]
     },
     "metadata": {
      "needs_background": "light"
     },
     "output_type": "display_data"
    }
   ],
   "source": [
    "# average of favorite_count\n",
    "# neutral: China\n",
    "# positive: Endorsement, Thanks\n",
    "# all others are about negative tweets\n",
    "favorite.plot(kind='bar', figsize=(10, 5))\n",
    "plt.xlabel('')\n",
    "plt.title('average favorite_count of the first 8 topics')\n",
    "plt.legend(bbox_to_anchor=(1,1), loc=\"upper left\")\n",
    "plt.show()"
   ]
  },
  {
   "cell_type": "markdown",
   "metadata": {},
   "source": [
    "# time"
   ]
  },
  {
   "cell_type": "markdown",
   "metadata": {},
   "source": [
    "### number of tweets"
   ]
  },
  {
   "cell_type": "code",
   "execution_count": 123,
   "metadata": {},
   "outputs": [
    {
     "data": {
      "text/html": [
       "<div>\n",
       "<style scoped>\n",
       "    .dataframe tbody tr th:only-of-type {\n",
       "        vertical-align: middle;\n",
       "    }\n",
       "\n",
       "    .dataframe tbody tr th {\n",
       "        vertical-align: top;\n",
       "    }\n",
       "\n",
       "    .dataframe thead th {\n",
       "        text-align: right;\n",
       "    }\n",
       "</style>\n",
       "<table border=\"1\" class=\"dataframe\">\n",
       "  <thead>\n",
       "    <tr style=\"text-align: right;\">\n",
       "      <th>orientation</th>\n",
       "      <th>negative</th>\n",
       "      <th>neutral</th>\n",
       "      <th>positive</th>\n",
       "    </tr>\n",
       "    <tr>\n",
       "      <th>hour</th>\n",
       "      <th></th>\n",
       "      <th></th>\n",
       "      <th></th>\n",
       "    </tr>\n",
       "  </thead>\n",
       "  <tbody>\n",
       "    <tr>\n",
       "      <th>0</th>\n",
       "      <td>35.0</td>\n",
       "      <td>14.0</td>\n",
       "      <td>74.0</td>\n",
       "    </tr>\n",
       "    <tr>\n",
       "      <th>1</th>\n",
       "      <td>7.0</td>\n",
       "      <td>5.0</td>\n",
       "      <td>22.0</td>\n",
       "    </tr>\n",
       "    <tr>\n",
       "      <th>2</th>\n",
       "      <td>2.0</td>\n",
       "      <td>NaN</td>\n",
       "      <td>5.0</td>\n",
       "    </tr>\n",
       "    <tr>\n",
       "      <th>3</th>\n",
       "      <td>1.0</td>\n",
       "      <td>1.0</td>\n",
       "      <td>6.0</td>\n",
       "    </tr>\n",
       "    <tr>\n",
       "      <th>4</th>\n",
       "      <td>4.0</td>\n",
       "      <td>1.0</td>\n",
       "      <td>9.0</td>\n",
       "    </tr>\n",
       "    <tr>\n",
       "      <th>5</th>\n",
       "      <td>5.0</td>\n",
       "      <td>1.0</td>\n",
       "      <td>10.0</td>\n",
       "    </tr>\n",
       "    <tr>\n",
       "      <th>6</th>\n",
       "      <td>52.0</td>\n",
       "      <td>9.0</td>\n",
       "      <td>97.0</td>\n",
       "    </tr>\n",
       "    <tr>\n",
       "      <th>7</th>\n",
       "      <td>125.0</td>\n",
       "      <td>33.0</td>\n",
       "      <td>238.0</td>\n",
       "    </tr>\n",
       "    <tr>\n",
       "      <th>8</th>\n",
       "      <td>145.0</td>\n",
       "      <td>40.0</td>\n",
       "      <td>283.0</td>\n",
       "    </tr>\n",
       "    <tr>\n",
       "      <th>9</th>\n",
       "      <td>134.0</td>\n",
       "      <td>28.0</td>\n",
       "      <td>220.0</td>\n",
       "    </tr>\n",
       "    <tr>\n",
       "      <th>10</th>\n",
       "      <td>118.0</td>\n",
       "      <td>35.0</td>\n",
       "      <td>263.0</td>\n",
       "    </tr>\n",
       "    <tr>\n",
       "      <th>11</th>\n",
       "      <td>68.0</td>\n",
       "      <td>24.0</td>\n",
       "      <td>146.0</td>\n",
       "    </tr>\n",
       "    <tr>\n",
       "      <th>12</th>\n",
       "      <td>41.0</td>\n",
       "      <td>23.0</td>\n",
       "      <td>101.0</td>\n",
       "    </tr>\n",
       "    <tr>\n",
       "      <th>13</th>\n",
       "      <td>49.0</td>\n",
       "      <td>14.0</td>\n",
       "      <td>118.0</td>\n",
       "    </tr>\n",
       "    <tr>\n",
       "      <th>14</th>\n",
       "      <td>55.0</td>\n",
       "      <td>13.0</td>\n",
       "      <td>127.0</td>\n",
       "    </tr>\n",
       "    <tr>\n",
       "      <th>15</th>\n",
       "      <td>38.0</td>\n",
       "      <td>20.0</td>\n",
       "      <td>154.0</td>\n",
       "    </tr>\n",
       "    <tr>\n",
       "      <th>16</th>\n",
       "      <td>42.0</td>\n",
       "      <td>26.0</td>\n",
       "      <td>146.0</td>\n",
       "    </tr>\n",
       "    <tr>\n",
       "      <th>17</th>\n",
       "      <td>63.0</td>\n",
       "      <td>24.0</td>\n",
       "      <td>167.0</td>\n",
       "    </tr>\n",
       "    <tr>\n",
       "      <th>18</th>\n",
       "      <td>53.0</td>\n",
       "      <td>31.0</td>\n",
       "      <td>170.0</td>\n",
       "    </tr>\n",
       "    <tr>\n",
       "      <th>19</th>\n",
       "      <td>53.0</td>\n",
       "      <td>17.0</td>\n",
       "      <td>149.0</td>\n",
       "    </tr>\n",
       "    <tr>\n",
       "      <th>20</th>\n",
       "      <td>46.0</td>\n",
       "      <td>18.0</td>\n",
       "      <td>151.0</td>\n",
       "    </tr>\n",
       "    <tr>\n",
       "      <th>21</th>\n",
       "      <td>37.0</td>\n",
       "      <td>26.0</td>\n",
       "      <td>116.0</td>\n",
       "    </tr>\n",
       "    <tr>\n",
       "      <th>22</th>\n",
       "      <td>51.0</td>\n",
       "      <td>19.0</td>\n",
       "      <td>119.0</td>\n",
       "    </tr>\n",
       "    <tr>\n",
       "      <th>23</th>\n",
       "      <td>53.0</td>\n",
       "      <td>20.0</td>\n",
       "      <td>129.0</td>\n",
       "    </tr>\n",
       "  </tbody>\n",
       "</table>\n",
       "</div>"
      ],
      "text/plain": [
       "orientation  negative  neutral  positive\n",
       "hour                                    \n",
       "0                35.0     14.0      74.0\n",
       "1                 7.0      5.0      22.0\n",
       "2                 2.0      NaN       5.0\n",
       "3                 1.0      1.0       6.0\n",
       "4                 4.0      1.0       9.0\n",
       "5                 5.0      1.0      10.0\n",
       "6                52.0      9.0      97.0\n",
       "7               125.0     33.0     238.0\n",
       "8               145.0     40.0     283.0\n",
       "9               134.0     28.0     220.0\n",
       "10              118.0     35.0     263.0\n",
       "11               68.0     24.0     146.0\n",
       "12               41.0     23.0     101.0\n",
       "13               49.0     14.0     118.0\n",
       "14               55.0     13.0     127.0\n",
       "15               38.0     20.0     154.0\n",
       "16               42.0     26.0     146.0\n",
       "17               63.0     24.0     167.0\n",
       "18               53.0     31.0     170.0\n",
       "19               53.0     17.0     149.0\n",
       "20               46.0     18.0     151.0\n",
       "21               37.0     26.0     116.0\n",
       "22               51.0     19.0     119.0\n",
       "23               53.0     20.0     129.0"
      ]
     },
     "execution_count": 123,
     "metadata": {},
     "output_type": "execute_result"
    }
   ],
   "source": [
    "# trump's orientation against hour\n",
    "hour = trump.groupby(['hour', 'orientation']).size().unstack()\n",
    "hour"
   ]
  },
  {
   "cell_type": "code",
   "execution_count": 125,
   "metadata": {},
   "outputs": [
    {
     "data": {
      "image/png": "[encoded data removed]",
      "text/plain": [
       "<Figure size 720x360 with 1 Axes>"
      ]
     },
     "metadata": {
      "needs_background": "light"
     },
     "output_type": "display_data"
    }
   ],
   "source": [
    "# trump's orientation against hour\n",
    "# similar trend for all orientation, but he sent more tweets in the morning\n",
    "hour.plot(kind='line', figsize=(10, 5))\n",
    "plt.xlabel('')\n",
    "plt.title('orientation against hour')\n",
    "plt.legend(bbox_to_anchor=(1,1), loc=\"upper left\")\n",
    "plt.show()"
   ]
  },
  {
   "cell_type": "code",
   "execution_count": 126,
   "metadata": {},
   "outputs": [
    {
     "data": {
      "text/html": [
       "<div>\n",
       "<style scoped>\n",
       "    .dataframe tbody tr th:only-of-type {\n",
       "        vertical-align: middle;\n",
       "    }\n",
       "\n",
       "    .dataframe tbody tr th {\n",
       "        vertical-align: top;\n",
       "    }\n",
       "\n",
       "    .dataframe thead th {\n",
       "        text-align: right;\n",
       "    }\n",
       "</style>\n",
       "<table border=\"1\" class=\"dataframe\">\n",
       "  <thead>\n",
       "    <tr style=\"text-align: right;\">\n",
       "      <th>orientation</th>\n",
       "      <th>negative</th>\n",
       "      <th>neutral</th>\n",
       "      <th>positive</th>\n",
       "    </tr>\n",
       "    <tr>\n",
       "      <th>day_of_week</th>\n",
       "      <th></th>\n",
       "      <th></th>\n",
       "      <th></th>\n",
       "    </tr>\n",
       "  </thead>\n",
       "  <tbody>\n",
       "    <tr>\n",
       "      <th>1</th>\n",
       "      <td>193</td>\n",
       "      <td>50</td>\n",
       "      <td>420</td>\n",
       "    </tr>\n",
       "    <tr>\n",
       "      <th>2</th>\n",
       "      <td>163</td>\n",
       "      <td>54</td>\n",
       "      <td>483</td>\n",
       "    </tr>\n",
       "    <tr>\n",
       "      <th>3</th>\n",
       "      <td>186</td>\n",
       "      <td>83</td>\n",
       "      <td>468</td>\n",
       "    </tr>\n",
       "    <tr>\n",
       "      <th>4</th>\n",
       "      <td>187</td>\n",
       "      <td>78</td>\n",
       "      <td>449</td>\n",
       "    </tr>\n",
       "    <tr>\n",
       "      <th>5</th>\n",
       "      <td>170</td>\n",
       "      <td>69</td>\n",
       "      <td>469</td>\n",
       "    </tr>\n",
       "    <tr>\n",
       "      <th>6</th>\n",
       "      <td>157</td>\n",
       "      <td>55</td>\n",
       "      <td>378</td>\n",
       "    </tr>\n",
       "    <tr>\n",
       "      <th>7</th>\n",
       "      <td>221</td>\n",
       "      <td>53</td>\n",
       "      <td>353</td>\n",
       "    </tr>\n",
       "  </tbody>\n",
       "</table>\n",
       "</div>"
      ],
      "text/plain": [
       "orientation  negative  neutral  positive\n",
       "day_of_week                             \n",
       "1                 193       50       420\n",
       "2                 163       54       483\n",
       "3                 186       83       468\n",
       "4                 187       78       449\n",
       "5                 170       69       469\n",
       "6                 157       55       378\n",
       "7                 221       53       353"
      ]
     },
     "execution_count": 126,
     "metadata": {},
     "output_type": "execute_result"
    }
   ],
   "source": [
    "# trump's orientation against day_of_week\n",
    "# 1 is Monday, etc\n",
    "day_of_week = trump.groupby(['day_of_week', 'orientation']).size().unstack()\n",
    "day_of_week"
   ]
  },
  {
   "cell_type": "code",
   "execution_count": 128,
   "metadata": {},
   "outputs": [
    {
     "data": {
      "image/png": "[encoded data removed]",
      "text/plain": [
       "<Figure size 720x360 with 1 Axes>"
      ]
     },
     "metadata": {
      "needs_background": "light"
     },
     "output_type": "display_data"
    }
   ],
   "source": [
    "# trump's orientation against day_of_week\n",
    "# 1 is Monday, etc\n",
    "# it seems when trump sent more positive tweets on a day, he trent to send less negative tweets on the same day\n",
    "# except on Saturday, amounts of both positive and negative tweets were decreasing\n",
    "day_of_week.plot(kind='line', figsize=(10, 5))\n",
    "plt.xlabel('')\n",
    "plt.title('orientation against day_of_week')\n",
    "plt.legend(bbox_to_anchor=(1,1), loc=\"upper left\")\n",
    "plt.show()"
   ]
  },
  {
   "cell_type": "code",
   "execution_count": 129,
   "metadata": {},
   "outputs": [
    {
     "data": {
      "text/html": [
       "<div>\n",
       "<style scoped>\n",
       "    .dataframe tbody tr th:only-of-type {\n",
       "        vertical-align: middle;\n",
       "    }\n",
       "\n",
       "    .dataframe tbody tr th {\n",
       "        vertical-align: top;\n",
       "    }\n",
       "\n",
       "    .dataframe thead th {\n",
       "        text-align: right;\n",
       "    }\n",
       "</style>\n",
       "<table border=\"1\" class=\"dataframe\">\n",
       "  <thead>\n",
       "    <tr style=\"text-align: right;\">\n",
       "      <th>orientation</th>\n",
       "      <th>negative</th>\n",
       "      <th>neutral</th>\n",
       "      <th>positive</th>\n",
       "    </tr>\n",
       "    <tr>\n",
       "      <th>month_text</th>\n",
       "      <th></th>\n",
       "      <th></th>\n",
       "      <th></th>\n",
       "    </tr>\n",
       "  </thead>\n",
       "  <tbody>\n",
       "    <tr>\n",
       "      <th>2019-05</th>\n",
       "      <td>113</td>\n",
       "      <td>22</td>\n",
       "      <td>238</td>\n",
       "    </tr>\n",
       "    <tr>\n",
       "      <th>2019-06</th>\n",
       "      <td>85</td>\n",
       "      <td>16</td>\n",
       "      <td>213</td>\n",
       "    </tr>\n",
       "    <tr>\n",
       "      <th>2019-07</th>\n",
       "      <td>123</td>\n",
       "      <td>28</td>\n",
       "      <td>301</td>\n",
       "    </tr>\n",
       "    <tr>\n",
       "      <th>2019-08</th>\n",
       "      <td>109</td>\n",
       "      <td>19</td>\n",
       "      <td>283</td>\n",
       "    </tr>\n",
       "    <tr>\n",
       "      <th>2019-09</th>\n",
       "      <td>126</td>\n",
       "      <td>39</td>\n",
       "      <td>269</td>\n",
       "    </tr>\n",
       "    <tr>\n",
       "      <th>2019-10</th>\n",
       "      <td>161</td>\n",
       "      <td>81</td>\n",
       "      <td>311</td>\n",
       "    </tr>\n",
       "    <tr>\n",
       "      <th>2019-11</th>\n",
       "      <td>101</td>\n",
       "      <td>48</td>\n",
       "      <td>214</td>\n",
       "    </tr>\n",
       "    <tr>\n",
       "      <th>2019-12</th>\n",
       "      <td>124</td>\n",
       "      <td>52</td>\n",
       "      <td>250</td>\n",
       "    </tr>\n",
       "    <tr>\n",
       "      <th>2020-01</th>\n",
       "      <td>90</td>\n",
       "      <td>39</td>\n",
       "      <td>214</td>\n",
       "    </tr>\n",
       "    <tr>\n",
       "      <th>2020-02</th>\n",
       "      <td>84</td>\n",
       "      <td>39</td>\n",
       "      <td>227</td>\n",
       "    </tr>\n",
       "    <tr>\n",
       "      <th>2020-03</th>\n",
       "      <td>82</td>\n",
       "      <td>31</td>\n",
       "      <td>280</td>\n",
       "    </tr>\n",
       "    <tr>\n",
       "      <th>2020-04</th>\n",
       "      <td>79</td>\n",
       "      <td>28</td>\n",
       "      <td>220</td>\n",
       "    </tr>\n",
       "  </tbody>\n",
       "</table>\n",
       "</div>"
      ],
      "text/plain": [
       "orientation  negative  neutral  positive\n",
       "month_text                              \n",
       "2019-05           113       22       238\n",
       "2019-06            85       16       213\n",
       "2019-07           123       28       301\n",
       "2019-08           109       19       283\n",
       "2019-09           126       39       269\n",
       "2019-10           161       81       311\n",
       "2019-11           101       48       214\n",
       "2019-12           124       52       250\n",
       "2020-01            90       39       214\n",
       "2020-02            84       39       227\n",
       "2020-03            82       31       280\n",
       "2020-04            79       28       220"
      ]
     },
     "execution_count": 129,
     "metadata": {},
     "output_type": "execute_result"
    }
   ],
   "source": [
    "# trump's orientation against month\n",
    "trump['month_text'] = trump['year'].astype(str) + '-' + trump['month'].astype(str).str.pad(side='left', \n",
    "                                                                                           fillchar='0', width=2) \n",
    "month_text = trump.groupby(['month_text', 'orientation']).size().unstack()\n",
    "month_text"
   ]
  },
  {
   "cell_type": "code",
   "execution_count": 131,
   "metadata": {},
   "outputs": [
    {
     "data": {
      "image/png": "[encoded data removed]",
      "text/plain": [
       "<Figure size 720x360 with 1 Axes>"
      ]
     },
     "metadata": {
      "needs_background": "light"
     },
     "output_type": "display_data"
    }
   ],
   "source": [
    "# trump's orientation against month\n",
    "# similar trends of all orientation in all months\n",
    "# except in 2020-03, there was an increase of amount of positive tweets, \n",
    "# but amount of negative and neutral tweets didn't change a lot\n",
    "month_text.plot(kind='line', figsize=(10, 5))\n",
    "plt.xlabel('')\n",
    "plt.title('orientation against month')\n",
    "plt.legend(bbox_to_anchor=(1,1), loc=\"upper left\")\n",
    "plt.show()"
   ]
  },
  {
   "cell_type": "markdown",
   "metadata": {},
   "source": [
    "### retweet_count"
   ]
  },
  {
   "cell_type": "code",
   "execution_count": 132,
   "metadata": {},
   "outputs": [
    {
     "data": {
      "text/html": [
       "<div>\n",
       "<style scoped>\n",
       "    .dataframe tbody tr th:only-of-type {\n",
       "        vertical-align: middle;\n",
       "    }\n",
       "\n",
       "    .dataframe tbody tr th {\n",
       "        vertical-align: top;\n",
       "    }\n",
       "\n",
       "    .dataframe thead th {\n",
       "        text-align: right;\n",
       "    }\n",
       "</style>\n",
       "<table border=\"1\" class=\"dataframe\">\n",
       "  <thead>\n",
       "    <tr style=\"text-align: right;\">\n",
       "      <th>orientation</th>\n",
       "      <th>negative</th>\n",
       "      <th>neutral</th>\n",
       "      <th>positive</th>\n",
       "    </tr>\n",
       "    <tr>\n",
       "      <th>hour</th>\n",
       "      <th></th>\n",
       "      <th></th>\n",
       "      <th></th>\n",
       "    </tr>\n",
       "  </thead>\n",
       "  <tbody>\n",
       "    <tr>\n",
       "      <th>0</th>\n",
       "      <td>21307.971429</td>\n",
       "      <td>15371.571429</td>\n",
       "      <td>18657.986486</td>\n",
       "    </tr>\n",
       "    <tr>\n",
       "      <th>1</th>\n",
       "      <td>18781.000000</td>\n",
       "      <td>16440.200000</td>\n",
       "      <td>18914.045455</td>\n",
       "    </tr>\n",
       "    <tr>\n",
       "      <th>2</th>\n",
       "      <td>17924.000000</td>\n",
       "      <td>NaN</td>\n",
       "      <td>18335.200000</td>\n",
       "    </tr>\n",
       "    <tr>\n",
       "      <th>3</th>\n",
       "      <td>41368.000000</td>\n",
       "      <td>13965.000000</td>\n",
       "      <td>17958.000000</td>\n",
       "    </tr>\n",
       "    <tr>\n",
       "      <th>4</th>\n",
       "      <td>22058.250000</td>\n",
       "      <td>19889.000000</td>\n",
       "      <td>12000.111111</td>\n",
       "    </tr>\n",
       "    <tr>\n",
       "      <th>5</th>\n",
       "      <td>18507.200000</td>\n",
       "      <td>12249.000000</td>\n",
       "      <td>17881.600000</td>\n",
       "    </tr>\n",
       "    <tr>\n",
       "      <th>6</th>\n",
       "      <td>18405.461538</td>\n",
       "      <td>17334.777778</td>\n",
       "      <td>18104.525773</td>\n",
       "    </tr>\n",
       "    <tr>\n",
       "      <th>7</th>\n",
       "      <td>20203.184000</td>\n",
       "      <td>19682.424242</td>\n",
       "      <td>16972.399160</td>\n",
       "    </tr>\n",
       "    <tr>\n",
       "      <th>8</th>\n",
       "      <td>21108.758621</td>\n",
       "      <td>20145.375000</td>\n",
       "      <td>18384.985866</td>\n",
       "    </tr>\n",
       "    <tr>\n",
       "      <th>9</th>\n",
       "      <td>21756.738806</td>\n",
       "      <td>15443.857143</td>\n",
       "      <td>17783.363636</td>\n",
       "    </tr>\n",
       "    <tr>\n",
       "      <th>10</th>\n",
       "      <td>20065.737288</td>\n",
       "      <td>20500.371429</td>\n",
       "      <td>19555.551331</td>\n",
       "    </tr>\n",
       "    <tr>\n",
       "      <th>11</th>\n",
       "      <td>21500.455882</td>\n",
       "      <td>20181.875000</td>\n",
       "      <td>18812.952055</td>\n",
       "    </tr>\n",
       "    <tr>\n",
       "      <th>12</th>\n",
       "      <td>22359.048780</td>\n",
       "      <td>20314.000000</td>\n",
       "      <td>19485.435644</td>\n",
       "    </tr>\n",
       "    <tr>\n",
       "      <th>13</th>\n",
       "      <td>22336.938776</td>\n",
       "      <td>20050.285714</td>\n",
       "      <td>20610.016949</td>\n",
       "    </tr>\n",
       "    <tr>\n",
       "      <th>14</th>\n",
       "      <td>23970.763636</td>\n",
       "      <td>24771.923077</td>\n",
       "      <td>18204.503937</td>\n",
       "    </tr>\n",
       "    <tr>\n",
       "      <th>15</th>\n",
       "      <td>22679.315789</td>\n",
       "      <td>20412.500000</td>\n",
       "      <td>20224.142857</td>\n",
       "    </tr>\n",
       "    <tr>\n",
       "      <th>16</th>\n",
       "      <td>21260.023810</td>\n",
       "      <td>18645.884615</td>\n",
       "      <td>19916.068493</td>\n",
       "    </tr>\n",
       "    <tr>\n",
       "      <th>17</th>\n",
       "      <td>23157.031746</td>\n",
       "      <td>24327.541667</td>\n",
       "      <td>19522.622754</td>\n",
       "    </tr>\n",
       "    <tr>\n",
       "      <th>18</th>\n",
       "      <td>24040.528302</td>\n",
       "      <td>17484.774194</td>\n",
       "      <td>20930.000000</td>\n",
       "    </tr>\n",
       "    <tr>\n",
       "      <th>19</th>\n",
       "      <td>20412.150943</td>\n",
       "      <td>17670.941176</td>\n",
       "      <td>15668.912752</td>\n",
       "    </tr>\n",
       "    <tr>\n",
       "      <th>20</th>\n",
       "      <td>21315.391304</td>\n",
       "      <td>20647.555556</td>\n",
       "      <td>18257.052980</td>\n",
       "    </tr>\n",
       "    <tr>\n",
       "      <th>21</th>\n",
       "      <td>24444.945946</td>\n",
       "      <td>20858.769231</td>\n",
       "      <td>19591.068966</td>\n",
       "    </tr>\n",
       "    <tr>\n",
       "      <th>22</th>\n",
       "      <td>20017.039216</td>\n",
       "      <td>20548.210526</td>\n",
       "      <td>17550.235294</td>\n",
       "    </tr>\n",
       "    <tr>\n",
       "      <th>23</th>\n",
       "      <td>18219.849057</td>\n",
       "      <td>15974.850000</td>\n",
       "      <td>17253.147287</td>\n",
       "    </tr>\n",
       "  </tbody>\n",
       "</table>\n",
       "</div>"
      ],
      "text/plain": [
       "orientation      negative       neutral      positive\n",
       "hour                                                 \n",
       "0            21307.971429  15371.571429  18657.986486\n",
       "1            18781.000000  16440.200000  18914.045455\n",
       "2            17924.000000           NaN  18335.200000\n",
       "3            41368.000000  13965.000000  17958.000000\n",
       "4            22058.250000  19889.000000  12000.111111\n",
       "5            18507.200000  12249.000000  17881.600000\n",
       "6            18405.461538  17334.777778  18104.525773\n",
       "7            20203.184000  19682.424242  16972.399160\n",
       "8            21108.758621  20145.375000  18384.985866\n",
       "9            21756.738806  15443.857143  17783.363636\n",
       "10           20065.737288  20500.371429  19555.551331\n",
       "11           21500.455882  20181.875000  18812.952055\n",
       "12           22359.048780  20314.000000  19485.435644\n",
       "13           22336.938776  20050.285714  20610.016949\n",
       "14           23970.763636  24771.923077  18204.503937\n",
       "15           22679.315789  20412.500000  20224.142857\n",
       "16           21260.023810  18645.884615  19916.068493\n",
       "17           23157.031746  24327.541667  19522.622754\n",
       "18           24040.528302  17484.774194  20930.000000\n",
       "19           20412.150943  17670.941176  15668.912752\n",
       "20           21315.391304  20647.555556  18257.052980\n",
       "21           24444.945946  20858.769231  19591.068966\n",
       "22           20017.039216  20548.210526  17550.235294\n",
       "23           18219.849057  15974.850000  17253.147287"
      ]
     },
     "execution_count": 132,
     "metadata": {},
     "output_type": "execute_result"
    }
   ],
   "source": [
    "# average retweet_count against hour\n",
    "hour = trump.groupby(['hour', 'orientation'])['retweet_count'].mean().unstack()\n",
    "hour"
   ]
  },
  {
   "cell_type": "code",
   "execution_count": 133,
   "metadata": {},
   "outputs": [
    {
     "data": {
      "image/png": "[encoded data removed]",
      "text/plain": [
       "<Figure size 720x360 with 1 Axes>"
      ]
     },
     "metadata": {
      "needs_background": "light"
     },
     "output_type": "display_data"
    }
   ],
   "source": [
    "# average retweet_count against hour\n",
    "# there were more retweets of trump's negative tweets in the midnight\n",
    "hour.plot(kind='line', figsize=(10, 5))\n",
    "plt.xlabel('')\n",
    "plt.title('average retweet_count against hour')\n",
    "plt.legend(bbox_to_anchor=(1,1), loc=\"upper left\")\n",
    "plt.show()"
   ]
  },
  {
   "cell_type": "code",
   "execution_count": 134,
   "metadata": {},
   "outputs": [
    {
     "data": {
      "text/html": [
       "<div>\n",
       "<style scoped>\n",
       "    .dataframe tbody tr th:only-of-type {\n",
       "        vertical-align: middle;\n",
       "    }\n",
       "\n",
       "    .dataframe tbody tr th {\n",
       "        vertical-align: top;\n",
       "    }\n",
       "\n",
       "    .dataframe thead th {\n",
       "        text-align: right;\n",
       "    }\n",
       "</style>\n",
       "<table border=\"1\" class=\"dataframe\">\n",
       "  <thead>\n",
       "    <tr style=\"text-align: right;\">\n",
       "      <th>orientation</th>\n",
       "      <th>negative</th>\n",
       "      <th>neutral</th>\n",
       "      <th>positive</th>\n",
       "    </tr>\n",
       "    <tr>\n",
       "      <th>day_of_week</th>\n",
       "      <th></th>\n",
       "      <th></th>\n",
       "      <th></th>\n",
       "    </tr>\n",
       "  </thead>\n",
       "  <tbody>\n",
       "    <tr>\n",
       "      <th>1</th>\n",
       "      <td>22076.062176</td>\n",
       "      <td>20564.600000</td>\n",
       "      <td>18892.578571</td>\n",
       "    </tr>\n",
       "    <tr>\n",
       "      <th>2</th>\n",
       "      <td>19543.380368</td>\n",
       "      <td>15680.148148</td>\n",
       "      <td>18601.538302</td>\n",
       "    </tr>\n",
       "    <tr>\n",
       "      <th>3</th>\n",
       "      <td>20896.010753</td>\n",
       "      <td>21125.036145</td>\n",
       "      <td>18283.209402</td>\n",
       "    </tr>\n",
       "    <tr>\n",
       "      <th>4</th>\n",
       "      <td>22322.743316</td>\n",
       "      <td>17478.666667</td>\n",
       "      <td>17496.331849</td>\n",
       "    </tr>\n",
       "    <tr>\n",
       "      <th>5</th>\n",
       "      <td>20320.970588</td>\n",
       "      <td>21146.869565</td>\n",
       "      <td>18602.251599</td>\n",
       "    </tr>\n",
       "    <tr>\n",
       "      <th>6</th>\n",
       "      <td>21897.585987</td>\n",
       "      <td>22959.290909</td>\n",
       "      <td>18645.206349</td>\n",
       "    </tr>\n",
       "    <tr>\n",
       "      <th>7</th>\n",
       "      <td>21695.298643</td>\n",
       "      <td>16769.603774</td>\n",
       "      <td>20425.903683</td>\n",
       "    </tr>\n",
       "  </tbody>\n",
       "</table>\n",
       "</div>"
      ],
      "text/plain": [
       "orientation      negative       neutral      positive\n",
       "day_of_week                                          \n",
       "1            22076.062176  20564.600000  18892.578571\n",
       "2            19543.380368  15680.148148  18601.538302\n",
       "3            20896.010753  21125.036145  18283.209402\n",
       "4            22322.743316  17478.666667  17496.331849\n",
       "5            20320.970588  21146.869565  18602.251599\n",
       "6            21897.585987  22959.290909  18645.206349\n",
       "7            21695.298643  16769.603774  20425.903683"
      ]
     },
     "execution_count": 134,
     "metadata": {},
     "output_type": "execute_result"
    }
   ],
   "source": [
    "# average retweet_count against day_of_week\n",
    "# 1 is Monday, etc\n",
    "day_of_week = trump.groupby(['day_of_week', 'orientation'])['retweet_count'].mean().unstack()\n",
    "day_of_week"
   ]
  },
  {
   "cell_type": "code",
   "execution_count": 135,
   "metadata": {},
   "outputs": [
    {
     "data": {
      "image/png": "[encoded data removed]",
      "text/plain": [
       "<Figure size 720x360 with 1 Axes>"
      ]
     },
     "metadata": {
      "needs_background": "light"
     },
     "output_type": "display_data"
    }
   ],
   "source": [
    "# average retweet_count against day_of_week\n",
    "# 1 is Monday, etc\n",
    "day_of_week.plot(kind='line', figsize=(10, 5))\n",
    "plt.xlabel('')\n",
    "plt.title('average retweet_count against day_of_week')\n",
    "plt.legend(bbox_to_anchor=(1,1), loc=\"upper left\")\n",
    "plt.show()"
   ]
  },
  {
   "cell_type": "code",
   "execution_count": 136,
   "metadata": {},
   "outputs": [
    {
     "data": {
      "text/html": [
       "<div>\n",
       "<style scoped>\n",
       "    .dataframe tbody tr th:only-of-type {\n",
       "        vertical-align: middle;\n",
       "    }\n",
       "\n",
       "    .dataframe tbody tr th {\n",
       "        vertical-align: top;\n",
       "    }\n",
       "\n",
       "    .dataframe thead th {\n",
       "        text-align: right;\n",
       "    }\n",
       "</style>\n",
       "<table border=\"1\" class=\"dataframe\">\n",
       "  <thead>\n",
       "    <tr style=\"text-align: right;\">\n",
       "      <th>orientation</th>\n",
       "      <th>negative</th>\n",
       "      <th>neutral</th>\n",
       "      <th>positive</th>\n",
       "    </tr>\n",
       "    <tr>\n",
       "      <th>month_text</th>\n",
       "      <th></th>\n",
       "      <th></th>\n",
       "      <th></th>\n",
       "    </tr>\n",
       "  </thead>\n",
       "  <tbody>\n",
       "    <tr>\n",
       "      <th>2019-05</th>\n",
       "      <td>18731.734513</td>\n",
       "      <td>16092.136364</td>\n",
       "      <td>17906.726891</td>\n",
       "    </tr>\n",
       "    <tr>\n",
       "      <th>2019-06</th>\n",
       "      <td>20338.011765</td>\n",
       "      <td>17718.625000</td>\n",
       "      <td>17074.244131</td>\n",
       "    </tr>\n",
       "    <tr>\n",
       "      <th>2019-07</th>\n",
       "      <td>22178.593496</td>\n",
       "      <td>17461.607143</td>\n",
       "      <td>18296.036545</td>\n",
       "    </tr>\n",
       "    <tr>\n",
       "      <th>2019-08</th>\n",
       "      <td>18682.385321</td>\n",
       "      <td>15876.052632</td>\n",
       "      <td>16400.759717</td>\n",
       "    </tr>\n",
       "    <tr>\n",
       "      <th>2019-09</th>\n",
       "      <td>16708.761905</td>\n",
       "      <td>18475.641026</td>\n",
       "      <td>14586.308550</td>\n",
       "    </tr>\n",
       "    <tr>\n",
       "      <th>2019-10</th>\n",
       "      <td>19242.571429</td>\n",
       "      <td>20611.617284</td>\n",
       "      <td>17029.485531</td>\n",
       "    </tr>\n",
       "    <tr>\n",
       "      <th>2019-11</th>\n",
       "      <td>17521.841584</td>\n",
       "      <td>17312.770833</td>\n",
       "      <td>17111.126168</td>\n",
       "    </tr>\n",
       "    <tr>\n",
       "      <th>2019-12</th>\n",
       "      <td>21522.274194</td>\n",
       "      <td>18565.288462</td>\n",
       "      <td>17432.480000</td>\n",
       "    </tr>\n",
       "    <tr>\n",
       "      <th>2020-01</th>\n",
       "      <td>24495.944444</td>\n",
       "      <td>20633.589744</td>\n",
       "      <td>23375.313084</td>\n",
       "    </tr>\n",
       "    <tr>\n",
       "      <th>2020-02</th>\n",
       "      <td>22605.952381</td>\n",
       "      <td>16785.076923</td>\n",
       "      <td>19477.885463</td>\n",
       "    </tr>\n",
       "    <tr>\n",
       "      <th>2020-03</th>\n",
       "      <td>26117.756098</td>\n",
       "      <td>23872.741935</td>\n",
       "      <td>22065.717857</td>\n",
       "    </tr>\n",
       "    <tr>\n",
       "      <th>2020-04</th>\n",
       "      <td>34147.189873</td>\n",
       "      <td>28156.392857</td>\n",
       "      <td>24660.845455</td>\n",
       "    </tr>\n",
       "  </tbody>\n",
       "</table>\n",
       "</div>"
      ],
      "text/plain": [
       "orientation      negative       neutral      positive\n",
       "month_text                                           \n",
       "2019-05      18731.734513  16092.136364  17906.726891\n",
       "2019-06      20338.011765  17718.625000  17074.244131\n",
       "2019-07      22178.593496  17461.607143  18296.036545\n",
       "2019-08      18682.385321  15876.052632  16400.759717\n",
       "2019-09      16708.761905  18475.641026  14586.308550\n",
       "2019-10      19242.571429  20611.617284  17029.485531\n",
       "2019-11      17521.841584  17312.770833  17111.126168\n",
       "2019-12      21522.274194  18565.288462  17432.480000\n",
       "2020-01      24495.944444  20633.589744  23375.313084\n",
       "2020-02      22605.952381  16785.076923  19477.885463\n",
       "2020-03      26117.756098  23872.741935  22065.717857\n",
       "2020-04      34147.189873  28156.392857  24660.845455"
      ]
     },
     "execution_count": 136,
     "metadata": {},
     "output_type": "execute_result"
    }
   ],
   "source": [
    "# average retweet_count against month\n",
    "trump['month_text'] = trump['year'].astype(str) + '-' + trump['month'].astype(str).str.pad(side='left', \n",
    "                                                                                           fillchar='0', width=2) \n",
    "month_text = trump.groupby(['month_text', 'orientation'])['retweet_count'].mean().unstack()\n",
    "month_text"
   ]
  },
  {
   "cell_type": "code",
   "execution_count": 137,
   "metadata": {},
   "outputs": [
    {
     "data": {
      "image/png": "[encoded data removed]",
      "text/plain": [
       "<Figure size 720x360 with 1 Axes>"
      ]
     },
     "metadata": {
      "needs_background": "light"
     },
     "output_type": "display_data"
    }
   ],
   "source": [
    "# average retweet_count against month\n",
    "# there was an increase of retweets in 2020-04\n",
    "month_text.plot(kind='line', figsize=(10, 5))\n",
    "plt.xlabel('')\n",
    "plt.title('average retweet_count against month')\n",
    "plt.legend(bbox_to_anchor=(1,1), loc=\"upper left\")\n",
    "plt.show()"
   ]
  },
  {
   "cell_type": "markdown",
   "metadata": {},
   "source": [
    "### favorite_count"
   ]
  },
  {
   "cell_type": "code",
   "execution_count": 138,
   "metadata": {},
   "outputs": [
    {
     "data": {
      "text/html": [
       "<div>\n",
       "<style scoped>\n",
       "    .dataframe tbody tr th:only-of-type {\n",
       "        vertical-align: middle;\n",
       "    }\n",
       "\n",
       "    .dataframe tbody tr th {\n",
       "        vertical-align: top;\n",
       "    }\n",
       "\n",
       "    .dataframe thead th {\n",
       "        text-align: right;\n",
       "    }\n",
       "</style>\n",
       "<table border=\"1\" class=\"dataframe\">\n",
       "  <thead>\n",
       "    <tr style=\"text-align: right;\">\n",
       "      <th>orientation</th>\n",
       "      <th>negative</th>\n",
       "      <th>neutral</th>\n",
       "      <th>positive</th>\n",
       "    </tr>\n",
       "    <tr>\n",
       "      <th>hour</th>\n",
       "      <th></th>\n",
       "      <th></th>\n",
       "      <th></th>\n",
       "    </tr>\n",
       "  </thead>\n",
       "  <tbody>\n",
       "    <tr>\n",
       "      <th>0</th>\n",
       "      <td>91915.000000</td>\n",
       "      <td>55101.714286</td>\n",
       "      <td>87828.581081</td>\n",
       "    </tr>\n",
       "    <tr>\n",
       "      <th>1</th>\n",
       "      <td>82990.714286</td>\n",
       "      <td>66822.000000</td>\n",
       "      <td>92140.727273</td>\n",
       "    </tr>\n",
       "    <tr>\n",
       "      <th>2</th>\n",
       "      <td>70353.500000</td>\n",
       "      <td>NaN</td>\n",
       "      <td>75769.000000</td>\n",
       "    </tr>\n",
       "    <tr>\n",
       "      <th>3</th>\n",
       "      <td>185292.000000</td>\n",
       "      <td>58419.000000</td>\n",
       "      <td>89541.666667</td>\n",
       "    </tr>\n",
       "    <tr>\n",
       "      <th>4</th>\n",
       "      <td>91575.250000</td>\n",
       "      <td>100713.000000</td>\n",
       "      <td>58948.111111</td>\n",
       "    </tr>\n",
       "    <tr>\n",
       "      <th>5</th>\n",
       "      <td>87012.400000</td>\n",
       "      <td>52913.000000</td>\n",
       "      <td>77847.100000</td>\n",
       "    </tr>\n",
       "    <tr>\n",
       "      <th>6</th>\n",
       "      <td>75956.692308</td>\n",
       "      <td>79579.888889</td>\n",
       "      <td>85864.288660</td>\n",
       "    </tr>\n",
       "    <tr>\n",
       "      <th>7</th>\n",
       "      <td>87987.656000</td>\n",
       "      <td>99233.454545</td>\n",
       "      <td>80839.218487</td>\n",
       "    </tr>\n",
       "    <tr>\n",
       "      <th>8</th>\n",
       "      <td>90574.868966</td>\n",
       "      <td>94791.875000</td>\n",
       "      <td>85945.996466</td>\n",
       "    </tr>\n",
       "    <tr>\n",
       "      <th>9</th>\n",
       "      <td>94133.895522</td>\n",
       "      <td>69373.785714</td>\n",
       "      <td>85163.250000</td>\n",
       "    </tr>\n",
       "    <tr>\n",
       "      <th>10</th>\n",
       "      <td>85199.576271</td>\n",
       "      <td>95545.371429</td>\n",
       "      <td>92757.882129</td>\n",
       "    </tr>\n",
       "    <tr>\n",
       "      <th>11</th>\n",
       "      <td>95888.426471</td>\n",
       "      <td>99206.791667</td>\n",
       "      <td>86374.404110</td>\n",
       "    </tr>\n",
       "    <tr>\n",
       "      <th>12</th>\n",
       "      <td>97934.317073</td>\n",
       "      <td>89495.521739</td>\n",
       "      <td>90421.554455</td>\n",
       "    </tr>\n",
       "    <tr>\n",
       "      <th>13</th>\n",
       "      <td>97350.877551</td>\n",
       "      <td>89758.428571</td>\n",
       "      <td>91566.745763</td>\n",
       "    </tr>\n",
       "    <tr>\n",
       "      <th>14</th>\n",
       "      <td>97076.981818</td>\n",
       "      <td>119002.153846</td>\n",
       "      <td>83634.842520</td>\n",
       "    </tr>\n",
       "    <tr>\n",
       "      <th>15</th>\n",
       "      <td>102555.868421</td>\n",
       "      <td>78504.050000</td>\n",
       "      <td>96871.214286</td>\n",
       "    </tr>\n",
       "    <tr>\n",
       "      <th>16</th>\n",
       "      <td>91232.428571</td>\n",
       "      <td>87997.769231</td>\n",
       "      <td>90889.376712</td>\n",
       "    </tr>\n",
       "    <tr>\n",
       "      <th>17</th>\n",
       "      <td>97759.603175</td>\n",
       "      <td>102647.125000</td>\n",
       "      <td>90543.820359</td>\n",
       "    </tr>\n",
       "    <tr>\n",
       "      <th>18</th>\n",
       "      <td>107872.245283</td>\n",
       "      <td>72553.032258</td>\n",
       "      <td>98713.847059</td>\n",
       "    </tr>\n",
       "    <tr>\n",
       "      <th>19</th>\n",
       "      <td>88360.169811</td>\n",
       "      <td>75943.647059</td>\n",
       "      <td>69082.463087</td>\n",
       "    </tr>\n",
       "    <tr>\n",
       "      <th>20</th>\n",
       "      <td>88103.891304</td>\n",
       "      <td>86704.000000</td>\n",
       "      <td>82619.331126</td>\n",
       "    </tr>\n",
       "    <tr>\n",
       "      <th>21</th>\n",
       "      <td>99537.432432</td>\n",
       "      <td>77857.538462</td>\n",
       "      <td>85777.198276</td>\n",
       "    </tr>\n",
       "    <tr>\n",
       "      <th>22</th>\n",
       "      <td>84354.882353</td>\n",
       "      <td>77557.473684</td>\n",
       "      <td>80718.899160</td>\n",
       "    </tr>\n",
       "    <tr>\n",
       "      <th>23</th>\n",
       "      <td>78427.905660</td>\n",
       "      <td>60212.950000</td>\n",
       "      <td>76874.953488</td>\n",
       "    </tr>\n",
       "  </tbody>\n",
       "</table>\n",
       "</div>"
      ],
      "text/plain": [
       "orientation       negative        neutral      positive\n",
       "hour                                                   \n",
       "0             91915.000000   55101.714286  87828.581081\n",
       "1             82990.714286   66822.000000  92140.727273\n",
       "2             70353.500000            NaN  75769.000000\n",
       "3            185292.000000   58419.000000  89541.666667\n",
       "4             91575.250000  100713.000000  58948.111111\n",
       "5             87012.400000   52913.000000  77847.100000\n",
       "6             75956.692308   79579.888889  85864.288660\n",
       "7             87987.656000   99233.454545  80839.218487\n",
       "8             90574.868966   94791.875000  85945.996466\n",
       "9             94133.895522   69373.785714  85163.250000\n",
       "10            85199.576271   95545.371429  92757.882129\n",
       "11            95888.426471   99206.791667  86374.404110\n",
       "12            97934.317073   89495.521739  90421.554455\n",
       "13            97350.877551   89758.428571  91566.745763\n",
       "14            97076.981818  119002.153846  83634.842520\n",
       "15           102555.868421   78504.050000  96871.214286\n",
       "16            91232.428571   87997.769231  90889.376712\n",
       "17            97759.603175  102647.125000  90543.820359\n",
       "18           107872.245283   72553.032258  98713.847059\n",
       "19            88360.169811   75943.647059  69082.463087\n",
       "20            88103.891304   86704.000000  82619.331126\n",
       "21            99537.432432   77857.538462  85777.198276\n",
       "22            84354.882353   77557.473684  80718.899160\n",
       "23            78427.905660   60212.950000  76874.953488"
      ]
     },
     "execution_count": 138,
     "metadata": {},
     "output_type": "execute_result"
    }
   ],
   "source": [
    "# average favorite_count against hour\n",
    "hour = trump.groupby(['hour', 'orientation'])['favorite_count'].mean().unstack()\n",
    "hour"
   ]
  },
  {
   "cell_type": "code",
   "execution_count": 139,
   "metadata": {},
   "outputs": [
    {
     "data": {
      "image/png": "[encoded data removed]",
      "text/plain": [
       "<Figure size 720x360 with 1 Axes>"
      ]
     },
     "metadata": {
      "needs_background": "light"
     },
     "output_type": "display_data"
    }
   ],
   "source": [
    "# average favorite_count against hour\n",
    "# there were more favorites of trump's negative tweets in the midnight\n",
    "hour.plot(kind='line', figsize=(10, 5))\n",
    "plt.xlabel('')\n",
    "plt.title('average favorite_count against hour')\n",
    "plt.legend(bbox_to_anchor=(1,1), loc=\"upper left\")\n",
    "plt.show()"
   ]
  },
  {
   "cell_type": "code",
   "execution_count": 140,
   "metadata": {},
   "outputs": [
    {
     "data": {
      "text/html": [
       "<div>\n",
       "<style scoped>\n",
       "    .dataframe tbody tr th:only-of-type {\n",
       "        vertical-align: middle;\n",
       "    }\n",
       "\n",
       "    .dataframe tbody tr th {\n",
       "        vertical-align: top;\n",
       "    }\n",
       "\n",
       "    .dataframe thead th {\n",
       "        text-align: right;\n",
       "    }\n",
       "</style>\n",
       "<table border=\"1\" class=\"dataframe\">\n",
       "  <thead>\n",
       "    <tr style=\"text-align: right;\">\n",
       "      <th>orientation</th>\n",
       "      <th>negative</th>\n",
       "      <th>neutral</th>\n",
       "      <th>positive</th>\n",
       "    </tr>\n",
       "    <tr>\n",
       "      <th>day_of_week</th>\n",
       "      <th></th>\n",
       "      <th></th>\n",
       "      <th></th>\n",
       "    </tr>\n",
       "  </thead>\n",
       "  <tbody>\n",
       "    <tr>\n",
       "      <th>1</th>\n",
       "      <td>94470.989637</td>\n",
       "      <td>97550.800000</td>\n",
       "      <td>87770.523810</td>\n",
       "    </tr>\n",
       "    <tr>\n",
       "      <th>2</th>\n",
       "      <td>84155.766871</td>\n",
       "      <td>70650.500000</td>\n",
       "      <td>85969.244306</td>\n",
       "    </tr>\n",
       "    <tr>\n",
       "      <th>3</th>\n",
       "      <td>89746.865591</td>\n",
       "      <td>92620.831325</td>\n",
       "      <td>84280.559829</td>\n",
       "    </tr>\n",
       "    <tr>\n",
       "      <th>4</th>\n",
       "      <td>94521.989305</td>\n",
       "      <td>76222.551282</td>\n",
       "      <td>81376.354120</td>\n",
       "    </tr>\n",
       "    <tr>\n",
       "      <th>5</th>\n",
       "      <td>86958.076471</td>\n",
       "      <td>89673.695652</td>\n",
       "      <td>83939.055437</td>\n",
       "    </tr>\n",
       "    <tr>\n",
       "      <th>6</th>\n",
       "      <td>94951.783439</td>\n",
       "      <td>98630.781818</td>\n",
       "      <td>87446.378307</td>\n",
       "    </tr>\n",
       "    <tr>\n",
       "      <th>7</th>\n",
       "      <td>94085.515837</td>\n",
       "      <td>72010.622642</td>\n",
       "      <td>97691.628895</td>\n",
       "    </tr>\n",
       "  </tbody>\n",
       "</table>\n",
       "</div>"
      ],
      "text/plain": [
       "orientation      negative       neutral      positive\n",
       "day_of_week                                          \n",
       "1            94470.989637  97550.800000  87770.523810\n",
       "2            84155.766871  70650.500000  85969.244306\n",
       "3            89746.865591  92620.831325  84280.559829\n",
       "4            94521.989305  76222.551282  81376.354120\n",
       "5            86958.076471  89673.695652  83939.055437\n",
       "6            94951.783439  98630.781818  87446.378307\n",
       "7            94085.515837  72010.622642  97691.628895"
      ]
     },
     "execution_count": 140,
     "metadata": {},
     "output_type": "execute_result"
    }
   ],
   "source": [
    "# average favorite_count against day_of_week\n",
    "# 1 is Monday, etc\n",
    "day_of_week = trump.groupby(['day_of_week', 'orientation'])['favorite_count'].mean().unstack()\n",
    "day_of_week"
   ]
  },
  {
   "cell_type": "code",
   "execution_count": 141,
   "metadata": {},
   "outputs": [
    {
     "data": {
      "image/png": "[encoded data removed]",
      "text/plain": [
       "<Figure size 720x360 with 1 Axes>"
      ]
     },
     "metadata": {
      "needs_background": "light"
     },
     "output_type": "display_data"
    }
   ],
   "source": [
    "# average favorite_count against day_of_week\n",
    "# 1 is Monday, etc\n",
    "day_of_week.plot(kind='line', figsize=(10, 5))\n",
    "plt.xlabel('')\n",
    "plt.title('average favorite_count against day_of_week')\n",
    "plt.legend(bbox_to_anchor=(1,1), loc=\"upper left\")\n",
    "plt.show()"
   ]
  },
  {
   "cell_type": "code",
   "execution_count": 142,
   "metadata": {},
   "outputs": [
    {
     "data": {
      "text/html": [
       "<div>\n",
       "<style scoped>\n",
       "    .dataframe tbody tr th:only-of-type {\n",
       "        vertical-align: middle;\n",
       "    }\n",
       "\n",
       "    .dataframe tbody tr th {\n",
       "        vertical-align: top;\n",
       "    }\n",
       "\n",
       "    .dataframe thead th {\n",
       "        text-align: right;\n",
       "    }\n",
       "</style>\n",
       "<table border=\"1\" class=\"dataframe\">\n",
       "  <thead>\n",
       "    <tr style=\"text-align: right;\">\n",
       "      <th>orientation</th>\n",
       "      <th>negative</th>\n",
       "      <th>neutral</th>\n",
       "      <th>positive</th>\n",
       "    </tr>\n",
       "    <tr>\n",
       "      <th>month_text</th>\n",
       "      <th></th>\n",
       "      <th></th>\n",
       "      <th></th>\n",
       "    </tr>\n",
       "  </thead>\n",
       "  <tbody>\n",
       "    <tr>\n",
       "      <th>2019-05</th>\n",
       "      <td>80459.778761</td>\n",
       "      <td>69535.136364</td>\n",
       "      <td>81997.584034</td>\n",
       "    </tr>\n",
       "    <tr>\n",
       "      <th>2019-06</th>\n",
       "      <td>91358.694118</td>\n",
       "      <td>84501.875000</td>\n",
       "      <td>82201.859155</td>\n",
       "    </tr>\n",
       "    <tr>\n",
       "      <th>2019-07</th>\n",
       "      <td>99363.869919</td>\n",
       "      <td>73730.357143</td>\n",
       "      <td>88481.820598</td>\n",
       "    </tr>\n",
       "    <tr>\n",
       "      <th>2019-08</th>\n",
       "      <td>83901.862385</td>\n",
       "      <td>68420.052632</td>\n",
       "      <td>75941.731449</td>\n",
       "    </tr>\n",
       "    <tr>\n",
       "      <th>2019-09</th>\n",
       "      <td>70040.880952</td>\n",
       "      <td>74341.153846</td>\n",
       "      <td>66439.576208</td>\n",
       "    </tr>\n",
       "    <tr>\n",
       "      <th>2019-10</th>\n",
       "      <td>77190.714286</td>\n",
       "      <td>81331.135802</td>\n",
       "      <td>71294.897106</td>\n",
       "    </tr>\n",
       "    <tr>\n",
       "      <th>2019-11</th>\n",
       "      <td>70464.237624</td>\n",
       "      <td>71206.750000</td>\n",
       "      <td>74673.233645</td>\n",
       "    </tr>\n",
       "    <tr>\n",
       "      <th>2019-12</th>\n",
       "      <td>87625.887097</td>\n",
       "      <td>83916.211538</td>\n",
       "      <td>75877.708000</td>\n",
       "    </tr>\n",
       "    <tr>\n",
       "      <th>2020-01</th>\n",
       "      <td>113005.733333</td>\n",
       "      <td>96642.128205</td>\n",
       "      <td>113767.242991</td>\n",
       "    </tr>\n",
       "    <tr>\n",
       "      <th>2020-02</th>\n",
       "      <td>95438.154762</td>\n",
       "      <td>74654.897436</td>\n",
       "      <td>91560.057269</td>\n",
       "    </tr>\n",
       "    <tr>\n",
       "      <th>2020-03</th>\n",
       "      <td>115081.036585</td>\n",
       "      <td>119202.096774</td>\n",
       "      <td>103793.321429</td>\n",
       "    </tr>\n",
       "    <tr>\n",
       "      <th>2020-04</th>\n",
       "      <td>148331.632911</td>\n",
       "      <td>137982.821429</td>\n",
       "      <td>122452.150000</td>\n",
       "    </tr>\n",
       "  </tbody>\n",
       "</table>\n",
       "</div>"
      ],
      "text/plain": [
       "orientation       negative        neutral       positive\n",
       "month_text                                              \n",
       "2019-05       80459.778761   69535.136364   81997.584034\n",
       "2019-06       91358.694118   84501.875000   82201.859155\n",
       "2019-07       99363.869919   73730.357143   88481.820598\n",
       "2019-08       83901.862385   68420.052632   75941.731449\n",
       "2019-09       70040.880952   74341.153846   66439.576208\n",
       "2019-10       77190.714286   81331.135802   71294.897106\n",
       "2019-11       70464.237624   71206.750000   74673.233645\n",
       "2019-12       87625.887097   83916.211538   75877.708000\n",
       "2020-01      113005.733333   96642.128205  113767.242991\n",
       "2020-02       95438.154762   74654.897436   91560.057269\n",
       "2020-03      115081.036585  119202.096774  103793.321429\n",
       "2020-04      148331.632911  137982.821429  122452.150000"
      ]
     },
     "execution_count": 142,
     "metadata": {},
     "output_type": "execute_result"
    }
   ],
   "source": [
    "# average favorite_count against month\n",
    "trump['month_text'] = trump['year'].astype(str) + '-' + trump['month'].astype(str).str.pad(side='left', \n",
    "                                                                                           fillchar='0', width=2) \n",
    "month_text = trump.groupby(['month_text', 'orientation'])['favorite_count'].mean().unstack()\n",
    "month_text"
   ]
  },
  {
   "cell_type": "code",
   "execution_count": 143,
   "metadata": {},
   "outputs": [
    {
     "data": {
      "image/png": "[encoded data removed]",
      "text/plain": [
       "<Figure size 720x360 with 1 Axes>"
      ]
     },
     "metadata": {
      "needs_background": "light"
     },
     "output_type": "display_data"
    }
   ],
   "source": [
    "# average favorite_count against month\n",
    "# there was an increase of favorites in 2020-04\n",
    "month_text.plot(kind='line', figsize=(10, 5))\n",
    "plt.xlabel('')\n",
    "plt.title('average favorite_count against month')\n",
    "plt.legend(bbox_to_anchor=(1,1), loc=\"upper left\")\n",
    "plt.show()"
   ]
  },
  {
   "cell_type": "code",
   "execution_count": null,
   "metadata": {},
   "outputs": [],
   "source": []
  }
 ],
 "metadata": {
  "kernelspec": {
   "display_name": "Python 3",
   "language": "python",
   "name": "python3"
  },
  "language_info": {
   "codemirror_mode": {
    "name": "ipython",
    "version": 3
   },
   "file_extension": ".py",
   "mimetype": "text/x-python",
   "name": "python",
   "nbconvert_exporter": "python",
   "pygments_lexer": "ipython3",
   "version": "3.7.3"
  }
 },
 "nbformat": 4,
 "nbformat_minor": 2
}
